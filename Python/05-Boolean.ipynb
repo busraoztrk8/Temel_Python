{
 "cells": [
  {
   "cell_type": "code",
   "execution_count": 1,
   "id": "b8e43ce5",
   "metadata": {},
   "outputs": [],
   "source": [
    "#sadece true ya da false değerini alır\n",
    "benimBoolean=True"
   ]
  },
  {
   "cell_type": "code",
   "execution_count": 2,
   "id": "292d33c9",
   "metadata": {},
   "outputs": [
    {
     "data": {
      "text/plain": [
       "True"
      ]
     },
     "execution_count": 2,
     "metadata": {},
     "output_type": "execute_result"
    }
   ],
   "source": [
    "benimBoolean"
   ]
  },
  {
   "cell_type": "code",
   "execution_count": 3,
   "id": "278905e8",
   "metadata": {},
   "outputs": [
    {
     "data": {
      "text/plain": [
       "bool"
      ]
     },
     "execution_count": 3,
     "metadata": {},
     "output_type": "execute_result"
    }
   ],
   "source": [
    "type(benimBoolean)"
   ]
  },
  {
   "cell_type": "code",
   "execution_count": 4,
   "id": "14cfe414",
   "metadata": {},
   "outputs": [],
   "source": [
    "benimBoolean=False"
   ]
  },
  {
   "cell_type": "code",
   "execution_count": 5,
   "id": "38ea08ad",
   "metadata": {},
   "outputs": [
    {
     "data": {
      "text/plain": [
       "True"
      ]
     },
     "execution_count": 5,
     "metadata": {},
     "output_type": "execute_result"
    }
   ],
   "source": [
    "10>5"
   ]
  },
  {
   "cell_type": "code",
   "execution_count": 6,
   "id": "c6afcc29",
   "metadata": {},
   "outputs": [
    {
     "data": {
      "text/plain": [
       "False"
      ]
     },
     "execution_count": 6,
     "metadata": {},
     "output_type": "execute_result"
    }
   ],
   "source": [
    "10<5"
   ]
  },
  {
   "cell_type": "code",
   "execution_count": 7,
   "id": "dc1a9112",
   "metadata": {},
   "outputs": [],
   "source": [
    "listem=[5000,10000,3000,1000,2000,4000]"
   ]
  },
  {
   "cell_type": "code",
   "execution_count": 8,
   "id": "a90a7fe9",
   "metadata": {},
   "outputs": [
    {
     "data": {
      "text/plain": [
       "6"
      ]
     },
     "execution_count": 8,
     "metadata": {},
     "output_type": "execute_result"
    }
   ],
   "source": [
    "len(listem)"
   ]
  },
  {
   "cell_type": "code",
   "execution_count": 9,
   "id": "93574a5c",
   "metadata": {},
   "outputs": [
    {
     "data": {
      "text/plain": [
       "25000"
      ]
     },
     "execution_count": 9,
     "metadata": {},
     "output_type": "execute_result"
    }
   ],
   "source": [
    "#sum toplamak\n",
    "sum(listem)"
   ]
  },
  {
   "cell_type": "code",
   "execution_count": 12,
   "id": "8b7c8ed2",
   "metadata": {},
   "outputs": [],
   "source": [
    "ortalama=sum(listem)/len(listem)"
   ]
  },
  {
   "cell_type": "code",
   "execution_count": 13,
   "id": "bae10f73",
   "metadata": {},
   "outputs": [
    {
     "data": {
      "text/plain": [
       "4166.666666666667"
      ]
     },
     "execution_count": 13,
     "metadata": {},
     "output_type": "execute_result"
    }
   ],
   "source": [
    "ortalama"
   ]
  },
  {
   "cell_type": "code",
   "execution_count": 14,
   "id": "445932fa",
   "metadata": {},
   "outputs": [
    {
     "data": {
      "text/plain": [
       "False"
      ]
     },
     "execution_count": 14,
     "metadata": {},
     "output_type": "execute_result"
    }
   ],
   "source": [
    "listem[3]>ortalama"
   ]
  },
  {
   "cell_type": "code",
   "execution_count": 16,
   "id": "afbb4f3f",
   "metadata": {},
   "outputs": [
    {
     "name": "stdout",
     "output_type": "stream",
     "text": [
      "Maaş bilgisini giriniz: 6000\n"
     ]
    }
   ],
   "source": [
    "kullaniciMaas=input(\"Maaş bilgisini giriniz: \")"
   ]
  },
  {
   "cell_type": "code",
   "execution_count": 19,
   "id": "0a32baee",
   "metadata": {},
   "outputs": [],
   "source": [
    "#kullaniciMaas>=6000  hata verir birisi string diğeri int\n",
    "kullaniciMaasInt=int(kullaniciMaas)"
   ]
  },
  {
   "cell_type": "code",
   "execution_count": 22,
   "id": "b0be489b",
   "metadata": {},
   "outputs": [
    {
     "data": {
      "text/plain": [
       "True"
      ]
     },
     "execution_count": 22,
     "metadata": {},
     "output_type": "execute_result"
    }
   ],
   "source": [
    "kullaniciMaasInt>ortalama"
   ]
  },
  {
   "cell_type": "code",
   "execution_count": 1,
   "id": "5f144b45",
   "metadata": {},
   "outputs": [],
   "source": [
    "x=10\n",
    "y=8"
   ]
  },
  {
   "cell_type": "code",
   "execution_count": 2,
   "id": "d7f2b161",
   "metadata": {},
   "outputs": [
    {
     "data": {
      "text/plain": [
       "True"
      ]
     },
     "execution_count": 2,
     "metadata": {},
     "output_type": "execute_result"
    }
   ],
   "source": [
    "x>y"
   ]
  },
  {
   "cell_type": "code",
   "execution_count": 3,
   "id": "e36b915f",
   "metadata": {},
   "outputs": [],
   "source": [
    "x=y"
   ]
  },
  {
   "cell_type": "code",
   "execution_count": 4,
   "id": "5d5dd325",
   "metadata": {},
   "outputs": [
    {
     "data": {
      "text/plain": [
       "8"
      ]
     },
     "execution_count": 4,
     "metadata": {},
     "output_type": "execute_result"
    }
   ],
   "source": [
    "x"
   ]
  },
  {
   "cell_type": "code",
   "execution_count": 5,
   "id": "b981613f",
   "metadata": {},
   "outputs": [
    {
     "data": {
      "text/plain": [
       "8"
      ]
     },
     "execution_count": 5,
     "metadata": {},
     "output_type": "execute_result"
    }
   ],
   "source": [
    "y"
   ]
  },
  {
   "cell_type": "code",
   "execution_count": 6,
   "id": "199f092f",
   "metadata": {},
   "outputs": [],
   "source": [
    "x=10"
   ]
  },
  {
   "cell_type": "code",
   "execution_count": 7,
   "id": "97b4cd1e",
   "metadata": {},
   "outputs": [],
   "source": [
    "y=8"
   ]
  },
  {
   "cell_type": "code",
   "execution_count": 8,
   "id": "a1f13646",
   "metadata": {},
   "outputs": [
    {
     "data": {
      "text/plain": [
       "False"
      ]
     },
     "execution_count": 8,
     "metadata": {},
     "output_type": "execute_result"
    }
   ],
   "source": [
    "x==y #bu karşılaştırma olur"
   ]
  },
  {
   "cell_type": "code",
   "execution_count": 9,
   "id": "4abbe617",
   "metadata": {},
   "outputs": [
    {
     "data": {
      "text/plain": [
       "True"
      ]
     },
     "execution_count": 9,
     "metadata": {},
     "output_type": "execute_result"
    }
   ],
   "source": [
    "x!=y"
   ]
  },
  {
   "cell_type": "code",
   "execution_count": 10,
   "id": "a22fd6be",
   "metadata": {},
   "outputs": [
    {
     "data": {
      "text/plain": [
       "False"
      ]
     },
     "execution_count": 10,
     "metadata": {},
     "output_type": "execute_result"
    }
   ],
   "source": [
    "1>3 and 3>2"
   ]
  },
  {
   "cell_type": "code",
   "execution_count": 11,
   "id": "a79b40af",
   "metadata": {},
   "outputs": [
    {
     "data": {
      "text/plain": [
       "True"
      ]
     },
     "execution_count": 11,
     "metadata": {},
     "output_type": "execute_result"
    }
   ],
   "source": [
    "3>1 and 3>2"
   ]
  },
  {
   "cell_type": "code",
   "execution_count": 12,
   "id": "f6b7c809",
   "metadata": {},
   "outputs": [
    {
     "data": {
      "text/plain": [
       "True"
      ]
     },
     "execution_count": 12,
     "metadata": {},
     "output_type": "execute_result"
    }
   ],
   "source": [
    "1>3 or 3>2"
   ]
  },
  {
   "cell_type": "code",
   "execution_count": 13,
   "id": "6b1bc9d2",
   "metadata": {},
   "outputs": [
    {
     "data": {
      "text/plain": [
       "True"
      ]
     },
     "execution_count": 13,
     "metadata": {},
     "output_type": "execute_result"
    }
   ],
   "source": [
    "1>3 or 3>2 #or veya demek"
   ]
  },
  {
   "cell_type": "code",
   "execution_count": 14,
   "id": "d1c63b01",
   "metadata": {},
   "outputs": [],
   "source": [
    "#not bir şeyi olumsuz yapıyor"
   ]
  },
  {
   "cell_type": "code",
   "execution_count": 15,
   "id": "37319054",
   "metadata": {},
   "outputs": [
    {
     "data": {
      "text/plain": [
       "False"
      ]
     },
     "execution_count": 15,
     "metadata": {},
     "output_type": "execute_result"
    }
   ],
   "source": [
    "not 5==5"
   ]
  },
  {
   "cell_type": "code",
   "execution_count": 16,
   "id": "95f8801e",
   "metadata": {},
   "outputs": [
    {
     "data": {
      "text/plain": [
       "True"
      ]
     },
     "execution_count": 16,
     "metadata": {},
     "output_type": "execute_result"
    }
   ],
   "source": [
    "5==5"
   ]
  },
  {
   "cell_type": "code",
   "execution_count": null,
   "id": "48a0eae6",
   "metadata": {},
   "outputs": [],
   "source": []
  }
 ],
 "metadata": {
  "kernelspec": {
   "display_name": "Python 3 (ipykernel)",
   "language": "python",
   "name": "python3"
  },
  "language_info": {
   "codemirror_mode": {
    "name": "ipython",
    "version": 3
   },
   "file_extension": ".py",
   "mimetype": "text/x-python",
   "name": "python",
   "nbconvert_exporter": "python",
   "pygments_lexer": "ipython3",
   "version": "3.11.4"
  }
 },
 "nbformat": 4,
 "nbformat_minor": 5
}
