{
 "cells": [
  {
   "cell_type": "code",
   "execution_count": 1,
   "id": "4720b001",
   "metadata": {},
   "outputs": [],
   "source": [
    "benimString=\"Büşra Öztürk\""
   ]
  },
  {
   "cell_type": "code",
   "execution_count": 2,
   "id": "87e89109",
   "metadata": {},
   "outputs": [
    {
     "data": {
      "text/plain": [
       "'ş'"
      ]
     },
     "execution_count": 2,
     "metadata": {},
     "output_type": "execute_result"
    }
   ],
   "source": [
    "benimString[2]"
   ]
  },
  {
   "cell_type": "code",
   "execution_count": 3,
   "id": "36159190",
   "metadata": {},
   "outputs": [],
   "source": [
    "#immutability (Değişmezlik) & mutable(Değişebilir)\n",
    "#benimString[0]=\"ü\" hata verir"
   ]
  },
  {
   "cell_type": "code",
   "execution_count": 4,
   "id": "ac534952",
   "metadata": {},
   "outputs": [],
   "source": [
    "benimListem=[10,20,30,40]"
   ]
  },
  {
   "cell_type": "code",
   "execution_count": 5,
   "id": "4d9729d6",
   "metadata": {},
   "outputs": [
    {
     "data": {
      "text/plain": [
       "list"
      ]
     },
     "execution_count": 5,
     "metadata": {},
     "output_type": "execute_result"
    }
   ],
   "source": [
    "type(benimListem)"
   ]
  },
  {
   "cell_type": "code",
   "execution_count": 6,
   "id": "ca7b9a5e",
   "metadata": {},
   "outputs": [],
   "source": [
    "benimNumaram=10\n",
    "benimDigerNumaram=20"
   ]
  },
  {
   "cell_type": "code",
   "execution_count": 7,
   "id": "b1f45c41",
   "metadata": {},
   "outputs": [],
   "source": [
    "benimNumaraListem=[benimNumaram,benimDigerNumaram]"
   ]
  },
  {
   "cell_type": "code",
   "execution_count": 10,
   "id": "5853097a",
   "metadata": {},
   "outputs": [
    {
     "data": {
      "text/plain": [
       "40"
      ]
     },
     "execution_count": 10,
     "metadata": {},
     "output_type": "execute_result"
    }
   ],
   "source": [
    "benimListem[3]"
   ]
  },
  {
   "cell_type": "code",
   "execution_count": 9,
   "id": "ddb2865d",
   "metadata": {},
   "outputs": [
    {
     "data": {
      "text/plain": [
       "10"
      ]
     },
     "execution_count": 9,
     "metadata": {},
     "output_type": "execute_result"
    }
   ],
   "source": [
    "benimNumaraListem[0]"
   ]
  },
  {
   "cell_type": "code",
   "execution_count": 11,
   "id": "810ab229",
   "metadata": {},
   "outputs": [
    {
     "data": {
      "text/plain": [
       "[10, 20, 30, 40]"
      ]
     },
     "execution_count": 11,
     "metadata": {},
     "output_type": "execute_result"
    }
   ],
   "source": [
    "benimListem"
   ]
  },
  {
   "cell_type": "code",
   "execution_count": 12,
   "id": "56725789",
   "metadata": {},
   "outputs": [],
   "source": [
    "benimListem[0]=100 #yeni değer atayabiliyoruz"
   ]
  },
  {
   "cell_type": "code",
   "execution_count": 13,
   "id": "ed81d373",
   "metadata": {},
   "outputs": [
    {
     "data": {
      "text/plain": [
       "[100, 20, 30, 40]"
      ]
     },
     "execution_count": 13,
     "metadata": {},
     "output_type": "execute_result"
    }
   ],
   "source": [
    "benimListem"
   ]
  },
  {
   "cell_type": "code",
   "execution_count": 14,
   "id": "0f71696c",
   "metadata": {},
   "outputs": [],
   "source": [
    "#append:eklemek\n",
    "benimListem.append(50)"
   ]
  },
  {
   "cell_type": "code",
   "execution_count": 15,
   "id": "fedbc933",
   "metadata": {},
   "outputs": [
    {
     "data": {
      "text/plain": [
       "[100, 20, 30, 40, 50]"
      ]
     },
     "execution_count": 15,
     "metadata": {},
     "output_type": "execute_result"
    }
   ],
   "source": [
    "benimListem"
   ]
  },
  {
   "cell_type": "code",
   "execution_count": 2,
   "id": "ee3c26ab",
   "metadata": {},
   "outputs": [],
   "source": [
    "benimListem=[10,20,30,40]"
   ]
  },
  {
   "cell_type": "code",
   "execution_count": 3,
   "id": "8e1c1a5a",
   "metadata": {},
   "outputs": [
    {
     "data": {
      "text/plain": [
       "[10, 20, 30, 40]"
      ]
     },
     "execution_count": 3,
     "metadata": {},
     "output_type": "execute_result"
    }
   ],
   "source": [
    "benimListem"
   ]
  },
  {
   "cell_type": "code",
   "execution_count": 4,
   "id": "34715748",
   "metadata": {},
   "outputs": [
    {
     "data": {
      "text/plain": [
       "40"
      ]
     },
     "execution_count": 4,
     "metadata": {},
     "output_type": "execute_result"
    }
   ],
   "source": [
    "# pop son elemanı atmaya yatıyor\n",
    "benimListem.pop()"
   ]
  },
  {
   "cell_type": "code",
   "execution_count": 10,
   "id": "cd11fb0c",
   "metadata": {},
   "outputs": [],
   "source": [
    "#benimListem \n",
    "#40 yok onu pop ile attı"
   ]
  },
  {
   "cell_type": "code",
   "execution_count": 6,
   "id": "d26543ba",
   "metadata": {},
   "outputs": [],
   "source": [
    "# reserve: ters çevirir\n",
    "# remove: çıkarmak, yok etmek\n",
    "# count: saymak\n",
    "benimListem.append(50)"
   ]
  },
  {
   "cell_type": "code",
   "execution_count": 7,
   "id": "b8a922cc",
   "metadata": {},
   "outputs": [
    {
     "data": {
      "text/plain": [
       "[10, 20, 30, 50]"
      ]
     },
     "execution_count": 7,
     "metadata": {},
     "output_type": "execute_result"
    }
   ],
   "source": [
    "benimListem"
   ]
  },
  {
   "cell_type": "code",
   "execution_count": 8,
   "id": "56413fc7",
   "metadata": {},
   "outputs": [],
   "source": [
    "benimListem.remove(50)"
   ]
  },
  {
   "cell_type": "code",
   "execution_count": 9,
   "id": "f46e9fd1",
   "metadata": {},
   "outputs": [
    {
     "data": {
      "text/plain": [
       "[10, 20, 30]"
      ]
     },
     "execution_count": 9,
     "metadata": {},
     "output_type": "execute_result"
    }
   ],
   "source": [
    "benimListem"
   ]
  },
  {
   "cell_type": "code",
   "execution_count": 11,
   "id": "d07ebc03",
   "metadata": {},
   "outputs": [
    {
     "data": {
      "text/plain": [
       "1"
      ]
     },
     "execution_count": 11,
     "metadata": {},
     "output_type": "execute_result"
    }
   ],
   "source": [
    "benimListem.count(20)"
   ]
  },
  {
   "cell_type": "code",
   "execution_count": 12,
   "id": "ac6ba297",
   "metadata": {},
   "outputs": [],
   "source": [
    "benimStringListem=[\"büşra\",\"öznur\",\"ali\",\"yasin\"]"
   ]
  },
  {
   "cell_type": "code",
   "execution_count": 13,
   "id": "d47f6b47",
   "metadata": {},
   "outputs": [],
   "source": [
    "benimDigerLlistem=[\"mehmet\",\"salih\",\"hakan\",\"atlas\"]"
   ]
  },
  {
   "cell_type": "code",
   "execution_count": 14,
   "id": "f5dbf041",
   "metadata": {},
   "outputs": [
    {
     "data": {
      "text/plain": [
       "'hakan'"
      ]
     },
     "execution_count": 14,
     "metadata": {},
     "output_type": "execute_result"
    }
   ],
   "source": [
    "benimDigerLlistem[2]  # 0'dan başlıyor!"
   ]
  },
  {
   "cell_type": "code",
   "execution_count": 15,
   "id": "05c04cdc",
   "metadata": {},
   "outputs": [],
   "source": [
    "benimToplamaListem=benimStringListem+benimDigerLlistem"
   ]
  },
  {
   "cell_type": "code",
   "execution_count": 16,
   "id": "49391ded",
   "metadata": {},
   "outputs": [
    {
     "data": {
      "text/plain": [
       "['büşra', 'öznur', 'ali', 'yasin', 'mehmet', 'salih', 'hakan', 'atlas']"
      ]
     },
     "execution_count": 16,
     "metadata": {},
     "output_type": "execute_result"
    }
   ],
   "source": [
    "benimToplamaListem"
   ]
  },
  {
   "cell_type": "code",
   "execution_count": 17,
   "id": "e5455ce5",
   "metadata": {},
   "outputs": [
    {
     "data": {
      "text/plain": [
       "['büşra',\n",
       " 'öznur',\n",
       " 'ali',\n",
       " 'yasin',\n",
       " 'büşra',\n",
       " 'öznur',\n",
       " 'ali',\n",
       " 'yasin',\n",
       " 'büşra',\n",
       " 'öznur',\n",
       " 'ali',\n",
       " 'yasin',\n",
       " 'büşra',\n",
       " 'öznur',\n",
       " 'ali',\n",
       " 'yasin',\n",
       " 'büşra',\n",
       " 'öznur',\n",
       " 'ali',\n",
       " 'yasin']"
      ]
     },
     "execution_count": 17,
     "metadata": {},
     "output_type": "execute_result"
    }
   ],
   "source": [
    "benimStringListem*5"
   ]
  },
  {
   "cell_type": "code",
   "execution_count": 19,
   "id": "bdb54908",
   "metadata": {},
   "outputs": [],
   "source": [
    "benimToplamaListem.reverse()"
   ]
  },
  {
   "cell_type": "code",
   "execution_count": 20,
   "id": "b3d11367",
   "metadata": {},
   "outputs": [
    {
     "data": {
      "text/plain": [
       "['atlas', 'hakan', 'salih', 'mehmet', 'yasin', 'ali', 'öznur', 'büşra']"
      ]
     },
     "execution_count": 20,
     "metadata": {},
     "output_type": "execute_result"
    }
   ],
   "source": [
    "benimToplamaListem"
   ]
  },
  {
   "cell_type": "code",
   "execution_count": 21,
   "id": "c7c051ee",
   "metadata": {},
   "outputs": [],
   "source": [
    "karisikListe=[1.2,3.5,\"büşra\",9]"
   ]
  },
  {
   "cell_type": "code",
   "execution_count": 22,
   "id": "948a2216",
   "metadata": {},
   "outputs": [
    {
     "data": {
      "text/plain": [
       "list"
      ]
     },
     "execution_count": 22,
     "metadata": {},
     "output_type": "execute_result"
    }
   ],
   "source": [
    "type(karisikListe)"
   ]
  },
  {
   "cell_type": "code",
   "execution_count": 25,
   "id": "ef9d7b9f",
   "metadata": {},
   "outputs": [
    {
     "data": {
      "text/plain": [
       "'büşra'"
      ]
     },
     "execution_count": 25,
     "metadata": {},
     "output_type": "execute_result"
    }
   ],
   "source": [
    "sonucum=karisikListe[0]\n",
    "karisikListe[2]"
   ]
  },
  {
   "cell_type": "code",
   "execution_count": 26,
   "id": "a43a48e0",
   "metadata": {},
   "outputs": [
    {
     "data": {
      "text/plain": [
       "float"
      ]
     },
     "execution_count": 26,
     "metadata": {},
     "output_type": "execute_result"
    }
   ],
   "source": [
    "type(sonucum)"
   ]
  },
  {
   "cell_type": "code",
   "execution_count": 28,
   "id": "01f489ae",
   "metadata": {},
   "outputs": [],
   "source": [
    "#Bir biri içine geçmiş \n",
    "nestedList=[1,5,\"atıl\",4,[6,\"z\"]]"
   ]
  },
  {
   "cell_type": "code",
   "execution_count": 29,
   "id": "131c33a6",
   "metadata": {},
   "outputs": [
    {
     "data": {
      "text/plain": [
       "list"
      ]
     },
     "execution_count": 29,
     "metadata": {},
     "output_type": "execute_result"
    }
   ],
   "source": [
    "type(nestedList[4])"
   ]
  },
  {
   "cell_type": "code",
   "execution_count": 30,
   "id": "e723e207",
   "metadata": {},
   "outputs": [
    {
     "data": {
      "text/plain": [
       "[6, 'z']"
      ]
     },
     "execution_count": 30,
     "metadata": {},
     "output_type": "execute_result"
    }
   ],
   "source": [
    "nestedList[4]"
   ]
  },
  {
   "cell_type": "code",
   "execution_count": 36,
   "id": "8c4afe3f",
   "metadata": {},
   "outputs": [],
   "source": [
    "nestedList=[1,5,\"atıl\",4,[6,\"z\"]]"
   ]
  },
  {
   "cell_type": "code",
   "execution_count": 39,
   "id": "0a58f2b2",
   "metadata": {},
   "outputs": [],
   "source": [
    "zDegiskenimiz=nestedList[4][1]"
   ]
  },
  {
   "cell_type": "code",
   "execution_count": 40,
   "id": "95d8b40e",
   "metadata": {},
   "outputs": [
    {
     "data": {
      "text/plain": [
       "'z'"
      ]
     },
     "execution_count": 40,
     "metadata": {},
     "output_type": "execute_result"
    }
   ],
   "source": [
    "zDegiskenimiz"
   ]
  },
  {
   "cell_type": "code",
   "execution_count": 42,
   "id": "172c4667",
   "metadata": {},
   "outputs": [],
   "source": [
    "karmasikListe=[[1,2,3,[\"a\",\"b\"],50],40,20,[\"z\",5.5],[3,[\"a\"]]]"
   ]
  },
  {
   "cell_type": "code",
   "execution_count": 47,
   "id": "3682d8a2",
   "metadata": {},
   "outputs": [
    {
     "data": {
      "text/plain": [
       "'b'"
      ]
     },
     "execution_count": 47,
     "metadata": {},
     "output_type": "execute_result"
    }
   ],
   "source": [
    "#b'yi bir değişkene almaya çalış\n",
    "bDegiskenimiz = karmasikListe[0][3][1]\n",
    "bDegiskenimiz"
   ]
  },
  {
   "cell_type": "code",
   "execution_count": 49,
   "id": "612c8274",
   "metadata": {},
   "outputs": [],
   "source": [
    "nestedList=[1,5,\"atıl\",4,[6,\"z\"]]"
   ]
  },
  {
   "cell_type": "code",
   "execution_count": 50,
   "id": "71a89c2b",
   "metadata": {},
   "outputs": [
    {
     "data": {
      "text/plain": [
       "[1, 5, 'atıl', 4, [6, 'z']]"
      ]
     },
     "execution_count": 50,
     "metadata": {},
     "output_type": "execute_result"
    }
   ],
   "source": [
    "nestedList"
   ]
  },
  {
   "cell_type": "code",
   "execution_count": 51,
   "id": "fc6703e5",
   "metadata": {},
   "outputs": [
    {
     "data": {
      "text/plain": [
       "['atıl', 4, [6, 'z']]"
      ]
     },
     "execution_count": 51,
     "metadata": {},
     "output_type": "execute_result"
    }
   ],
   "source": [
    "nestedList[2:]"
   ]
  },
  {
   "cell_type": "code",
   "execution_count": 52,
   "id": "960dc39e",
   "metadata": {},
   "outputs": [
    {
     "data": {
      "text/plain": [
       "[1, 5]"
      ]
     },
     "execution_count": 52,
     "metadata": {},
     "output_type": "execute_result"
    }
   ],
   "source": [
    "nestedList[:2]"
   ]
  },
  {
   "cell_type": "code",
   "execution_count": 54,
   "id": "0673cd41",
   "metadata": {},
   "outputs": [],
   "source": [
    "karisik=[\"a\",[2,4.5,[9.8,1,\"b\"]],[\"g\",0,7,8],7,5,4]"
   ]
  },
  {
   "cell_type": "code",
   "execution_count": 55,
   "id": "0b5d0efb",
   "metadata": {},
   "outputs": [
    {
     "data": {
      "text/plain": [
       "['a', [2, 4.5, [9.8, 1, 'b']], ['g', 0, 7, 8], 7, 5, 4]"
      ]
     },
     "execution_count": 55,
     "metadata": {},
     "output_type": "execute_result"
    }
   ],
   "source": [
    "karisik"
   ]
  },
  {
   "cell_type": "code",
   "execution_count": 56,
   "id": "8478e10a",
   "metadata": {},
   "outputs": [
    {
     "data": {
      "text/plain": [
       "'b'"
      ]
     },
     "execution_count": 56,
     "metadata": {},
     "output_type": "execute_result"
    }
   ],
   "source": [
    "karisik[1][2][2]"
   ]
  },
  {
   "cell_type": "code",
   "execution_count": null,
   "id": "c3cbb57d",
   "metadata": {},
   "outputs": [],
   "source": []
  }
 ],
 "metadata": {
  "kernelspec": {
   "display_name": "Python 3 (ipykernel)",
   "language": "python",
   "name": "python3"
  },
  "language_info": {
   "codemirror_mode": {
    "name": "ipython",
    "version": 3
   },
   "file_extension": ".py",
   "mimetype": "text/x-python",
   "name": "python",
   "nbconvert_exporter": "python",
   "pygments_lexer": "ipython3",
   "version": "3.11.4"
  }
 },
 "nbformat": 4,
 "nbformat_minor": 5
}
