{
 "cells": [
  {
   "cell_type": "markdown",
   "id": "f80fb457",
   "metadata": {},
   "source": [
    "# scope(kapsam)"
   ]
  },
  {
   "cell_type": "code",
   "execution_count": 1,
   "id": "f13b82b1",
   "metadata": {},
   "outputs": [],
   "source": [
    "numara=20\n",
    "def carpma(rakam):\n",
    "    numara=10\n",
    "    return numara*rakam"
   ]
  },
  {
   "cell_type": "code",
   "execution_count": 2,
   "id": "51cab414",
   "metadata": {},
   "outputs": [
    {
     "data": {
      "text/plain": [
       "50"
      ]
     },
     "execution_count": 2,
     "metadata": {},
     "output_type": "execute_result"
    }
   ],
   "source": [
    "carpma(5)"
   ]
  },
  {
   "cell_type": "code",
   "execution_count": 3,
   "id": "80aae975",
   "metadata": {},
   "outputs": [
    {
     "name": "stdout",
     "output_type": "stream",
     "text": [
      "20\n"
     ]
    }
   ],
   "source": [
    "print(numara) #çıktıyı 20 verdi çünkü kapsam alanları farklı"
   ]
  },
  {
   "cell_type": "markdown",
   "id": "4f5eac62",
   "metadata": {},
   "source": [
    "## Local,Enclosing,Global,Built-In(LEGBI)"
   ]
  },
  {
   "cell_type": "code",
   "execution_count": 11,
   "id": "90fb4431",
   "metadata": {},
   "outputs": [],
   "source": [
    "benimAdim = \"Atıl\"\n",
    "#Global\n",
    "\n",
    "def benimFonksiyonum():\n",
    "    benimAdim = \"Mahmut\"\n",
    "    #Enclosing\n",
    "    def icFonksiyon():\n",
    "        benimAdim = \"Ayşe\"\n",
    "        #Local\n",
    "        print(benimAdim)\n",
    "    icFonksiyon()"
   ]
  },
  {
   "cell_type": "code",
   "execution_count": 12,
   "id": "8e2fa303",
   "metadata": {},
   "outputs": [
    {
     "name": "stdout",
     "output_type": "stream",
     "text": [
      "Ayşe\n"
     ]
    }
   ],
   "source": [
    "benimFonksiyonum()"
   ]
  },
  {
   "cell_type": "code",
   "execution_count": 13,
   "id": "65bef8e7",
   "metadata": {},
   "outputs": [
    {
     "name": "stdout",
     "output_type": "stream",
     "text": [
      "Atıl\n"
     ]
    }
   ],
   "source": [
    "print(benimAdim)"
   ]
  },
  {
   "cell_type": "code",
   "execution_count": 14,
   "id": "cf456ab0",
   "metadata": {},
   "outputs": [],
   "source": [
    "y=10\n",
    "def yeniFonksiyon(y):\n",
    "    print(y)\n",
    "    y=5\n",
    "    print(y)\n",
    "    return y #en son güncel rakamı o da 5 olur"
   ]
  },
  {
   "cell_type": "code",
   "execution_count": 15,
   "id": "cd376f60",
   "metadata": {},
   "outputs": [
    {
     "name": "stdout",
     "output_type": "stream",
     "text": [
      "3\n",
      "5\n"
     ]
    },
    {
     "data": {
      "text/plain": [
       "5"
      ]
     },
     "execution_count": 15,
     "metadata": {},
     "output_type": "execute_result"
    }
   ],
   "source": [
    "yeniFonksiyon(3)"
   ]
  },
  {
   "cell_type": "code",
   "execution_count": 17,
   "id": "f334a6fa",
   "metadata": {},
   "outputs": [
    {
     "data": {
      "text/plain": [
       "10"
      ]
     },
     "execution_count": 17,
     "metadata": {},
     "output_type": "execute_result"
    }
   ],
   "source": [
    "y #çıktısı ilk atadığın değerle olur"
   ]
  },
  {
   "cell_type": "code",
   "execution_count": 18,
   "id": "75347554",
   "metadata": {},
   "outputs": [
    {
     "name": "stdout",
     "output_type": "stream",
     "text": [
      "3\n",
      "5\n"
     ]
    }
   ],
   "source": [
    "y=yeniFonksiyon(3)"
   ]
  },
  {
   "cell_type": "code",
   "execution_count": 19,
   "id": "85fb92a8",
   "metadata": {},
   "outputs": [
    {
     "data": {
      "text/plain": [
       "5"
      ]
     },
     "execution_count": 19,
     "metadata": {},
     "output_type": "execute_result"
    }
   ],
   "source": [
    "y #y'nin yeni değeri"
   ]
  },
  {
   "cell_type": "code",
   "execution_count": 22,
   "id": "3a57edb8",
   "metadata": {},
   "outputs": [],
   "source": [
    "y=10\n",
    "def ornekFonksiyon():\n",
    "    global y\n",
    "    y=5\n",
    "    print(y)"
   ]
  },
  {
   "cell_type": "code",
   "execution_count": 23,
   "id": "d504074b",
   "metadata": {},
   "outputs": [
    {
     "name": "stdout",
     "output_type": "stream",
     "text": [
      "5\n"
     ]
    }
   ],
   "source": [
    "ornekFonksiyon()"
   ]
  },
  {
   "cell_type": "code",
   "execution_count": 24,
   "id": "04d32fad",
   "metadata": {},
   "outputs": [
    {
     "data": {
      "text/plain": [
       "5"
      ]
     },
     "execution_count": 24,
     "metadata": {},
     "output_type": "execute_result"
    }
   ],
   "source": [
    "y #y nin değeri değiştiği için globalde değişir"
   ]
  },
  {
   "cell_type": "code",
   "execution_count": null,
   "id": "78f10df3",
   "metadata": {},
   "outputs": [],
   "source": []
  }
 ],
 "metadata": {
  "kernelspec": {
   "display_name": "Python 3 (ipykernel)",
   "language": "python",
   "name": "python3"
  },
  "language_info": {
   "codemirror_mode": {
    "name": "ipython",
    "version": 3
   },
   "file_extension": ".py",
   "mimetype": "text/x-python",
   "name": "python",
   "nbconvert_exporter": "python",
   "pygments_lexer": "ipython3",
   "version": "3.11.4"
  }
 },
 "nbformat": 4,
 "nbformat_minor": 5
}
