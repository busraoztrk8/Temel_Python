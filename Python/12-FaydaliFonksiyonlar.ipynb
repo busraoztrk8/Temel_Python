{
 "cells": [
  {
   "cell_type": "code",
   "execution_count": 1,
   "id": "13a239ef",
   "metadata": {},
   "outputs": [],
   "source": [
    "def bolmeIslemi(numara):\n",
    "    return numara/2"
   ]
  },
  {
   "cell_type": "code",
   "execution_count": 2,
   "id": "c5673274",
   "metadata": {},
   "outputs": [
    {
     "data": {
      "text/plain": [
       "10.0"
      ]
     },
     "execution_count": 2,
     "metadata": {},
     "output_type": "execute_result"
    }
   ],
   "source": [
    "bolmeIslemi(20)"
   ]
  },
  {
   "cell_type": "code",
   "execution_count": 3,
   "id": "d7df6f04",
   "metadata": {},
   "outputs": [],
   "source": [
    "benimLİstem=[1,2,3,4,5,6,7,8,9,10]"
   ]
  },
  {
   "cell_type": "code",
   "execution_count": 4,
   "id": "f405b132",
   "metadata": {},
   "outputs": [],
   "source": [
    "yeniListe=[]\n",
    "for eleman in benimLİstem:\n",
    "    yeniListe.append(bolmeIslemi(eleman))"
   ]
  },
  {
   "cell_type": "code",
   "execution_count": 5,
   "id": "1bb1311b",
   "metadata": {},
   "outputs": [
    {
     "data": {
      "text/plain": [
       "[0.5, 1.0, 1.5, 2.0, 2.5, 3.0, 3.5, 4.0, 4.5, 5.0]"
      ]
     },
     "execution_count": 5,
     "metadata": {},
     "output_type": "execute_result"
    }
   ],
   "source": [
    "yeniListe"
   ]
  },
  {
   "cell_type": "markdown",
   "id": "a0415d5c",
   "metadata": {},
   "source": [
    "# map"
   ]
  },
  {
   "cell_type": "code",
   "execution_count": 6,
   "id": "31ae8c7c",
   "metadata": {},
   "outputs": [
    {
     "data": {
      "text/plain": [
       "<map at 0x2590b666260>"
      ]
     },
     "execution_count": 6,
     "metadata": {},
     "output_type": "execute_result"
    }
   ],
   "source": [
    " map(bolmeIslemi,benimLİstem)\n",
    "    #fonksiyonu yazıyor sonra fonk.tabi olan listeyi getiriyor "
   ]
  },
  {
   "cell_type": "code",
   "execution_count": 7,
   "id": "630c0f2b",
   "metadata": {},
   "outputs": [
    {
     "data": {
      "text/plain": [
       "[0.5, 1.0, 1.5, 2.0, 2.5, 3.0, 3.5, 4.0, 4.5, 5.0]"
      ]
     },
     "execution_count": 7,
     "metadata": {},
     "output_type": "execute_result"
    }
   ],
   "source": [
    "list( map(bolmeIslemi,benimLİstem))"
   ]
  },
  {
   "cell_type": "code",
   "execution_count": 8,
   "id": "31e5200e",
   "metadata": {},
   "outputs": [],
   "source": [
    "def kontrolFonksiyon(string):\n",
    "    return \"a\" in string"
   ]
  },
  {
   "cell_type": "code",
   "execution_count": 12,
   "id": "f832c6e8",
   "metadata": {},
   "outputs": [
    {
     "data": {
      "text/plain": [
       "False"
      ]
     },
     "execution_count": 12,
     "metadata": {},
     "output_type": "execute_result"
    }
   ],
   "source": [
    "# \"a\" in \"büşra\"\n",
    "kontrolFonksiyon(\"Zeynep\")"
   ]
  },
  {
   "cell_type": "code",
   "execution_count": 13,
   "id": "47735c9c",
   "metadata": {},
   "outputs": [],
   "source": [
    " stringListesi=[\"atıl\",\"samancıoğlu\",\"atlas\",\"zeynep\",\"mehmet\",\"ahmet\",\"levent\"]"
   ]
  },
  {
   "cell_type": "code",
   "execution_count": 19,
   "id": "36012abc",
   "metadata": {},
   "outputs": [],
   "source": [
    "sonucListesi=list(map(kontrolFonksiyon,stringListesi))"
   ]
  },
  {
   "cell_type": "code",
   "execution_count": 23,
   "id": "b89a99a7",
   "metadata": {},
   "outputs": [
    {
     "data": {
      "text/plain": [
       "4"
      ]
     },
     "execution_count": 23,
     "metadata": {},
     "output_type": "execute_result"
    }
   ],
   "source": [
    "sonucListesi.count(True)"
   ]
  },
  {
   "cell_type": "markdown",
   "id": "f1719a57",
   "metadata": {},
   "source": [
    "# Filtreleme(filter)"
   ]
  },
  {
   "cell_type": "code",
   "execution_count": 24,
   "id": "2ab0d735",
   "metadata": {},
   "outputs": [
    {
     "data": {
      "text/plain": [
       "['atıl', 'samancıoğlu', 'atlas', 'ahmet']"
      ]
     },
     "execution_count": 24,
     "metadata": {},
     "output_type": "execute_result"
    }
   ],
   "source": [
    "list(filter(kontrolFonksiyon,stringListesi))\n",
    "#sadece true olanları gösteriyor"
   ]
  },
  {
   "cell_type": "markdown",
   "id": "be122292",
   "metadata": {},
   "source": [
    "# lambda"
   ]
  },
  {
   "cell_type": "code",
   "execution_count": 25,
   "id": "1052cc2d",
   "metadata": {},
   "outputs": [],
   "source": [
    "#fonsiyonları tek satırda yazmak gibi ya da bir değişken gibi yazmak\n",
    "carpma=lambda numara:numara*3"
   ]
  },
  {
   "cell_type": "code",
   "execution_count": 26,
   "id": "8ab3f900",
   "metadata": {},
   "outputs": [
    {
     "data": {
      "text/plain": [
       "30"
      ]
     },
     "execution_count": 26,
     "metadata": {},
     "output_type": "execute_result"
    }
   ],
   "source": [
    "carpma(10)"
   ]
  },
  {
   "cell_type": "code",
   "execution_count": 30,
   "id": "701d4da7",
   "metadata": {},
   "outputs": [],
   "source": [
    "ornekLsitesi=[10,20,30]"
   ]
  },
  {
   "cell_type": "code",
   "execution_count": 31,
   "id": "4b862338",
   "metadata": {},
   "outputs": [
    {
     "data": {
      "text/plain": [
       "[40, 80, 120]"
      ]
     },
     "execution_count": 31,
     "metadata": {},
     "output_type": "execute_result"
    }
   ],
   "source": [
    "list(map(lambda numara:numara*4,ornekLsitesi))"
   ]
  },
  {
   "cell_type": "code",
   "execution_count": null,
   "id": "f8f7b68c",
   "metadata": {},
   "outputs": [],
   "source": []
  }
 ],
 "metadata": {
  "kernelspec": {
   "display_name": "Python 3 (ipykernel)",
   "language": "python",
   "name": "python3"
  },
  "language_info": {
   "codemirror_mode": {
    "name": "ipython",
    "version": 3
   },
   "file_extension": ".py",
   "mimetype": "text/x-python",
   "name": "python",
   "nbconvert_exporter": "python",
   "pygments_lexer": "ipython3",
   "version": "3.11.4"
  }
 },
 "nbformat": 4,
 "nbformat_minor": 5
}
