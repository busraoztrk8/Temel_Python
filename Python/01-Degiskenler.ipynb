{
 "cells": [
  {
   "cell_type": "code",
   "execution_count": 1,
   "id": "c80e2ae5",
   "metadata": {},
   "outputs": [
    {
     "data": {
      "text/plain": [
       "25"
      ]
     },
     "execution_count": 1,
     "metadata": {},
     "output_type": "execute_result"
    }
   ],
   "source": [
    "5*5"
   ]
  },
  {
   "cell_type": "code",
   "execution_count": 2,
   "id": "36744804",
   "metadata": {},
   "outputs": [
    {
     "name": "stdout",
     "output_type": "stream",
     "text": [
      "25\n"
     ]
    }
   ],
   "source": [
    "print(5*5)"
   ]
  },
  {
   "cell_type": "code",
   "execution_count": 3,
   "id": "061d1267",
   "metadata": {},
   "outputs": [
    {
     "data": {
      "text/plain": [
       "1025"
      ]
     },
     "execution_count": 3,
     "metadata": {},
     "output_type": "execute_result"
    }
   ],
   "source": [
    "1000+25"
   ]
  },
  {
   "cell_type": "markdown",
   "id": "4a1aae4f",
   "metadata": {},
   "source": [
    "Markdown yorum satırı oluyor\n",
    "## yaparsan string olarak yazabilirsiniz.\n",
    "##Variables(Değişkenler)"
   ]
  },
  {
   "cell_type": "markdown",
   "id": "34e2119b",
   "metadata": {},
   "source": [
    "   shift+enter la bir alta geçer"
   ]
  },
  {
   "cell_type": "markdown",
   "id": "59355720",
   "metadata": {},
   "source": [
    "## Variables(Değişkenler)"
   ]
  },
  {
   "cell_type": "code",
   "execution_count": 6,
   "id": "ee48b47e",
   "metadata": {},
   "outputs": [],
   "source": [
    "x=5"
   ]
  },
  {
   "cell_type": "code",
   "execution_count": 7,
   "id": "1f3856e1",
   "metadata": {},
   "outputs": [],
   "source": [
    "y=4"
   ]
  },
  {
   "cell_type": "code",
   "execution_count": 9,
   "id": "26c11eac",
   "metadata": {},
   "outputs": [
    {
     "data": {
      "text/plain": [
       "20"
      ]
     },
     "execution_count": 9,
     "metadata": {},
     "output_type": "execute_result"
    }
   ],
   "source": [
    "x*y"
   ]
  },
  {
   "cell_type": "code",
   "execution_count": 10,
   "id": "f42b47db",
   "metadata": {},
   "outputs": [],
   "source": [
    "x=6"
   ]
  },
  {
   "cell_type": "code",
   "execution_count": 11,
   "id": "42c0476a",
   "metadata": {},
   "outputs": [
    {
     "data": {
      "text/plain": [
       "24"
      ]
     },
     "execution_count": 11,
     "metadata": {},
     "output_type": "execute_result"
    }
   ],
   "source": [
    "x*y"
   ]
  },
  {
   "cell_type": "code",
   "execution_count": 12,
   "id": "d478e072",
   "metadata": {},
   "outputs": [
    {
     "data": {
      "text/plain": [
       "40"
      ]
     },
     "execution_count": 12,
     "metadata": {},
     "output_type": "execute_result"
    }
   ],
   "source": [
    "y*10"
   ]
  },
  {
   "cell_type": "markdown",
   "id": "5df91df5",
   "metadata": {},
   "source": [
    "## Integer ve Float"
   ]
  },
  {
   "cell_type": "code",
   "execution_count": 13,
   "id": "0365178e",
   "metadata": {},
   "outputs": [],
   "source": [
    "benimDegiskenim=10\n",
    "benimDigerDegiskenim=20"
   ]
  },
  {
   "cell_type": "code",
   "execution_count": 15,
   "id": "3fad0e72",
   "metadata": {},
   "outputs": [
    {
     "data": {
      "text/plain": [
       "30"
      ]
     },
     "execution_count": 15,
     "metadata": {},
     "output_type": "execute_result"
    }
   ],
   "source": [
    "benimDigerDegiskenim+benimDegiskenim"
   ]
  },
  {
   "cell_type": "code",
   "execution_count": 16,
   "id": "e479ce93",
   "metadata": {},
   "outputs": [
    {
     "data": {
      "text/plain": [
       "int"
      ]
     },
     "execution_count": 16,
     "metadata": {},
     "output_type": "execute_result"
    }
   ],
   "source": [
    "type(benimDegiskenim)"
   ]
  },
  {
   "cell_type": "code",
   "execution_count": 17,
   "id": "2b4c30aa",
   "metadata": {},
   "outputs": [
    {
     "data": {
      "text/plain": [
       "2.0"
      ]
     },
     "execution_count": 17,
     "metadata": {},
     "output_type": "execute_result"
    }
   ],
   "source": [
    "sonuc=benimDigerDegiskenim/benimDegiskenim"
   ]
  },
  {
   "cell_type": "code",
   "execution_count": 26,
   "id": "5bc5ec9d",
   "metadata": {},
   "outputs": [],
   "source": [
    "sonuc=50/4"
   ]
  },
  {
   "cell_type": "code",
   "execution_count": 27,
   "id": "65e202d4",
   "metadata": {},
   "outputs": [
    {
     "data": {
      "text/plain": [
       "12.5"
      ]
     },
     "execution_count": 27,
     "metadata": {},
     "output_type": "execute_result"
    }
   ],
   "source": [
    "50/4"
   ]
  },
  {
   "cell_type": "code",
   "execution_count": 28,
   "id": "bcfd324f",
   "metadata": {},
   "outputs": [
    {
     "data": {
      "text/plain": [
       "float"
      ]
     },
     "execution_count": 28,
     "metadata": {},
     "output_type": "execute_result"
    }
   ],
   "source": [
    "type(50/4)"
   ]
  },
  {
   "cell_type": "code",
   "execution_count": 29,
   "id": "aa25aaf3",
   "metadata": {},
   "outputs": [],
   "source": [
    "a=3\n",
    "b=2"
   ]
  },
  {
   "cell_type": "code",
   "execution_count": 30,
   "id": "fce7ca63",
   "metadata": {},
   "outputs": [
    {
     "data": {
      "text/plain": [
       "1.5"
      ]
     },
     "execution_count": 30,
     "metadata": {},
     "output_type": "execute_result"
    }
   ],
   "source": [
    "a/b"
   ]
  },
  {
   "cell_type": "code",
   "execution_count": 31,
   "id": "23144273",
   "metadata": {},
   "outputs": [],
   "source": [
    "pi=3.14"
   ]
  },
  {
   "cell_type": "code",
   "execution_count": 32,
   "id": "6b77c74f",
   "metadata": {},
   "outputs": [
    {
     "data": {
      "text/plain": [
       "float"
      ]
     },
     "execution_count": 32,
     "metadata": {},
     "output_type": "execute_result"
    }
   ],
   "source": [
    "type(pi)"
   ]
  },
  {
   "cell_type": "code",
   "execution_count": 33,
   "id": "ff25f71a",
   "metadata": {},
   "outputs": [],
   "source": [
    "a=5"
   ]
  },
  {
   "cell_type": "code",
   "execution_count": 34,
   "id": "2f7c4e94",
   "metadata": {},
   "outputs": [
    {
     "data": {
      "text/plain": [
       "int"
      ]
     },
     "execution_count": 34,
     "metadata": {},
     "output_type": "execute_result"
    }
   ],
   "source": [
    "type(a)"
   ]
  },
  {
   "cell_type": "code",
   "execution_count": 35,
   "id": "23cac721",
   "metadata": {},
   "outputs": [
    {
     "data": {
      "text/plain": [
       "15.700000000000001"
      ]
     },
     "execution_count": 35,
     "metadata": {},
     "output_type": "execute_result"
    }
   ],
   "source": [
    "a*pi"
   ]
  },
  {
   "cell_type": "code",
   "execution_count": 36,
   "id": "fbef3c9d",
   "metadata": {},
   "outputs": [
    {
     "data": {
      "text/plain": [
       "1.592356687898089"
      ]
     },
     "execution_count": 36,
     "metadata": {},
     "output_type": "execute_result"
    }
   ],
   "source": [
    "a/pi"
   ]
  },
  {
   "cell_type": "code",
   "execution_count": 37,
   "id": "2d69b1ef",
   "metadata": {},
   "outputs": [],
   "source": [
    "a=5\n",
    "b=4"
   ]
  },
  {
   "cell_type": "code",
   "execution_count": 38,
   "id": "83b9beb2",
   "metadata": {},
   "outputs": [],
   "source": [
    "sonuc=a+b"
   ]
  },
  {
   "cell_type": "code",
   "execution_count": 39,
   "id": "f70cd655",
   "metadata": {},
   "outputs": [
    {
     "data": {
      "text/plain": [
       "int"
      ]
     },
     "execution_count": 39,
     "metadata": {},
     "output_type": "execute_result"
    }
   ],
   "source": [
    "type(sonuc)"
   ]
  },
  {
   "cell_type": "code",
   "execution_count": 40,
   "id": "2355d975",
   "metadata": {},
   "outputs": [],
   "source": [
    "sonuc=a*b"
   ]
  },
  {
   "cell_type": "code",
   "execution_count": 41,
   "id": "a666f846",
   "metadata": {},
   "outputs": [
    {
     "data": {
      "text/plain": [
       "20"
      ]
     },
     "execution_count": 41,
     "metadata": {},
     "output_type": "execute_result"
    }
   ],
   "source": [
    "sonuc"
   ]
  },
  {
   "cell_type": "code",
   "execution_count": 42,
   "id": "9a77ae51",
   "metadata": {},
   "outputs": [
    {
     "data": {
      "text/plain": [
       "int"
      ]
     },
     "execution_count": 42,
     "metadata": {},
     "output_type": "execute_result"
    }
   ],
   "source": [
    "type(sonuc)"
   ]
  },
  {
   "cell_type": "markdown",
   "id": "800a225d",
   "metadata": {},
   "source": [
    "# Matematiksel İşlemler"
   ]
  },
  {
   "cell_type": "code",
   "execution_count": 43,
   "id": "3649d8c7",
   "metadata": {},
   "outputs": [],
   "source": [
    "x=5\n",
    "y=3"
   ]
  },
  {
   "cell_type": "code",
   "execution_count": 44,
   "id": "59ff33b4",
   "metadata": {},
   "outputs": [
    {
     "data": {
      "text/plain": [
       "150"
      ]
     },
     "execution_count": 44,
     "metadata": {},
     "output_type": "execute_result"
    }
   ],
   "source": [
    "x*y*10"
   ]
  },
  {
   "cell_type": "code",
   "execution_count": 46,
   "id": "460d5a80",
   "metadata": {},
   "outputs": [
    {
     "data": {
      "text/plain": [
       "625"
      ]
     },
     "execution_count": 46,
     "metadata": {},
     "output_type": "execute_result"
    }
   ],
   "source": [
    "x*x*x*x"
   ]
  },
  {
   "cell_type": "code",
   "execution_count": 47,
   "id": "e4c14966",
   "metadata": {},
   "outputs": [
    {
     "data": {
      "text/plain": [
       "625"
      ]
     },
     "execution_count": 47,
     "metadata": {},
     "output_type": "execute_result"
    }
   ],
   "source": [
    "##üssü alma\n",
    "x**4"
   ]
  },
  {
   "cell_type": "code",
   "execution_count": 48,
   "id": "33e7d632",
   "metadata": {},
   "outputs": [
    {
     "data": {
      "text/plain": [
       "0"
      ]
     },
     "execution_count": 48,
     "metadata": {},
     "output_type": "execute_result"
    }
   ],
   "source": [
    "#Remainder -Kalanını bulma\n",
    "10%2"
   ]
  },
  {
   "cell_type": "code",
   "execution_count": 49,
   "id": "ca47b9f1",
   "metadata": {},
   "outputs": [
    {
     "data": {
      "text/plain": [
       "1"
      ]
     },
     "execution_count": 49,
     "metadata": {},
     "output_type": "execute_result"
    }
   ],
   "source": [
    "11%2"
   ]
  },
  {
   "cell_type": "code",
   "execution_count": 50,
   "id": "e71e7c50",
   "metadata": {},
   "outputs": [],
   "source": [
    "## iki racon (yazım türü) var \n",
    "## camelCase  snake_case"
   ]
  },
  {
   "cell_type": "code",
   "execution_count": 51,
   "id": "f5bd4db7",
   "metadata": {},
   "outputs": [],
   "source": [
    "kullanicininYasi=10"
   ]
  },
  {
   "cell_type": "code",
   "execution_count": 52,
   "id": "d0675fab",
   "metadata": {},
   "outputs": [
    {
     "data": {
      "text/plain": [
       "16.666666666666668"
      ]
     },
     "execution_count": 52,
     "metadata": {},
     "output_type": "execute_result"
    }
   ],
   "source": [
    "kullanicininYasi*5/3"
   ]
  },
  {
   "cell_type": "code",
   "execution_count": 54,
   "id": "8191f6da",
   "metadata": {},
   "outputs": [
    {
     "name": "stdout",
     "output_type": "stream",
     "text": [
      "Yaşınızı Giriniz: 22\n"
     ]
    }
   ],
   "source": [
    "##Kullanıcıdan girdi almak \"input\"\n",
    "kullanicininYasi=input(\"Yaşınızı Giriniz: \")"
   ]
  },
  {
   "cell_type": "code",
   "execution_count": 55,
   "id": "3a423d2e",
   "metadata": {},
   "outputs": [
    {
     "data": {
      "text/plain": [
       "'22'"
      ]
     },
     "execution_count": 55,
     "metadata": {},
     "output_type": "execute_result"
    }
   ],
   "source": [
    "kullanicininYasi  ##metin olarak '' çıktıyı veriyor"
   ]
  },
  {
   "cell_type": "code",
   "execution_count": 56,
   "id": "b62b098e",
   "metadata": {},
   "outputs": [
    {
     "data": {
      "text/plain": [
       "str"
      ]
     },
     "execution_count": 56,
     "metadata": {},
     "output_type": "execute_result"
    }
   ],
   "source": [
    "type(kullanicininYasi)"
   ]
  },
  {
   "cell_type": "code",
   "execution_count": 59,
   "id": "158b8556",
   "metadata": {},
   "outputs": [
    {
     "data": {
      "text/plain": [
       "'2222222222'"
      ]
     },
     "execution_count": 59,
     "metadata": {},
     "output_type": "execute_result"
    }
   ],
   "source": [
    "kullanicininYasi*5 #String olduğu için yan yana yazıyor:)"
   ]
  },
  {
   "cell_type": "markdown",
   "id": "88256921",
   "metadata": {},
   "source": [
    "# String"
   ]
  },
  {
   "cell_type": "code",
   "execution_count": 60,
   "id": "e65bc813",
   "metadata": {},
   "outputs": [
    {
     "data": {
      "text/plain": [
       "'Hello World'"
      ]
     },
     "execution_count": 60,
     "metadata": {},
     "output_type": "execute_result"
    }
   ],
   "source": [
    "\"Hello World\""
   ]
  },
  {
   "cell_type": "code",
   "execution_count": 61,
   "id": "3a2b28dd",
   "metadata": {},
   "outputs": [],
   "source": [
    "x=\"Hello World\""
   ]
  },
  {
   "cell_type": "code",
   "execution_count": 62,
   "id": "a3bbd1ea",
   "metadata": {},
   "outputs": [],
   "source": [
    "x=10"
   ]
  },
  {
   "cell_type": "code",
   "execution_count": 63,
   "id": "05bcfe41",
   "metadata": {},
   "outputs": [],
   "source": [
    "x=7.8"
   ]
  },
  {
   "cell_type": "code",
   "execution_count": 64,
   "id": "7e0df2f3",
   "metadata": {},
   "outputs": [
    {
     "data": {
      "text/plain": [
       "float"
      ]
     },
     "execution_count": 64,
     "metadata": {},
     "output_type": "execute_result"
    }
   ],
   "source": [
    "type(x) ##çıktısı en son ne diye atadıksa onun türü gelir "
   ]
  },
  {
   "cell_type": "code",
   "execution_count": 65,
   "id": "db42c06f",
   "metadata": {},
   "outputs": [],
   "source": [
    "y='yeni string'"
   ]
  },
  {
   "cell_type": "code",
   "execution_count": 66,
   "id": "1edc9f8e",
   "metadata": {},
   "outputs": [
    {
     "data": {
      "text/plain": [
       "str"
      ]
     },
     "execution_count": 66,
     "metadata": {},
     "output_type": "execute_result"
    }
   ],
   "source": [
    "type(y)"
   ]
  },
  {
   "cell_type": "code",
   "execution_count": 67,
   "id": "578a4e02",
   "metadata": {},
   "outputs": [
    {
     "data": {
      "text/plain": [
       "\"Büşü'nün yeri\""
      ]
     },
     "execution_count": 67,
     "metadata": {},
     "output_type": "execute_result"
    }
   ],
   "source": [
    "\"Büşü'nün yeri\""
   ]
  },
  {
   "cell_type": "code",
   "execution_count": 68,
   "id": "4f14503c",
   "metadata": {},
   "outputs": [],
   "source": [
    "a=5"
   ]
  },
  {
   "cell_type": "code",
   "execution_count": 70,
   "id": "408d1991",
   "metadata": {},
   "outputs": [
    {
     "data": {
      "text/plain": [
       "'Yeni string'"
      ]
     },
     "execution_count": 70,
     "metadata": {},
     "output_type": "execute_result"
    }
   ],
   "source": [
    "y.capitalize()  #capitalize büyük harfle başlatır."
   ]
  },
  {
   "cell_type": "code",
   "execution_count": 71,
   "id": "a7a4ee74",
   "metadata": {},
   "outputs": [
    {
     "data": {
      "text/plain": [
       "['yeni', 'string']"
      ]
     },
     "execution_count": 71,
     "metadata": {},
     "output_type": "execute_result"
    }
   ],
   "source": [
    "y.split() #split böl demek"
   ]
  },
  {
   "cell_type": "code",
   "execution_count": 72,
   "id": "342d682f",
   "metadata": {},
   "outputs": [],
   "source": [
    "benimString=\"Büşra Öztürk\""
   ]
  },
  {
   "cell_type": "code",
   "execution_count": 73,
   "id": "04966db9",
   "metadata": {},
   "outputs": [
    {
     "data": {
      "text/plain": [
       "'Büşra Öztürkyeni string'"
      ]
     },
     "execution_count": 73,
     "metadata": {},
     "output_type": "execute_result"
    }
   ],
   "source": [
    "benimString+y"
   ]
  },
  {
   "cell_type": "code",
   "execution_count": 76,
   "id": "f0fb5a87",
   "metadata": {},
   "outputs": [
    {
     "data": {
      "text/plain": [
       "'Büşra ÖztürkBüşra ÖztürkBüşra ÖztürkBüşra Öztürk'"
      ]
     },
     "execution_count": 76,
     "metadata": {},
     "output_type": "execute_result"
    }
   ],
   "source": [
    "benimString*4"
   ]
  },
  {
   "cell_type": "code",
   "execution_count": 77,
   "id": "210b60fd",
   "metadata": {},
   "outputs": [
    {
     "name": "stdout",
     "output_type": "stream",
     "text": [
      "Yaşınızı giriniz: 77\n"
     ]
    }
   ],
   "source": [
    "## Girdide stringi integere çevirmek\n",
    "benimIntInput=int(input(\"Yaşınızı giriniz: \"))"
   ]
  },
  {
   "cell_type": "code",
   "execution_count": 78,
   "id": "da0b1695",
   "metadata": {},
   "outputs": [
    {
     "data": {
      "text/plain": [
       "77"
      ]
     },
     "execution_count": 78,
     "metadata": {},
     "output_type": "execute_result"
    }
   ],
   "source": [
    "benimIntInput"
   ]
  },
  {
   "cell_type": "code",
   "execution_count": 79,
   "id": "01430866",
   "metadata": {},
   "outputs": [
    {
     "data": {
      "text/plain": [
       "int"
      ]
     },
     "execution_count": 79,
     "metadata": {},
     "output_type": "execute_result"
    }
   ],
   "source": [
    "type(benimIntInput)"
   ]
  },
  {
   "cell_type": "code",
   "execution_count": 80,
   "id": "ab2c5936",
   "metadata": {},
   "outputs": [
    {
     "name": "stdout",
     "output_type": "stream",
     "text": [
      "Yaşınızı Giriniz: 33\n"
     ]
    }
   ],
   "source": [
    "benimInput=input(\"Yaşınızı Giriniz: \")"
   ]
  },
  {
   "cell_type": "code",
   "execution_count": 81,
   "id": "df59cb28",
   "metadata": {},
   "outputs": [],
   "source": [
    "benimIntInput=int(benimInput)"
   ]
  },
  {
   "cell_type": "code",
   "execution_count": 83,
   "id": "7c0d5522",
   "metadata": {},
   "outputs": [
    {
     "data": {
      "text/plain": [
       "55.0"
      ]
     },
     "execution_count": 83,
     "metadata": {},
     "output_type": "execute_result"
    }
   ],
   "source": [
    "benimIntInput/3*5"
   ]
  },
  {
   "cell_type": "code",
   "execution_count": 84,
   "id": "f6a5d90e",
   "metadata": {},
   "outputs": [],
   "source": [
    "k=\"Öztürk\""
   ]
  },
  {
   "cell_type": "code",
   "execution_count": 85,
   "id": "c477252d",
   "metadata": {},
   "outputs": [
    {
     "data": {
      "text/plain": [
       "6"
      ]
     },
     "execution_count": 85,
     "metadata": {},
     "output_type": "execute_result"
    }
   ],
   "source": [
    "len(k)  #lenght uzunluğu verir"
   ]
  },
  {
   "cell_type": "code",
   "execution_count": 89,
   "id": "f28d2ffc",
   "metadata": {},
   "outputs": [
    {
     "name": "stdout",
     "output_type": "stream",
     "text": [
      "Methaba \n",
      "python\n"
     ]
    }
   ],
   "source": [
    "print(\"Methaba \\npython\")   # '\\n' bir satır aşağı gitmeye yarıyor"
   ]
  },
  {
   "cell_type": "code",
   "execution_count": 90,
   "id": "0501c7bd",
   "metadata": {},
   "outputs": [],
   "source": [
    "isimString=\"Büşra Öztürk\""
   ]
  },
  {
   "cell_type": "code",
   "execution_count": 91,
   "id": "8c53ef62",
   "metadata": {},
   "outputs": [
    {
     "data": {
      "text/plain": [
       "'Büşra Öztürk'"
      ]
     },
     "execution_count": 91,
     "metadata": {},
     "output_type": "execute_result"
    }
   ],
   "source": [
    "isimString"
   ]
  },
  {
   "cell_type": "markdown",
   "id": "3daec847",
   "metadata": {},
   "source": [
    "# Index"
   ]
  },
  {
   "cell_type": "code",
   "execution_count": 94,
   "id": "df8027ef",
   "metadata": {},
   "outputs": [
    {
     "data": {
      "text/plain": [
       "'B'"
      ]
     },
     "execution_count": 94,
     "metadata": {},
     "output_type": "execute_result"
    }
   ],
   "source": [
    "#Bir stringin içindeki her bir karakter bir elemanı temsil eder. \n",
    "#İlk eleman sıfırdan başlar.Boşlukta bir karakterdir\n",
    "isimString[0]"
   ]
  },
  {
   "cell_type": "code",
   "execution_count": 95,
   "id": "e6712b6a",
   "metadata": {},
   "outputs": [
    {
     "data": {
      "text/plain": [
       "'z'"
      ]
     },
     "execution_count": 95,
     "metadata": {},
     "output_type": "execute_result"
    }
   ],
   "source": [
    "isimString[7]"
   ]
  },
  {
   "cell_type": "code",
   "execution_count": 96,
   "id": "2771bfce",
   "metadata": {},
   "outputs": [
    {
     "data": {
      "text/plain": [
       "' '"
      ]
     },
     "execution_count": 96,
     "metadata": {},
     "output_type": "execute_result"
    }
   ],
   "source": [
    "isimString[5]  #boluk verir"
   ]
  },
  {
   "cell_type": "code",
   "execution_count": 98,
   "id": "f07c26bd",
   "metadata": {},
   "outputs": [
    {
     "data": {
      "text/plain": [
       "'k'"
      ]
     },
     "execution_count": 98,
     "metadata": {},
     "output_type": "execute_result"
    }
   ],
   "source": [
    "#Örnek: Son karakteri alalım\n",
    "isimString[-1]   #'-' sondan getiriyor"
   ]
  },
  {
   "cell_type": "code",
   "execution_count": 99,
   "id": "e02aa8b9",
   "metadata": {},
   "outputs": [
    {
     "data": {
      "text/plain": [
       "'z'"
      ]
     },
     "execution_count": 99,
     "metadata": {},
     "output_type": "execute_result"
    }
   ],
   "source": [
    "isimString[-5]"
   ]
  },
  {
   "cell_type": "code",
   "execution_count": 100,
   "id": "c196ce3b",
   "metadata": {},
   "outputs": [
    {
     "data": {
      "text/plain": [
       "'Bk'"
      ]
     },
     "execution_count": 100,
     "metadata": {},
     "output_type": "execute_result"
    }
   ],
   "source": [
    "#Örnek: İlk ve son harflerinden oluşan şifre tarzı bir şey\n",
    "isimString[0]+isimString[-1]"
   ]
  },
  {
   "cell_type": "code",
   "execution_count": 101,
   "id": "9000da45",
   "metadata": {},
   "outputs": [],
   "source": [
    "yeniString=\"0123456789\""
   ]
  },
  {
   "cell_type": "code",
   "execution_count": 102,
   "id": "4a246f7f",
   "metadata": {},
   "outputs": [
    {
     "data": {
      "text/plain": [
       "'23456789'"
      ]
     },
     "execution_count": 102,
     "metadata": {},
     "output_type": "execute_result"
    }
   ],
   "source": [
    "#Kaçıncı indexten sonrasını istiyorsun\n",
    "yeniString[2:]"
   ]
  },
  {
   "cell_type": "code",
   "execution_count": 104,
   "id": "d6480d16",
   "metadata": {},
   "outputs": [],
   "source": [
    "harfString=\"abcdefgh\""
   ]
  },
  {
   "cell_type": "code",
   "execution_count": 106,
   "id": "572b5785",
   "metadata": {},
   "outputs": [
    {
     "data": {
      "text/plain": [
       "'defgh'"
      ]
     },
     "execution_count": 106,
     "metadata": {},
     "output_type": "execute_result"
    }
   ],
   "source": [
    "harfString[3:]  #İlk üç elemanı almıyor"
   ]
  },
  {
   "cell_type": "code",
   "execution_count": 107,
   "id": "ed7f01d4",
   "metadata": {},
   "outputs": [
    {
     "data": {
      "text/plain": [
       "'abc'"
      ]
     },
     "execution_count": 107,
     "metadata": {},
     "output_type": "execute_result"
    }
   ],
   "source": [
    "harfString[:3]  #İlk üç elemanı alır."
   ]
  },
  {
   "cell_type": "markdown",
   "id": "54218807",
   "metadata": {},
   "source": [
    "# Slicing(Dilimleme/Kesme işlemi)"
   ]
  },
  {
   "cell_type": "code",
   "execution_count": 111,
   "id": "2553613c",
   "metadata": {},
   "outputs": [],
   "source": [
    "gelenVeri=\"Myage22\""
   ]
  },
  {
   "cell_type": "code",
   "execution_count": 112,
   "id": "11a109a4",
   "metadata": {},
   "outputs": [
    {
     "data": {
      "text/plain": [
       "'Myage'"
      ]
     },
     "execution_count": 112,
     "metadata": {},
     "output_type": "execute_result"
    }
   ],
   "source": [
    "#Son iki rakamı ayıracağız\n",
    "gelenVeri[:-2]"
   ]
  },
  {
   "cell_type": "code",
   "execution_count": 113,
   "id": "812fc149",
   "metadata": {},
   "outputs": [
    {
     "data": {
      "text/plain": [
       "'22'"
      ]
     },
     "execution_count": 113,
     "metadata": {},
     "output_type": "execute_result"
    }
   ],
   "source": [
    "gelenVeri[-2:]"
   ]
  },
  {
   "cell_type": "code",
   "execution_count": 115,
   "id": "2f4db824",
   "metadata": {},
   "outputs": [
    {
     "data": {
      "text/plain": [
       "'ag'"
      ]
     },
     "execution_count": 115,
     "metadata": {},
     "output_type": "execute_result"
    }
   ],
   "source": [
    "gelenVeri[2:4]  ##İlk ikiyi almıyor ondan sonra gelen 4 kadar!) \n",
    "                  #olan harfi alıyor (2 başlangıç indexi 4 bitiş indexi)"
   ]
  },
  {
   "cell_type": "code",
   "execution_count": 120,
   "id": "8423f0e5",
   "metadata": {},
   "outputs": [
    {
     "data": {
      "text/plain": [
       "'yg'"
      ]
     },
     "execution_count": 120,
     "metadata": {},
     "output_type": "execute_result"
    }
   ],
   "source": [
    "#Step Size\n",
    "gelenVeri[1:5:2]  #Veriyi ikişer ikişer atladı  [Beggin:Stop:stepSize]"
   ]
  },
  {
   "cell_type": "code",
   "execution_count": 121,
   "id": "0913a8ea",
   "metadata": {},
   "outputs": [
    {
     "data": {
      "text/plain": [
       "'22egayM'"
      ]
     },
     "execution_count": 121,
     "metadata": {},
     "output_type": "execute_result"
    }
   ],
   "source": [
    "gelenVeri[::-1]  #yaşı tam tersine çeviriyor"
   ]
  },
  {
   "cell_type": "markdown",
   "id": "ad6fb464",
   "metadata": {},
   "source": [
    "# String metodları"
   ]
  },
  {
   "cell_type": "code",
   "execution_count": 122,
   "id": "011683f8",
   "metadata": {},
   "outputs": [],
   "source": [
    "benimIsmim=\"büşra\""
   ]
  },
  {
   "cell_type": "code",
   "execution_count": 124,
   "id": "261a7f50",
   "metadata": {},
   "outputs": [
    {
     "data": {
      "text/plain": [
       "'Büşra'"
      ]
     },
     "execution_count": 124,
     "metadata": {},
     "output_type": "execute_result"
    }
   ],
   "source": [
    "benimIsmim.capitalize() #capitalize:İlk harfi büyütme"
   ]
  },
  {
   "cell_type": "code",
   "execution_count": 126,
   "id": "403f7a62",
   "metadata": {},
   "outputs": [
    {
     "data": {
      "text/plain": [
       "'büşra'"
      ]
     },
     "execution_count": 126,
     "metadata": {},
     "output_type": "execute_result"
    }
   ],
   "source": [
    "benimIsmim"
   ]
  },
  {
   "cell_type": "code",
   "execution_count": 127,
   "id": "209ed9cf",
   "metadata": {},
   "outputs": [],
   "source": [
    "benimIsmim=benimIsmim.capitalize()"
   ]
  },
  {
   "cell_type": "code",
   "execution_count": 128,
   "id": "78f065be",
   "metadata": {},
   "outputs": [
    {
     "data": {
      "text/plain": [
       "'Büşra'"
      ]
     },
     "execution_count": 128,
     "metadata": {},
     "output_type": "execute_result"
    }
   ],
   "source": [
    "benimIsmim"
   ]
  },
  {
   "cell_type": "code",
   "execution_count": 130,
   "id": "9b555f37",
   "metadata": {},
   "outputs": [
    {
     "data": {
      "text/plain": [
       "['Büşra', 'Öztürk']"
      ]
     },
     "execution_count": 130,
     "metadata": {},
     "output_type": "execute_result"
    }
   ],
   "source": [
    "#Split(ayırma/bölme)\n",
    "benimTamIsmim=\"Büşra Öztürk\"\n",
    "benimTamIsmim.split()"
   ]
  },
  {
   "cell_type": "code",
   "execution_count": 131,
   "id": "add3248b",
   "metadata": {},
   "outputs": [
    {
     "data": {
      "text/plain": [
       "'BÜŞRA ÖZTÜRK'"
      ]
     },
     "execution_count": 131,
     "metadata": {},
     "output_type": "execute_result"
    }
   ],
   "source": [
    "benimTamIsmim.upper()   #Hepsini büyütür"
   ]
  },
  {
   "cell_type": "code",
   "execution_count": 132,
   "id": "8fb98d20",
   "metadata": {},
   "outputs": [
    {
     "data": {
      "text/plain": [
       "'Büşra'"
      ]
     },
     "execution_count": 132,
     "metadata": {},
     "output_type": "execute_result"
    }
   ],
   "source": [
    "benimIsmim"
   ]
  },
  {
   "cell_type": "code",
   "execution_count": 133,
   "id": "b60624d8",
   "metadata": {},
   "outputs": [],
   "source": [
    "benimSoyIsmim=\"Öztürk\""
   ]
  },
  {
   "cell_type": "code",
   "execution_count": 135,
   "id": "14573c18",
   "metadata": {},
   "outputs": [
    {
     "data": {
      "text/plain": [
       "'Büşra Öztürk'"
      ]
     },
     "execution_count": 135,
     "metadata": {},
     "output_type": "execute_result"
    }
   ],
   "source": [
    "benimIsmim+\" \"+benimSoyIsmim"
   ]
  },
  {
   "cell_type": "code",
   "execution_count": 137,
   "id": "9d40f6bf",
   "metadata": {},
   "outputs": [
    {
     "data": {
      "text/plain": [
       "'510'"
      ]
     },
     "execution_count": 137,
     "metadata": {},
     "output_type": "execute_result"
    }
   ],
   "source": [
    "j=\"5\"\n",
    "k=\"10\"\n",
    "j+k"
   ]
  },
  {
   "cell_type": "code",
   "execution_count": null,
   "id": "01b729bc",
   "metadata": {},
   "outputs": [],
   "source": []
  }
 ],
 "metadata": {
  "kernelspec": {
   "display_name": "Python 3 (ipykernel)",
   "language": "python",
   "name": "python3"
  },
  "language_info": {
   "codemirror_mode": {
    "name": "ipython",
    "version": 3
   },
   "file_extension": ".py",
   "mimetype": "text/x-python",
   "name": "python",
   "nbconvert_exporter": "python",
   "pygments_lexer": "ipython3",
   "version": "3.11.4"
  }
 },
 "nbformat": 4,
 "nbformat_minor": 5
}
