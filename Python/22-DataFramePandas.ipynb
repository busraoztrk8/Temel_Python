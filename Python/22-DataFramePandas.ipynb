{
 "cells": [
  {
   "cell_type": "code",
   "execution_count": 21,
   "id": "4effd399",
   "metadata": {},
   "outputs": [],
   "source": [
    "import pandas as pd\n",
    "import numpy as np"
   ]
  },
  {
   "cell_type": "code",
   "execution_count": 22,
   "id": "e3eea5e0",
   "metadata": {},
   "outputs": [],
   "source": [
    "#np.random.randn->normal dağılımdan gelen rastgele dizi veya matrixi verebiliyordu\n",
    "data=np.random.randn(4,3)"
   ]
  },
  {
   "cell_type": "code",
   "execution_count": 23,
   "id": "4720c577",
   "metadata": {},
   "outputs": [
    {
     "data": {
      "text/plain": [
       "array([[-1.76375085,  0.12287431, -0.23325714],\n",
       "       [ 0.23889138,  0.44970927,  0.39514934],\n",
       "       [ 0.18642213,  1.40744937, -0.48136714],\n",
       "       [ 0.29173158,  0.67963955,  1.98878179]])"
      ]
     },
     "execution_count": 23,
     "metadata": {},
     "output_type": "execute_result"
    }
   ],
   "source": [
    "data"
   ]
  },
  {
   "cell_type": "code",
   "execution_count": 24,
   "id": "801d5e63",
   "metadata": {},
   "outputs": [],
   "source": [
    "dataFrame=pd.DataFrame(data)"
   ]
  },
  {
   "cell_type": "code",
   "execution_count": 25,
   "id": "ba27e36b",
   "metadata": {},
   "outputs": [
    {
     "data": {
      "text/html": [
       "<div>\n",
       "<style scoped>\n",
       "    .dataframe tbody tr th:only-of-type {\n",
       "        vertical-align: middle;\n",
       "    }\n",
       "\n",
       "    .dataframe tbody tr th {\n",
       "        vertical-align: top;\n",
       "    }\n",
       "\n",
       "    .dataframe thead th {\n",
       "        text-align: right;\n",
       "    }\n",
       "</style>\n",
       "<table border=\"1\" class=\"dataframe\">\n",
       "  <thead>\n",
       "    <tr style=\"text-align: right;\">\n",
       "      <th></th>\n",
       "      <th>0</th>\n",
       "      <th>1</th>\n",
       "      <th>2</th>\n",
       "    </tr>\n",
       "  </thead>\n",
       "  <tbody>\n",
       "    <tr>\n",
       "      <th>0</th>\n",
       "      <td>-1.763751</td>\n",
       "      <td>0.122874</td>\n",
       "      <td>-0.233257</td>\n",
       "    </tr>\n",
       "    <tr>\n",
       "      <th>1</th>\n",
       "      <td>0.238891</td>\n",
       "      <td>0.449709</td>\n",
       "      <td>0.395149</td>\n",
       "    </tr>\n",
       "    <tr>\n",
       "      <th>2</th>\n",
       "      <td>0.186422</td>\n",
       "      <td>1.407449</td>\n",
       "      <td>-0.481367</td>\n",
       "    </tr>\n",
       "    <tr>\n",
       "      <th>3</th>\n",
       "      <td>0.291732</td>\n",
       "      <td>0.679640</td>\n",
       "      <td>1.988782</td>\n",
       "    </tr>\n",
       "  </tbody>\n",
       "</table>\n",
       "</div>"
      ],
      "text/plain": [
       "          0         1         2\n",
       "0 -1.763751  0.122874 -0.233257\n",
       "1  0.238891  0.449709  0.395149\n",
       "2  0.186422  1.407449 -0.481367\n",
       "3  0.291732  0.679640  1.988782"
      ]
     },
     "execution_count": 25,
     "metadata": {},
     "output_type": "execute_result"
    }
   ],
   "source": [
    "dataFrame #verilerin iki boyutlu hali"
   ]
  },
  {
   "cell_type": "code",
   "execution_count": 26,
   "id": "377bd677",
   "metadata": {},
   "outputs": [
    {
     "data": {
      "text/plain": [
       "0   -1.763751\n",
       "1    0.238891\n",
       "2    0.186422\n",
       "3    0.291732\n",
       "Name: 0, dtype: float64"
      ]
     },
     "execution_count": 26,
     "metadata": {},
     "output_type": "execute_result"
    }
   ],
   "source": [
    "dataFrame[0] #kolonu karşımıza getiriyor"
   ]
  },
  {
   "cell_type": "code",
   "execution_count": 27,
   "id": "06bff942",
   "metadata": {},
   "outputs": [
    {
     "data": {
      "text/plain": [
       "pandas.core.series.Series"
      ]
     },
     "execution_count": 27,
     "metadata": {},
     "output_type": "execute_result"
    }
   ],
   "source": [
    "type(dataFrame[0])"
   ]
  },
  {
   "cell_type": "code",
   "execution_count": 28,
   "id": "6a3d504e",
   "metadata": {},
   "outputs": [],
   "source": [
    " yeniDataFrame=pd.DataFrame(data,index=[\"Atıl\",\"Büşra\",\"Selin\",\"Sevgi\"])"
   ]
  },
  {
   "cell_type": "code",
   "execution_count": 29,
   "id": "b15d668d",
   "metadata": {},
   "outputs": [
    {
     "data": {
      "text/html": [
       "<div>\n",
       "<style scoped>\n",
       "    .dataframe tbody tr th:only-of-type {\n",
       "        vertical-align: middle;\n",
       "    }\n",
       "\n",
       "    .dataframe tbody tr th {\n",
       "        vertical-align: top;\n",
       "    }\n",
       "\n",
       "    .dataframe thead th {\n",
       "        text-align: right;\n",
       "    }\n",
       "</style>\n",
       "<table border=\"1\" class=\"dataframe\">\n",
       "  <thead>\n",
       "    <tr style=\"text-align: right;\">\n",
       "      <th></th>\n",
       "      <th>0</th>\n",
       "      <th>1</th>\n",
       "      <th>2</th>\n",
       "    </tr>\n",
       "  </thead>\n",
       "  <tbody>\n",
       "    <tr>\n",
       "      <th>Atıl</th>\n",
       "      <td>-1.763751</td>\n",
       "      <td>0.122874</td>\n",
       "      <td>-0.233257</td>\n",
       "    </tr>\n",
       "    <tr>\n",
       "      <th>Büşra</th>\n",
       "      <td>0.238891</td>\n",
       "      <td>0.449709</td>\n",
       "      <td>0.395149</td>\n",
       "    </tr>\n",
       "    <tr>\n",
       "      <th>Selin</th>\n",
       "      <td>0.186422</td>\n",
       "      <td>1.407449</td>\n",
       "      <td>-0.481367</td>\n",
       "    </tr>\n",
       "    <tr>\n",
       "      <th>Sevgi</th>\n",
       "      <td>0.291732</td>\n",
       "      <td>0.679640</td>\n",
       "      <td>1.988782</td>\n",
       "    </tr>\n",
       "  </tbody>\n",
       "</table>\n",
       "</div>"
      ],
      "text/plain": [
       "              0         1         2\n",
       "Atıl  -1.763751  0.122874 -0.233257\n",
       "Büşra  0.238891  0.449709  0.395149\n",
       "Selin  0.186422  1.407449 -0.481367\n",
       "Sevgi  0.291732  0.679640  1.988782"
      ]
     },
     "execution_count": 29,
     "metadata": {},
     "output_type": "execute_result"
    }
   ],
   "source": [
    "yeniDataFrame"
   ]
  },
  {
   "cell_type": "code",
   "execution_count": 30,
   "id": "62c3df1d",
   "metadata": {},
   "outputs": [],
   "source": [
    " yeniDataFrame=pd.DataFrame(data,index=[\"Atıl\",\"Büşra\",\"Selin\",\"Sevgi\"],columns=[\"Maas\",\"Yas\",\"Calisma Saati\"])"
   ]
  },
  {
   "cell_type": "code",
   "execution_count": 31,
   "id": "e1adb4a0",
   "metadata": {},
   "outputs": [
    {
     "data": {
      "text/html": [
       "<div>\n",
       "<style scoped>\n",
       "    .dataframe tbody tr th:only-of-type {\n",
       "        vertical-align: middle;\n",
       "    }\n",
       "\n",
       "    .dataframe tbody tr th {\n",
       "        vertical-align: top;\n",
       "    }\n",
       "\n",
       "    .dataframe thead th {\n",
       "        text-align: right;\n",
       "    }\n",
       "</style>\n",
       "<table border=\"1\" class=\"dataframe\">\n",
       "  <thead>\n",
       "    <tr style=\"text-align: right;\">\n",
       "      <th></th>\n",
       "      <th>Maas</th>\n",
       "      <th>Yas</th>\n",
       "      <th>Calisma Saati</th>\n",
       "    </tr>\n",
       "  </thead>\n",
       "  <tbody>\n",
       "    <tr>\n",
       "      <th>Atıl</th>\n",
       "      <td>-1.763751</td>\n",
       "      <td>0.122874</td>\n",
       "      <td>-0.233257</td>\n",
       "    </tr>\n",
       "    <tr>\n",
       "      <th>Büşra</th>\n",
       "      <td>0.238891</td>\n",
       "      <td>0.449709</td>\n",
       "      <td>0.395149</td>\n",
       "    </tr>\n",
       "    <tr>\n",
       "      <th>Selin</th>\n",
       "      <td>0.186422</td>\n",
       "      <td>1.407449</td>\n",
       "      <td>-0.481367</td>\n",
       "    </tr>\n",
       "    <tr>\n",
       "      <th>Sevgi</th>\n",
       "      <td>0.291732</td>\n",
       "      <td>0.679640</td>\n",
       "      <td>1.988782</td>\n",
       "    </tr>\n",
       "  </tbody>\n",
       "</table>\n",
       "</div>"
      ],
      "text/plain": [
       "           Maas       Yas  Calisma Saati\n",
       "Atıl  -1.763751  0.122874      -0.233257\n",
       "Büşra  0.238891  0.449709       0.395149\n",
       "Selin  0.186422  1.407449      -0.481367\n",
       "Sevgi  0.291732  0.679640       1.988782"
      ]
     },
     "execution_count": 31,
     "metadata": {},
     "output_type": "execute_result"
    }
   ],
   "source": [
    "yeniDataFrame"
   ]
  },
  {
   "cell_type": "code",
   "execution_count": 32,
   "id": "1fa2dbe5",
   "metadata": {},
   "outputs": [
    {
     "data": {
      "text/plain": [
       "Atıl     0.122874\n",
       "Büşra    0.449709\n",
       "Selin    1.407449\n",
       "Sevgi    0.679640\n",
       "Name: Yas, dtype: float64"
      ]
     },
     "execution_count": 32,
     "metadata": {},
     "output_type": "execute_result"
    }
   ],
   "source": [
    "yeniDataFrame[\"Yas\"]"
   ]
  },
  {
   "cell_type": "code",
   "execution_count": 33,
   "id": "4fdbd192",
   "metadata": {},
   "outputs": [
    {
     "data": {
      "text/plain": [
       "Atıl    -0.233257\n",
       "Büşra    0.395149\n",
       "Selin   -0.481367\n",
       "Sevgi    1.988782\n",
       "Name: Calisma Saati, dtype: float64"
      ]
     },
     "execution_count": 33,
     "metadata": {},
     "output_type": "execute_result"
    }
   ],
   "source": [
    "yeniDataFrame[\"Calisma Saati\"]"
   ]
  },
  {
   "cell_type": "code",
   "execution_count": 34,
   "id": "9c141e26",
   "metadata": {
    "scrolled": true
   },
   "outputs": [
    {
     "data": {
      "text/html": [
       "<div>\n",
       "<style scoped>\n",
       "    .dataframe tbody tr th:only-of-type {\n",
       "        vertical-align: middle;\n",
       "    }\n",
       "\n",
       "    .dataframe tbody tr th {\n",
       "        vertical-align: top;\n",
       "    }\n",
       "\n",
       "    .dataframe thead th {\n",
       "        text-align: right;\n",
       "    }\n",
       "</style>\n",
       "<table border=\"1\" class=\"dataframe\">\n",
       "  <thead>\n",
       "    <tr style=\"text-align: right;\">\n",
       "      <th></th>\n",
       "      <th>Maas</th>\n",
       "      <th>Yas</th>\n",
       "    </tr>\n",
       "  </thead>\n",
       "  <tbody>\n",
       "    <tr>\n",
       "      <th>Atıl</th>\n",
       "      <td>-1.763751</td>\n",
       "      <td>0.122874</td>\n",
       "    </tr>\n",
       "    <tr>\n",
       "      <th>Büşra</th>\n",
       "      <td>0.238891</td>\n",
       "      <td>0.449709</td>\n",
       "    </tr>\n",
       "    <tr>\n",
       "      <th>Selin</th>\n",
       "      <td>0.186422</td>\n",
       "      <td>1.407449</td>\n",
       "    </tr>\n",
       "    <tr>\n",
       "      <th>Sevgi</th>\n",
       "      <td>0.291732</td>\n",
       "      <td>0.679640</td>\n",
       "    </tr>\n",
       "  </tbody>\n",
       "</table>\n",
       "</div>"
      ],
      "text/plain": [
       "           Maas       Yas\n",
       "Atıl  -1.763751  0.122874\n",
       "Büşra  0.238891  0.449709\n",
       "Selin  0.186422  1.407449\n",
       "Sevgi  0.291732  0.679640"
      ]
     },
     "execution_count": 34,
     "metadata": {},
     "output_type": "execute_result"
    }
   ],
   "source": [
    "yeniDataFrame[[\"Maas\",\"Yas\"]]"
   ]
  },
  {
   "cell_type": "code",
   "execution_count": 35,
   "id": "657ed7bd",
   "metadata": {},
   "outputs": [
    {
     "data": {
      "text/plain": [
       "Maas            -1.763751\n",
       "Yas              0.122874\n",
       "Calisma Saati   -0.233257\n",
       "Name: Atıl, dtype: float64"
      ]
     },
     "execution_count": 35,
     "metadata": {},
     "output_type": "execute_result"
    }
   ],
   "source": [
    "#sadece Atıl'ı getirmesini istiyorum\n",
    "yeniDataFrame.loc[\"Atıl\"]"
   ]
  },
  {
   "cell_type": "code",
   "execution_count": 36,
   "id": "2c841d9b",
   "metadata": {},
   "outputs": [
    {
     "data": {
      "text/plain": [
       "Maas             0.291732\n",
       "Yas              0.679640\n",
       "Calisma Saati    1.988782\n",
       "Name: Sevgi, dtype: float64"
      ]
     },
     "execution_count": 36,
     "metadata": {},
     "output_type": "execute_result"
    }
   ],
   "source": [
    "yeniDataFrame.loc[\"Sevgi\"]"
   ]
  },
  {
   "cell_type": "code",
   "execution_count": 37,
   "id": "5e1082e1",
   "metadata": {},
   "outputs": [
    {
     "data": {
      "text/plain": [
       "Maas             0.238891\n",
       "Yas              0.449709\n",
       "Calisma Saati    0.395149\n",
       "Name: Büşra, dtype: float64"
      ]
     },
     "execution_count": 37,
     "metadata": {},
     "output_type": "execute_result"
    }
   ],
   "source": [
    "#iloc ->index location\n",
    "yeniDataFrame.iloc[1]"
   ]
  },
  {
   "cell_type": "markdown",
   "id": "5f114a5f",
   "metadata": {},
   "source": [
    "# data-frame indexler"
   ]
  },
  {
   "cell_type": "code",
   "execution_count": 39,
   "id": "b2b1e174",
   "metadata": {},
   "outputs": [
    {
     "data": {
      "text/html": [
       "<div>\n",
       "<style scoped>\n",
       "    .dataframe tbody tr th:only-of-type {\n",
       "        vertical-align: middle;\n",
       "    }\n",
       "\n",
       "    .dataframe tbody tr th {\n",
       "        vertical-align: top;\n",
       "    }\n",
       "\n",
       "    .dataframe thead th {\n",
       "        text-align: right;\n",
       "    }\n",
       "</style>\n",
       "<table border=\"1\" class=\"dataframe\">\n",
       "  <thead>\n",
       "    <tr style=\"text-align: right;\">\n",
       "      <th></th>\n",
       "      <th>Maas</th>\n",
       "      <th>Yas</th>\n",
       "      <th>Calisma Saati</th>\n",
       "    </tr>\n",
       "  </thead>\n",
       "  <tbody>\n",
       "    <tr>\n",
       "      <th>Atıl</th>\n",
       "      <td>-1.763751</td>\n",
       "      <td>0.122874</td>\n",
       "      <td>-0.233257</td>\n",
       "    </tr>\n",
       "    <tr>\n",
       "      <th>Büşra</th>\n",
       "      <td>0.238891</td>\n",
       "      <td>0.449709</td>\n",
       "      <td>0.395149</td>\n",
       "    </tr>\n",
       "    <tr>\n",
       "      <th>Selin</th>\n",
       "      <td>0.186422</td>\n",
       "      <td>1.407449</td>\n",
       "      <td>-0.481367</td>\n",
       "    </tr>\n",
       "    <tr>\n",
       "      <th>Sevgi</th>\n",
       "      <td>0.291732</td>\n",
       "      <td>0.679640</td>\n",
       "      <td>1.988782</td>\n",
       "    </tr>\n",
       "  </tbody>\n",
       "</table>\n",
       "</div>"
      ],
      "text/plain": [
       "           Maas       Yas  Calisma Saati\n",
       "Atıl  -1.763751  0.122874      -0.233257\n",
       "Büşra  0.238891  0.449709       0.395149\n",
       "Selin  0.186422  1.407449      -0.481367\n",
       "Sevgi  0.291732  0.679640       1.988782"
      ]
     },
     "execution_count": 39,
     "metadata": {},
     "output_type": "execute_result"
    }
   ],
   "source": [
    "yeniDataFrame"
   ]
  },
  {
   "cell_type": "code",
   "execution_count": 40,
   "id": "8fe4e925",
   "metadata": {},
   "outputs": [],
   "source": [
    "#bir tane daha kolon eklemek istiyoruz\n",
    "yeniDataFrame[\"Emeklilik Yasi\"]=yeniDataFrame[\"Yas\"]+yeniDataFrame[\"Yas\"]"
   ]
  },
  {
   "cell_type": "code",
   "execution_count": 41,
   "id": "7cd7ac0e",
   "metadata": {},
   "outputs": [
    {
     "data": {
      "text/html": [
       "<div>\n",
       "<style scoped>\n",
       "    .dataframe tbody tr th:only-of-type {\n",
       "        vertical-align: middle;\n",
       "    }\n",
       "\n",
       "    .dataframe tbody tr th {\n",
       "        vertical-align: top;\n",
       "    }\n",
       "\n",
       "    .dataframe thead th {\n",
       "        text-align: right;\n",
       "    }\n",
       "</style>\n",
       "<table border=\"1\" class=\"dataframe\">\n",
       "  <thead>\n",
       "    <tr style=\"text-align: right;\">\n",
       "      <th></th>\n",
       "      <th>Maas</th>\n",
       "      <th>Yas</th>\n",
       "      <th>Calisma Saati</th>\n",
       "      <th>Emeklilik Yasi</th>\n",
       "    </tr>\n",
       "  </thead>\n",
       "  <tbody>\n",
       "    <tr>\n",
       "      <th>Atıl</th>\n",
       "      <td>-1.763751</td>\n",
       "      <td>0.122874</td>\n",
       "      <td>-0.233257</td>\n",
       "      <td>0.245749</td>\n",
       "    </tr>\n",
       "    <tr>\n",
       "      <th>Büşra</th>\n",
       "      <td>0.238891</td>\n",
       "      <td>0.449709</td>\n",
       "      <td>0.395149</td>\n",
       "      <td>0.899419</td>\n",
       "    </tr>\n",
       "    <tr>\n",
       "      <th>Selin</th>\n",
       "      <td>0.186422</td>\n",
       "      <td>1.407449</td>\n",
       "      <td>-0.481367</td>\n",
       "      <td>2.814899</td>\n",
       "    </tr>\n",
       "    <tr>\n",
       "      <th>Sevgi</th>\n",
       "      <td>0.291732</td>\n",
       "      <td>0.679640</td>\n",
       "      <td>1.988782</td>\n",
       "      <td>1.359279</td>\n",
       "    </tr>\n",
       "  </tbody>\n",
       "</table>\n",
       "</div>"
      ],
      "text/plain": [
       "           Maas       Yas  Calisma Saati  Emeklilik Yasi\n",
       "Atıl  -1.763751  0.122874      -0.233257        0.245749\n",
       "Büşra  0.238891  0.449709       0.395149        0.899419\n",
       "Selin  0.186422  1.407449      -0.481367        2.814899\n",
       "Sevgi  0.291732  0.679640       1.988782        1.359279"
      ]
     },
     "execution_count": 41,
     "metadata": {},
     "output_type": "execute_result"
    }
   ],
   "source": [
    "yeniDataFrame"
   ]
  },
  {
   "cell_type": "code",
   "execution_count": 42,
   "id": "9c7c907e",
   "metadata": {},
   "outputs": [
    {
     "data": {
      "text/html": [
       "<div>\n",
       "<style scoped>\n",
       "    .dataframe tbody tr th:only-of-type {\n",
       "        vertical-align: middle;\n",
       "    }\n",
       "\n",
       "    .dataframe tbody tr th {\n",
       "        vertical-align: top;\n",
       "    }\n",
       "\n",
       "    .dataframe thead th {\n",
       "        text-align: right;\n",
       "    }\n",
       "</style>\n",
       "<table border=\"1\" class=\"dataframe\">\n",
       "  <thead>\n",
       "    <tr style=\"text-align: right;\">\n",
       "      <th></th>\n",
       "      <th>Maas</th>\n",
       "      <th>Yas</th>\n",
       "      <th>Calisma Saati</th>\n",
       "    </tr>\n",
       "  </thead>\n",
       "  <tbody>\n",
       "    <tr>\n",
       "      <th>Atıl</th>\n",
       "      <td>-1.763751</td>\n",
       "      <td>0.122874</td>\n",
       "      <td>-0.233257</td>\n",
       "    </tr>\n",
       "    <tr>\n",
       "      <th>Büşra</th>\n",
       "      <td>0.238891</td>\n",
       "      <td>0.449709</td>\n",
       "      <td>0.395149</td>\n",
       "    </tr>\n",
       "    <tr>\n",
       "      <th>Selin</th>\n",
       "      <td>0.186422</td>\n",
       "      <td>1.407449</td>\n",
       "      <td>-0.481367</td>\n",
       "    </tr>\n",
       "    <tr>\n",
       "      <th>Sevgi</th>\n",
       "      <td>0.291732</td>\n",
       "      <td>0.679640</td>\n",
       "      <td>1.988782</td>\n",
       "    </tr>\n",
       "  </tbody>\n",
       "</table>\n",
       "</div>"
      ],
      "text/plain": [
       "           Maas       Yas  Calisma Saati\n",
       "Atıl  -1.763751  0.122874      -0.233257\n",
       "Büşra  0.238891  0.449709       0.395149\n",
       "Selin  0.186422  1.407449      -0.481367\n",
       "Sevgi  0.291732  0.679640       1.988782"
      ]
     },
     "execution_count": 42,
     "metadata": {},
     "output_type": "execute_result"
    }
   ],
   "source": [
    "#drop: düşürmek\n",
    "yeniDataFrame.drop(\"Emeklilik Yasi\" , axis=1) #axis=1 column düşürme"
   ]
  },
  {
   "cell_type": "code",
   "execution_count": 44,
   "id": "48c32473",
   "metadata": {},
   "outputs": [
    {
     "data": {
      "text/html": [
       "<div>\n",
       "<style scoped>\n",
       "    .dataframe tbody tr th:only-of-type {\n",
       "        vertical-align: middle;\n",
       "    }\n",
       "\n",
       "    .dataframe tbody tr th {\n",
       "        vertical-align: top;\n",
       "    }\n",
       "\n",
       "    .dataframe thead th {\n",
       "        text-align: right;\n",
       "    }\n",
       "</style>\n",
       "<table border=\"1\" class=\"dataframe\">\n",
       "  <thead>\n",
       "    <tr style=\"text-align: right;\">\n",
       "      <th></th>\n",
       "      <th>Maas</th>\n",
       "      <th>Yas</th>\n",
       "      <th>Calisma Saati</th>\n",
       "      <th>Emeklilik Yasi</th>\n",
       "    </tr>\n",
       "  </thead>\n",
       "  <tbody>\n",
       "    <tr>\n",
       "      <th>Büşra</th>\n",
       "      <td>0.238891</td>\n",
       "      <td>0.449709</td>\n",
       "      <td>0.395149</td>\n",
       "      <td>0.899419</td>\n",
       "    </tr>\n",
       "    <tr>\n",
       "      <th>Selin</th>\n",
       "      <td>0.186422</td>\n",
       "      <td>1.407449</td>\n",
       "      <td>-0.481367</td>\n",
       "      <td>2.814899</td>\n",
       "    </tr>\n",
       "    <tr>\n",
       "      <th>Sevgi</th>\n",
       "      <td>0.291732</td>\n",
       "      <td>0.679640</td>\n",
       "      <td>1.988782</td>\n",
       "      <td>1.359279</td>\n",
       "    </tr>\n",
       "  </tbody>\n",
       "</table>\n",
       "</div>"
      ],
      "text/plain": [
       "           Maas       Yas  Calisma Saati  Emeklilik Yasi\n",
       "Büşra  0.238891  0.449709       0.395149        0.899419\n",
       "Selin  0.186422  1.407449      -0.481367        2.814899\n",
       "Sevgi  0.291732  0.679640       1.988782        1.359279"
      ]
     },
     "execution_count": 44,
     "metadata": {},
     "output_type": "execute_result"
    }
   ],
   "source": [
    "#yeniDataFrame.drop(\"Atıl\" , axis=0) #axis=0 row düşürme ya da \n",
    "yeniDataFrame.drop(\"Atıl\")"
   ]
  },
  {
   "cell_type": "code",
   "execution_count": 45,
   "id": "b5b6853c",
   "metadata": {},
   "outputs": [
    {
     "data": {
      "text/html": [
       "<div>\n",
       "<style scoped>\n",
       "    .dataframe tbody tr th:only-of-type {\n",
       "        vertical-align: middle;\n",
       "    }\n",
       "\n",
       "    .dataframe tbody tr th {\n",
       "        vertical-align: top;\n",
       "    }\n",
       "\n",
       "    .dataframe thead th {\n",
       "        text-align: right;\n",
       "    }\n",
       "</style>\n",
       "<table border=\"1\" class=\"dataframe\">\n",
       "  <thead>\n",
       "    <tr style=\"text-align: right;\">\n",
       "      <th></th>\n",
       "      <th>Maas</th>\n",
       "      <th>Yas</th>\n",
       "      <th>Calisma Saati</th>\n",
       "      <th>Emeklilik Yasi</th>\n",
       "    </tr>\n",
       "  </thead>\n",
       "  <tbody>\n",
       "    <tr>\n",
       "      <th>Atıl</th>\n",
       "      <td>-1.763751</td>\n",
       "      <td>0.122874</td>\n",
       "      <td>-0.233257</td>\n",
       "      <td>0.245749</td>\n",
       "    </tr>\n",
       "    <tr>\n",
       "      <th>Büşra</th>\n",
       "      <td>0.238891</td>\n",
       "      <td>0.449709</td>\n",
       "      <td>0.395149</td>\n",
       "      <td>0.899419</td>\n",
       "    </tr>\n",
       "    <tr>\n",
       "      <th>Selin</th>\n",
       "      <td>0.186422</td>\n",
       "      <td>1.407449</td>\n",
       "      <td>-0.481367</td>\n",
       "      <td>2.814899</td>\n",
       "    </tr>\n",
       "    <tr>\n",
       "      <th>Sevgi</th>\n",
       "      <td>0.291732</td>\n",
       "      <td>0.679640</td>\n",
       "      <td>1.988782</td>\n",
       "      <td>1.359279</td>\n",
       "    </tr>\n",
       "  </tbody>\n",
       "</table>\n",
       "</div>"
      ],
      "text/plain": [
       "           Maas       Yas  Calisma Saati  Emeklilik Yasi\n",
       "Atıl  -1.763751  0.122874      -0.233257        0.245749\n",
       "Büşra  0.238891  0.449709       0.395149        0.899419\n",
       "Selin  0.186422  1.407449      -0.481367        2.814899\n",
       "Sevgi  0.291732  0.679640       1.988782        1.359279"
      ]
     },
     "execution_count": 45,
     "metadata": {},
     "output_type": "execute_result"
    }
   ],
   "source": [
    "yeniDataFrame #sanki hiçbiri düşmemiş gibi tekrar aynı şeyi veriyor"
   ]
  },
  {
   "cell_type": "code",
   "execution_count": 46,
   "id": "73eb395f",
   "metadata": {},
   "outputs": [],
   "source": [
    "#komple silmek için o şeyi belirtmek lazım. inplace: bunun yerinde işlemi yap\n",
    "yeniDataFrame.drop(\"Emeklilik Yasi\",axis=1,inplace=True)"
   ]
  },
  {
   "cell_type": "code",
   "execution_count": 47,
   "id": "154b3c9d",
   "metadata": {},
   "outputs": [
    {
     "data": {
      "text/html": [
       "<div>\n",
       "<style scoped>\n",
       "    .dataframe tbody tr th:only-of-type {\n",
       "        vertical-align: middle;\n",
       "    }\n",
       "\n",
       "    .dataframe tbody tr th {\n",
       "        vertical-align: top;\n",
       "    }\n",
       "\n",
       "    .dataframe thead th {\n",
       "        text-align: right;\n",
       "    }\n",
       "</style>\n",
       "<table border=\"1\" class=\"dataframe\">\n",
       "  <thead>\n",
       "    <tr style=\"text-align: right;\">\n",
       "      <th></th>\n",
       "      <th>Maas</th>\n",
       "      <th>Yas</th>\n",
       "      <th>Calisma Saati</th>\n",
       "    </tr>\n",
       "  </thead>\n",
       "  <tbody>\n",
       "    <tr>\n",
       "      <th>Atıl</th>\n",
       "      <td>-1.763751</td>\n",
       "      <td>0.122874</td>\n",
       "      <td>-0.233257</td>\n",
       "    </tr>\n",
       "    <tr>\n",
       "      <th>Büşra</th>\n",
       "      <td>0.238891</td>\n",
       "      <td>0.449709</td>\n",
       "      <td>0.395149</td>\n",
       "    </tr>\n",
       "    <tr>\n",
       "      <th>Selin</th>\n",
       "      <td>0.186422</td>\n",
       "      <td>1.407449</td>\n",
       "      <td>-0.481367</td>\n",
       "    </tr>\n",
       "    <tr>\n",
       "      <th>Sevgi</th>\n",
       "      <td>0.291732</td>\n",
       "      <td>0.679640</td>\n",
       "      <td>1.988782</td>\n",
       "    </tr>\n",
       "  </tbody>\n",
       "</table>\n",
       "</div>"
      ],
      "text/plain": [
       "           Maas       Yas  Calisma Saati\n",
       "Atıl  -1.763751  0.122874      -0.233257\n",
       "Büşra  0.238891  0.449709       0.395149\n",
       "Selin  0.186422  1.407449      -0.481367\n",
       "Sevgi  0.291732  0.679640       1.988782"
      ]
     },
     "execution_count": 47,
     "metadata": {},
     "output_type": "execute_result"
    }
   ],
   "source": [
    "yeniDataFrame"
   ]
  },
  {
   "cell_type": "code",
   "execution_count": 49,
   "id": "80edd3ea",
   "metadata": {},
   "outputs": [
    {
     "data": {
      "text/plain": [
       "-1.7637508515777853"
      ]
     },
     "execution_count": 49,
     "metadata": {},
     "output_type": "execute_result"
    }
   ],
   "source": [
    "yeniDataFrame.loc[\"Atıl\"][\"Maas\"]"
   ]
  },
  {
   "cell_type": "code",
   "execution_count": 51,
   "id": "608b6c4a",
   "metadata": {},
   "outputs": [
    {
     "data": {
      "text/plain": [
       "1.4074493654355082"
      ]
     },
     "execution_count": 51,
     "metadata": {},
     "output_type": "execute_result"
    }
   ],
   "source": [
    "yeniDataFrame.loc[\"Selin\",\"Yas\"]"
   ]
  },
  {
   "cell_type": "code",
   "execution_count": 52,
   "id": "38456413",
   "metadata": {},
   "outputs": [
    {
     "data": {
      "text/html": [
       "<div>\n",
       "<style scoped>\n",
       "    .dataframe tbody tr th:only-of-type {\n",
       "        vertical-align: middle;\n",
       "    }\n",
       "\n",
       "    .dataframe tbody tr th {\n",
       "        vertical-align: top;\n",
       "    }\n",
       "\n",
       "    .dataframe thead th {\n",
       "        text-align: right;\n",
       "    }\n",
       "</style>\n",
       "<table border=\"1\" class=\"dataframe\">\n",
       "  <thead>\n",
       "    <tr style=\"text-align: right;\">\n",
       "      <th></th>\n",
       "      <th>Maas</th>\n",
       "      <th>Yas</th>\n",
       "      <th>Calisma Saati</th>\n",
       "    </tr>\n",
       "  </thead>\n",
       "  <tbody>\n",
       "    <tr>\n",
       "      <th>Atıl</th>\n",
       "      <td>-1.763751</td>\n",
       "      <td>0.122874</td>\n",
       "      <td>-0.233257</td>\n",
       "    </tr>\n",
       "    <tr>\n",
       "      <th>Büşra</th>\n",
       "      <td>0.238891</td>\n",
       "      <td>0.449709</td>\n",
       "      <td>0.395149</td>\n",
       "    </tr>\n",
       "    <tr>\n",
       "      <th>Selin</th>\n",
       "      <td>0.186422</td>\n",
       "      <td>1.407449</td>\n",
       "      <td>-0.481367</td>\n",
       "    </tr>\n",
       "    <tr>\n",
       "      <th>Sevgi</th>\n",
       "      <td>0.291732</td>\n",
       "      <td>0.679640</td>\n",
       "      <td>1.988782</td>\n",
       "    </tr>\n",
       "  </tbody>\n",
       "</table>\n",
       "</div>"
      ],
      "text/plain": [
       "           Maas       Yas  Calisma Saati\n",
       "Atıl  -1.763751  0.122874      -0.233257\n",
       "Büşra  0.238891  0.449709       0.395149\n",
       "Selin  0.186422  1.407449      -0.481367\n",
       "Sevgi  0.291732  0.679640       1.988782"
      ]
     },
     "execution_count": 52,
     "metadata": {},
     "output_type": "execute_result"
    }
   ],
   "source": [
    "yeniDataFrame"
   ]
  },
  {
   "cell_type": "code",
   "execution_count": 53,
   "id": "ee722562",
   "metadata": {},
   "outputs": [
    {
     "data": {
      "text/html": [
       "<div>\n",
       "<style scoped>\n",
       "    .dataframe tbody tr th:only-of-type {\n",
       "        vertical-align: middle;\n",
       "    }\n",
       "\n",
       "    .dataframe tbody tr th {\n",
       "        vertical-align: top;\n",
       "    }\n",
       "\n",
       "    .dataframe thead th {\n",
       "        text-align: right;\n",
       "    }\n",
       "</style>\n",
       "<table border=\"1\" class=\"dataframe\">\n",
       "  <thead>\n",
       "    <tr style=\"text-align: right;\">\n",
       "      <th></th>\n",
       "      <th>Maas</th>\n",
       "      <th>Yas</th>\n",
       "      <th>Calisma Saati</th>\n",
       "    </tr>\n",
       "  </thead>\n",
       "  <tbody>\n",
       "    <tr>\n",
       "      <th>Atıl</th>\n",
       "      <td>True</td>\n",
       "      <td>False</td>\n",
       "      <td>True</td>\n",
       "    </tr>\n",
       "    <tr>\n",
       "      <th>Büşra</th>\n",
       "      <td>False</td>\n",
       "      <td>False</td>\n",
       "      <td>False</td>\n",
       "    </tr>\n",
       "    <tr>\n",
       "      <th>Selin</th>\n",
       "      <td>False</td>\n",
       "      <td>False</td>\n",
       "      <td>True</td>\n",
       "    </tr>\n",
       "    <tr>\n",
       "      <th>Sevgi</th>\n",
       "      <td>False</td>\n",
       "      <td>False</td>\n",
       "      <td>False</td>\n",
       "    </tr>\n",
       "  </tbody>\n",
       "</table>\n",
       "</div>"
      ],
      "text/plain": [
       "        Maas    Yas  Calisma Saati\n",
       "Atıl    True  False           True\n",
       "Büşra  False  False          False\n",
       "Selin  False  False           True\n",
       "Sevgi  False  False          False"
      ]
     },
     "execution_count": 53,
     "metadata": {},
     "output_type": "execute_result"
    }
   ],
   "source": [
    "yeniDataFrame<0"
   ]
  },
  {
   "cell_type": "code",
   "execution_count": 54,
   "id": "f5f81453",
   "metadata": {},
   "outputs": [],
   "source": [
    "booleanFrame=yeniDataFrame<0"
   ]
  },
  {
   "cell_type": "code",
   "execution_count": 55,
   "id": "963519ac",
   "metadata": {},
   "outputs": [
    {
     "data": {
      "text/html": [
       "<div>\n",
       "<style scoped>\n",
       "    .dataframe tbody tr th:only-of-type {\n",
       "        vertical-align: middle;\n",
       "    }\n",
       "\n",
       "    .dataframe tbody tr th {\n",
       "        vertical-align: top;\n",
       "    }\n",
       "\n",
       "    .dataframe thead th {\n",
       "        text-align: right;\n",
       "    }\n",
       "</style>\n",
       "<table border=\"1\" class=\"dataframe\">\n",
       "  <thead>\n",
       "    <tr style=\"text-align: right;\">\n",
       "      <th></th>\n",
       "      <th>Maas</th>\n",
       "      <th>Yas</th>\n",
       "      <th>Calisma Saati</th>\n",
       "    </tr>\n",
       "  </thead>\n",
       "  <tbody>\n",
       "    <tr>\n",
       "      <th>Atıl</th>\n",
       "      <td>True</td>\n",
       "      <td>False</td>\n",
       "      <td>True</td>\n",
       "    </tr>\n",
       "    <tr>\n",
       "      <th>Büşra</th>\n",
       "      <td>False</td>\n",
       "      <td>False</td>\n",
       "      <td>False</td>\n",
       "    </tr>\n",
       "    <tr>\n",
       "      <th>Selin</th>\n",
       "      <td>False</td>\n",
       "      <td>False</td>\n",
       "      <td>True</td>\n",
       "    </tr>\n",
       "    <tr>\n",
       "      <th>Sevgi</th>\n",
       "      <td>False</td>\n",
       "      <td>False</td>\n",
       "      <td>False</td>\n",
       "    </tr>\n",
       "  </tbody>\n",
       "</table>\n",
       "</div>"
      ],
      "text/plain": [
       "        Maas    Yas  Calisma Saati\n",
       "Atıl    True  False           True\n",
       "Büşra  False  False          False\n",
       "Selin  False  False           True\n",
       "Sevgi  False  False          False"
      ]
     },
     "execution_count": 55,
     "metadata": {},
     "output_type": "execute_result"
    }
   ],
   "source": [
    "booleanFrame"
   ]
  },
  {
   "cell_type": "code",
   "execution_count": 56,
   "id": "e20b7d35",
   "metadata": {},
   "outputs": [
    {
     "data": {
      "text/html": [
       "<div>\n",
       "<style scoped>\n",
       "    .dataframe tbody tr th:only-of-type {\n",
       "        vertical-align: middle;\n",
       "    }\n",
       "\n",
       "    .dataframe tbody tr th {\n",
       "        vertical-align: top;\n",
       "    }\n",
       "\n",
       "    .dataframe thead th {\n",
       "        text-align: right;\n",
       "    }\n",
       "</style>\n",
       "<table border=\"1\" class=\"dataframe\">\n",
       "  <thead>\n",
       "    <tr style=\"text-align: right;\">\n",
       "      <th></th>\n",
       "      <th>Maas</th>\n",
       "      <th>Yas</th>\n",
       "      <th>Calisma Saati</th>\n",
       "    </tr>\n",
       "  </thead>\n",
       "  <tbody>\n",
       "    <tr>\n",
       "      <th>Atıl</th>\n",
       "      <td>-1.763751</td>\n",
       "      <td>0.122874</td>\n",
       "      <td>-0.233257</td>\n",
       "    </tr>\n",
       "    <tr>\n",
       "      <th>Büşra</th>\n",
       "      <td>0.238891</td>\n",
       "      <td>0.449709</td>\n",
       "      <td>0.395149</td>\n",
       "    </tr>\n",
       "    <tr>\n",
       "      <th>Selin</th>\n",
       "      <td>0.186422</td>\n",
       "      <td>1.407449</td>\n",
       "      <td>-0.481367</td>\n",
       "    </tr>\n",
       "    <tr>\n",
       "      <th>Sevgi</th>\n",
       "      <td>0.291732</td>\n",
       "      <td>0.679640</td>\n",
       "      <td>1.988782</td>\n",
       "    </tr>\n",
       "  </tbody>\n",
       "</table>\n",
       "</div>"
      ],
      "text/plain": [
       "           Maas       Yas  Calisma Saati\n",
       "Atıl  -1.763751  0.122874      -0.233257\n",
       "Büşra  0.238891  0.449709       0.395149\n",
       "Selin  0.186422  1.407449      -0.481367\n",
       "Sevgi  0.291732  0.679640       1.988782"
      ]
     },
     "execution_count": 56,
     "metadata": {},
     "output_type": "execute_result"
    }
   ],
   "source": [
    "yeniDataFrame"
   ]
  },
  {
   "cell_type": "code",
   "execution_count": 57,
   "id": "c994788e",
   "metadata": {},
   "outputs": [
    {
     "data": {
      "text/html": [
       "<div>\n",
       "<style scoped>\n",
       "    .dataframe tbody tr th:only-of-type {\n",
       "        vertical-align: middle;\n",
       "    }\n",
       "\n",
       "    .dataframe tbody tr th {\n",
       "        vertical-align: top;\n",
       "    }\n",
       "\n",
       "    .dataframe thead th {\n",
       "        text-align: right;\n",
       "    }\n",
       "</style>\n",
       "<table border=\"1\" class=\"dataframe\">\n",
       "  <thead>\n",
       "    <tr style=\"text-align: right;\">\n",
       "      <th></th>\n",
       "      <th>Maas</th>\n",
       "      <th>Yas</th>\n",
       "      <th>Calisma Saati</th>\n",
       "    </tr>\n",
       "  </thead>\n",
       "  <tbody>\n",
       "    <tr>\n",
       "      <th>Atıl</th>\n",
       "      <td>-1.763751</td>\n",
       "      <td>NaN</td>\n",
       "      <td>-0.233257</td>\n",
       "    </tr>\n",
       "    <tr>\n",
       "      <th>Büşra</th>\n",
       "      <td>NaN</td>\n",
       "      <td>NaN</td>\n",
       "      <td>NaN</td>\n",
       "    </tr>\n",
       "    <tr>\n",
       "      <th>Selin</th>\n",
       "      <td>NaN</td>\n",
       "      <td>NaN</td>\n",
       "      <td>-0.481367</td>\n",
       "    </tr>\n",
       "    <tr>\n",
       "      <th>Sevgi</th>\n",
       "      <td>NaN</td>\n",
       "      <td>NaN</td>\n",
       "      <td>NaN</td>\n",
       "    </tr>\n",
       "  </tbody>\n",
       "</table>\n",
       "</div>"
      ],
      "text/plain": [
       "           Maas  Yas  Calisma Saati\n",
       "Atıl  -1.763751  NaN      -0.233257\n",
       "Büşra       NaN  NaN            NaN\n",
       "Selin       NaN  NaN      -0.481367\n",
       "Sevgi       NaN  NaN            NaN"
      ]
     },
     "execution_count": 57,
     "metadata": {},
     "output_type": "execute_result"
    }
   ],
   "source": [
    "yeniDataFrame[booleanFrame] #0 dan küçük değerleri gösterir diğerleri NaN olur"
   ]
  },
  {
   "cell_type": "code",
   "execution_count": 58,
   "id": "adfd927d",
   "metadata": {},
   "outputs": [
    {
     "data": {
      "text/plain": [
       "Atıl     True\n",
       "Büşra    True\n",
       "Selin    True\n",
       "Sevgi    True\n",
       "Name: Yas, dtype: bool"
      ]
     },
     "execution_count": 58,
     "metadata": {},
     "output_type": "execute_result"
    }
   ],
   "source": [
    "yeniDataFrame[\"Yas\"]>0"
   ]
  },
  {
   "cell_type": "code",
   "execution_count": 60,
   "id": "f168df5b",
   "metadata": {},
   "outputs": [
    {
     "data": {
      "text/html": [
       "<div>\n",
       "<style scoped>\n",
       "    .dataframe tbody tr th:only-of-type {\n",
       "        vertical-align: middle;\n",
       "    }\n",
       "\n",
       "    .dataframe tbody tr th {\n",
       "        vertical-align: top;\n",
       "    }\n",
       "\n",
       "    .dataframe thead th {\n",
       "        text-align: right;\n",
       "    }\n",
       "</style>\n",
       "<table border=\"1\" class=\"dataframe\">\n",
       "  <thead>\n",
       "    <tr style=\"text-align: right;\">\n",
       "      <th></th>\n",
       "      <th>Maas</th>\n",
       "      <th>Yas</th>\n",
       "      <th>Calisma Saati</th>\n",
       "    </tr>\n",
       "  </thead>\n",
       "  <tbody>\n",
       "    <tr>\n",
       "      <th>Büşra</th>\n",
       "      <td>0.238891</td>\n",
       "      <td>0.449709</td>\n",
       "      <td>0.395149</td>\n",
       "    </tr>\n",
       "    <tr>\n",
       "      <th>Selin</th>\n",
       "      <td>0.186422</td>\n",
       "      <td>1.407449</td>\n",
       "      <td>-0.481367</td>\n",
       "    </tr>\n",
       "    <tr>\n",
       "      <th>Sevgi</th>\n",
       "      <td>0.291732</td>\n",
       "      <td>0.679640</td>\n",
       "      <td>1.988782</td>\n",
       "    </tr>\n",
       "  </tbody>\n",
       "</table>\n",
       "</div>"
      ],
      "text/plain": [
       "           Maas       Yas  Calisma Saati\n",
       "Büşra  0.238891  0.449709       0.395149\n",
       "Selin  0.186422  1.407449      -0.481367\n",
       "Sevgi  0.291732  0.679640       1.988782"
      ]
     },
     "execution_count": 60,
     "metadata": {},
     "output_type": "execute_result"
    }
   ],
   "source": [
    "yeniDataFrame[yeniDataFrame[\"Maas\"]>0]"
   ]
  },
  {
   "cell_type": "markdown",
   "id": "5bba3a2c",
   "metadata": {},
   "source": [
    "# index değiştirme"
   ]
  },
  {
   "cell_type": "code",
   "execution_count": 61,
   "id": "d97c22ed",
   "metadata": {},
   "outputs": [
    {
     "data": {
      "text/html": [
       "<div>\n",
       "<style scoped>\n",
       "    .dataframe tbody tr th:only-of-type {\n",
       "        vertical-align: middle;\n",
       "    }\n",
       "\n",
       "    .dataframe tbody tr th {\n",
       "        vertical-align: top;\n",
       "    }\n",
       "\n",
       "    .dataframe thead th {\n",
       "        text-align: right;\n",
       "    }\n",
       "</style>\n",
       "<table border=\"1\" class=\"dataframe\">\n",
       "  <thead>\n",
       "    <tr style=\"text-align: right;\">\n",
       "      <th></th>\n",
       "      <th>index</th>\n",
       "      <th>Maas</th>\n",
       "      <th>Yas</th>\n",
       "      <th>Calisma Saati</th>\n",
       "    </tr>\n",
       "  </thead>\n",
       "  <tbody>\n",
       "    <tr>\n",
       "      <th>0</th>\n",
       "      <td>Atıl</td>\n",
       "      <td>-1.763751</td>\n",
       "      <td>0.122874</td>\n",
       "      <td>-0.233257</td>\n",
       "    </tr>\n",
       "    <tr>\n",
       "      <th>1</th>\n",
       "      <td>Büşra</td>\n",
       "      <td>0.238891</td>\n",
       "      <td>0.449709</td>\n",
       "      <td>0.395149</td>\n",
       "    </tr>\n",
       "    <tr>\n",
       "      <th>2</th>\n",
       "      <td>Selin</td>\n",
       "      <td>0.186422</td>\n",
       "      <td>1.407449</td>\n",
       "      <td>-0.481367</td>\n",
       "    </tr>\n",
       "    <tr>\n",
       "      <th>3</th>\n",
       "      <td>Sevgi</td>\n",
       "      <td>0.291732</td>\n",
       "      <td>0.679640</td>\n",
       "      <td>1.988782</td>\n",
       "    </tr>\n",
       "  </tbody>\n",
       "</table>\n",
       "</div>"
      ],
      "text/plain": [
       "   index      Maas       Yas  Calisma Saati\n",
       "0   Atıl -1.763751  0.122874      -0.233257\n",
       "1  Büşra  0.238891  0.449709       0.395149\n",
       "2  Selin  0.186422  1.407449      -0.481367\n",
       "3  Sevgi  0.291732  0.679640       1.988782"
      ]
     },
     "execution_count": 61,
     "metadata": {},
     "output_type": "execute_result"
    }
   ],
   "source": [
    "yeniDataFrame.reset_index ()  #indexleri resetliyor"
   ]
  },
  {
   "cell_type": "code",
   "execution_count": 62,
   "id": "c9b03ea2",
   "metadata": {},
   "outputs": [
    {
     "data": {
      "text/html": [
       "<div>\n",
       "<style scoped>\n",
       "    .dataframe tbody tr th:only-of-type {\n",
       "        vertical-align: middle;\n",
       "    }\n",
       "\n",
       "    .dataframe tbody tr th {\n",
       "        vertical-align: top;\n",
       "    }\n",
       "\n",
       "    .dataframe thead th {\n",
       "        text-align: right;\n",
       "    }\n",
       "</style>\n",
       "<table border=\"1\" class=\"dataframe\">\n",
       "  <thead>\n",
       "    <tr style=\"text-align: right;\">\n",
       "      <th></th>\n",
       "      <th>Maas</th>\n",
       "      <th>Yas</th>\n",
       "      <th>Calisma Saati</th>\n",
       "    </tr>\n",
       "  </thead>\n",
       "  <tbody>\n",
       "    <tr>\n",
       "      <th>Atıl</th>\n",
       "      <td>-1.763751</td>\n",
       "      <td>0.122874</td>\n",
       "      <td>-0.233257</td>\n",
       "    </tr>\n",
       "    <tr>\n",
       "      <th>Büşra</th>\n",
       "      <td>0.238891</td>\n",
       "      <td>0.449709</td>\n",
       "      <td>0.395149</td>\n",
       "    </tr>\n",
       "    <tr>\n",
       "      <th>Selin</th>\n",
       "      <td>0.186422</td>\n",
       "      <td>1.407449</td>\n",
       "      <td>-0.481367</td>\n",
       "    </tr>\n",
       "    <tr>\n",
       "      <th>Sevgi</th>\n",
       "      <td>0.291732</td>\n",
       "      <td>0.679640</td>\n",
       "      <td>1.988782</td>\n",
       "    </tr>\n",
       "  </tbody>\n",
       "</table>\n",
       "</div>"
      ],
      "text/plain": [
       "           Maas       Yas  Calisma Saati\n",
       "Atıl  -1.763751  0.122874      -0.233257\n",
       "Büşra  0.238891  0.449709       0.395149\n",
       "Selin  0.186422  1.407449      -0.481367\n",
       "Sevgi  0.291732  0.679640       1.988782"
      ]
     },
     "execution_count": 62,
     "metadata": {},
     "output_type": "execute_result"
    }
   ],
   "source": [
    " yeniDataFrame #yine eskisi geliyor o yüzden inplace kullanacağız"
   ]
  },
  {
   "cell_type": "code",
   "execution_count": 63,
   "id": "ef74e8e2",
   "metadata": {},
   "outputs": [],
   "source": [
    "yeniIndexListesi=[\"Ati\",\"Büş\",\"Sel\",\"Sev\"]"
   ]
  },
  {
   "cell_type": "code",
   "execution_count": 64,
   "id": "bb4abc61",
   "metadata": {},
   "outputs": [],
   "source": [
    "yeniDataFrame[\"Yeni Index\"]=yeniIndexListesi"
   ]
  },
  {
   "cell_type": "code",
   "execution_count": 65,
   "id": "2be83fef",
   "metadata": {},
   "outputs": [
    {
     "data": {
      "text/html": [
       "<div>\n",
       "<style scoped>\n",
       "    .dataframe tbody tr th:only-of-type {\n",
       "        vertical-align: middle;\n",
       "    }\n",
       "\n",
       "    .dataframe tbody tr th {\n",
       "        vertical-align: top;\n",
       "    }\n",
       "\n",
       "    .dataframe thead th {\n",
       "        text-align: right;\n",
       "    }\n",
       "</style>\n",
       "<table border=\"1\" class=\"dataframe\">\n",
       "  <thead>\n",
       "    <tr style=\"text-align: right;\">\n",
       "      <th></th>\n",
       "      <th>Maas</th>\n",
       "      <th>Yas</th>\n",
       "      <th>Calisma Saati</th>\n",
       "      <th>Yeni Index</th>\n",
       "    </tr>\n",
       "  </thead>\n",
       "  <tbody>\n",
       "    <tr>\n",
       "      <th>Atıl</th>\n",
       "      <td>-1.763751</td>\n",
       "      <td>0.122874</td>\n",
       "      <td>-0.233257</td>\n",
       "      <td>Ati</td>\n",
       "    </tr>\n",
       "    <tr>\n",
       "      <th>Büşra</th>\n",
       "      <td>0.238891</td>\n",
       "      <td>0.449709</td>\n",
       "      <td>0.395149</td>\n",
       "      <td>Büş</td>\n",
       "    </tr>\n",
       "    <tr>\n",
       "      <th>Selin</th>\n",
       "      <td>0.186422</td>\n",
       "      <td>1.407449</td>\n",
       "      <td>-0.481367</td>\n",
       "      <td>Sel</td>\n",
       "    </tr>\n",
       "    <tr>\n",
       "      <th>Sevgi</th>\n",
       "      <td>0.291732</td>\n",
       "      <td>0.679640</td>\n",
       "      <td>1.988782</td>\n",
       "      <td>Sev</td>\n",
       "    </tr>\n",
       "  </tbody>\n",
       "</table>\n",
       "</div>"
      ],
      "text/plain": [
       "           Maas       Yas  Calisma Saati Yeni Index\n",
       "Atıl  -1.763751  0.122874      -0.233257        Ati\n",
       "Büşra  0.238891  0.449709       0.395149        Büş\n",
       "Selin  0.186422  1.407449      -0.481367        Sel\n",
       "Sevgi  0.291732  0.679640       1.988782        Sev"
      ]
     },
     "execution_count": 65,
     "metadata": {},
     "output_type": "execute_result"
    }
   ],
   "source": [
    "yeniDataFrame"
   ]
  },
  {
   "cell_type": "code",
   "execution_count": 68,
   "id": "fe2cd654",
   "metadata": {},
   "outputs": [],
   "source": [
    "yeniDataFrame.set_index(\"Yeni Index\",inplace=True)  #set_index: indexi ayarlama"
   ]
  },
  {
   "cell_type": "code",
   "execution_count": 69,
   "id": "2b26ba24",
   "metadata": {},
   "outputs": [
    {
     "data": {
      "text/html": [
       "<div>\n",
       "<style scoped>\n",
       "    .dataframe tbody tr th:only-of-type {\n",
       "        vertical-align: middle;\n",
       "    }\n",
       "\n",
       "    .dataframe tbody tr th {\n",
       "        vertical-align: top;\n",
       "    }\n",
       "\n",
       "    .dataframe thead th {\n",
       "        text-align: right;\n",
       "    }\n",
       "</style>\n",
       "<table border=\"1\" class=\"dataframe\">\n",
       "  <thead>\n",
       "    <tr style=\"text-align: right;\">\n",
       "      <th></th>\n",
       "      <th>Maas</th>\n",
       "      <th>Yas</th>\n",
       "      <th>Calisma Saati</th>\n",
       "    </tr>\n",
       "    <tr>\n",
       "      <th>Yeni Index</th>\n",
       "      <th></th>\n",
       "      <th></th>\n",
       "      <th></th>\n",
       "    </tr>\n",
       "  </thead>\n",
       "  <tbody>\n",
       "    <tr>\n",
       "      <th>Ati</th>\n",
       "      <td>-1.763751</td>\n",
       "      <td>0.122874</td>\n",
       "      <td>-0.233257</td>\n",
       "    </tr>\n",
       "    <tr>\n",
       "      <th>Büş</th>\n",
       "      <td>0.238891</td>\n",
       "      <td>0.449709</td>\n",
       "      <td>0.395149</td>\n",
       "    </tr>\n",
       "    <tr>\n",
       "      <th>Sel</th>\n",
       "      <td>0.186422</td>\n",
       "      <td>1.407449</td>\n",
       "      <td>-0.481367</td>\n",
       "    </tr>\n",
       "    <tr>\n",
       "      <th>Sev</th>\n",
       "      <td>0.291732</td>\n",
       "      <td>0.679640</td>\n",
       "      <td>1.988782</td>\n",
       "    </tr>\n",
       "  </tbody>\n",
       "</table>\n",
       "</div>"
      ],
      "text/plain": [
       "                Maas       Yas  Calisma Saati\n",
       "Yeni Index                                   \n",
       "Ati        -1.763751  0.122874      -0.233257\n",
       "Büş         0.238891  0.449709       0.395149\n",
       "Sel         0.186422  1.407449      -0.481367\n",
       "Sev         0.291732  0.679640       1.988782"
      ]
     },
     "execution_count": 69,
     "metadata": {},
     "output_type": "execute_result"
    }
   ],
   "source": [
    "yeniDataFrame"
   ]
  },
  {
   "cell_type": "code",
   "execution_count": 70,
   "id": "4092438e",
   "metadata": {},
   "outputs": [
    {
     "data": {
      "text/plain": [
       "Maas             0.238891\n",
       "Yas              0.449709\n",
       "Calisma Saati    0.395149\n",
       "Name: Büş, dtype: float64"
      ]
     },
     "execution_count": 70,
     "metadata": {},
     "output_type": "execute_result"
    }
   ],
   "source": [
    "yeniDataFrame.loc[\"Büş\"]"
   ]
  },
  {
   "cell_type": "markdown",
   "id": "6b30e332",
   "metadata": {},
   "source": [
    "# Multi Index"
   ]
  },
  {
   "cell_type": "code",
   "execution_count": 72,
   "id": "571abd2b",
   "metadata": {},
   "outputs": [],
   "source": [
    "#Index sayısının çok olduğu durumlarda kullanılır ve temel olarak gruplanır.\n",
    "ilkIndexler=[\"Simpson\",\"Simpson\",\"Simpson\",\"South Park\",\"South Park\",\"South Park\"]"
   ]
  },
  {
   "cell_type": "code",
   "execution_count": 73,
   "id": "1cada7b2",
   "metadata": {},
   "outputs": [],
   "source": [
    "icIndexler=[\"Homer\",\"Bart\",\"Marge\",\"Cartman\",\"Kenny\",\"Kyle\"]"
   ]
  },
  {
   "cell_type": "code",
   "execution_count": 74,
   "id": "81751679",
   "metadata": {},
   "outputs": [],
   "source": [
    "birlesmisIndex=list(zip(ilkIndexler,icIndexler))"
   ]
  },
  {
   "cell_type": "code",
   "execution_count": 75,
   "id": "13b4d173",
   "metadata": {},
   "outputs": [
    {
     "data": {
      "text/plain": [
       "[('Simpson', 'Homer'),\n",
       " ('Simpson', 'Bart'),\n",
       " ('Simpson', 'Marge'),\n",
       " ('South Park', 'Cartman'),\n",
       " ('South Park', 'Kenny'),\n",
       " ('South Park', 'Kyle')]"
      ]
     },
     "execution_count": 75,
     "metadata": {},
     "output_type": "execute_result"
    }
   ],
   "source": [
    "birlesmisIndex"
   ]
  },
  {
   "cell_type": "code",
   "execution_count": 76,
   "id": "16d6e425",
   "metadata": {},
   "outputs": [],
   "source": [
    "birlesmisIndex=pd.MultiIndex.from_tuples(birlesmisIndex)"
   ]
  },
  {
   "cell_type": "code",
   "execution_count": 77,
   "id": "4613a70e",
   "metadata": {},
   "outputs": [
    {
     "data": {
      "text/plain": [
       "MultiIndex([(   'Simpson',   'Homer'),\n",
       "            (   'Simpson',    'Bart'),\n",
       "            (   'Simpson',   'Marge'),\n",
       "            ('South Park', 'Cartman'),\n",
       "            ('South Park',   'Kenny'),\n",
       "            ('South Park',    'Kyle')],\n",
       "           )"
      ]
     },
     "execution_count": 77,
     "metadata": {},
     "output_type": "execute_result"
    }
   ],
   "source": [
    "birlesmisIndex"
   ]
  },
  {
   "cell_type": "code",
   "execution_count": 78,
   "id": "f3cfaad3",
   "metadata": {},
   "outputs": [
    {
     "data": {
      "text/plain": [
       "pandas.core.indexes.multi.MultiIndex"
      ]
     },
     "execution_count": 78,
     "metadata": {},
     "output_type": "execute_result"
    }
   ],
   "source": [
    "type(birlesmisIndex)"
   ]
  },
  {
   "cell_type": "code",
   "execution_count": 79,
   "id": "340406d4",
   "metadata": {},
   "outputs": [],
   "source": [
    "benimCizgiFilmListem=[[40,\"A\"],[10,\"B\"],[30,\"C\"],[9,\"D\"],[10,\"E\"],[11,\"F\"]]"
   ]
  },
  {
   "cell_type": "code",
   "execution_count": 80,
   "id": "f281f8af",
   "metadata": {},
   "outputs": [],
   "source": [
    "cizgiFilmNumpyDizisi=np.array(benimCizgiFilmListem)"
   ]
  },
  {
   "cell_type": "code",
   "execution_count": 81,
   "id": "4644c719",
   "metadata": {},
   "outputs": [],
   "source": [
    "cizgiFilmDataFrame=pd.DataFrame(cizgiFilmNumpyDizisi,index=birlesmisIndex,columns=[\"Yas\",\"Meslek\"])"
   ]
  },
  {
   "cell_type": "code",
   "execution_count": 82,
   "id": "3923f70f",
   "metadata": {},
   "outputs": [
    {
     "data": {
      "text/html": [
       "<div>\n",
       "<style scoped>\n",
       "    .dataframe tbody tr th:only-of-type {\n",
       "        vertical-align: middle;\n",
       "    }\n",
       "\n",
       "    .dataframe tbody tr th {\n",
       "        vertical-align: top;\n",
       "    }\n",
       "\n",
       "    .dataframe thead th {\n",
       "        text-align: right;\n",
       "    }\n",
       "</style>\n",
       "<table border=\"1\" class=\"dataframe\">\n",
       "  <thead>\n",
       "    <tr style=\"text-align: right;\">\n",
       "      <th></th>\n",
       "      <th></th>\n",
       "      <th>Yas</th>\n",
       "      <th>Meslek</th>\n",
       "    </tr>\n",
       "  </thead>\n",
       "  <tbody>\n",
       "    <tr>\n",
       "      <th rowspan=\"3\" valign=\"top\">Simpson</th>\n",
       "      <th>Homer</th>\n",
       "      <td>40</td>\n",
       "      <td>A</td>\n",
       "    </tr>\n",
       "    <tr>\n",
       "      <th>Bart</th>\n",
       "      <td>10</td>\n",
       "      <td>B</td>\n",
       "    </tr>\n",
       "    <tr>\n",
       "      <th>Marge</th>\n",
       "      <td>30</td>\n",
       "      <td>C</td>\n",
       "    </tr>\n",
       "    <tr>\n",
       "      <th rowspan=\"3\" valign=\"top\">South Park</th>\n",
       "      <th>Cartman</th>\n",
       "      <td>9</td>\n",
       "      <td>D</td>\n",
       "    </tr>\n",
       "    <tr>\n",
       "      <th>Kenny</th>\n",
       "      <td>10</td>\n",
       "      <td>E</td>\n",
       "    </tr>\n",
       "    <tr>\n",
       "      <th>Kyle</th>\n",
       "      <td>11</td>\n",
       "      <td>F</td>\n",
       "    </tr>\n",
       "  </tbody>\n",
       "</table>\n",
       "</div>"
      ],
      "text/plain": [
       "                   Yas Meslek\n",
       "Simpson    Homer    40      A\n",
       "           Bart     10      B\n",
       "           Marge    30      C\n",
       "South Park Cartman   9      D\n",
       "           Kenny    10      E\n",
       "           Kyle     11      F"
      ]
     },
     "execution_count": 82,
     "metadata": {},
     "output_type": "execute_result"
    }
   ],
   "source": [
    "cizgiFilmDataFrame"
   ]
  },
  {
   "cell_type": "code",
   "execution_count": 83,
   "id": "7d9dbf27",
   "metadata": {},
   "outputs": [
    {
     "data": {
      "text/html": [
       "<div>\n",
       "<style scoped>\n",
       "    .dataframe tbody tr th:only-of-type {\n",
       "        vertical-align: middle;\n",
       "    }\n",
       "\n",
       "    .dataframe tbody tr th {\n",
       "        vertical-align: top;\n",
       "    }\n",
       "\n",
       "    .dataframe thead th {\n",
       "        text-align: right;\n",
       "    }\n",
       "</style>\n",
       "<table border=\"1\" class=\"dataframe\">\n",
       "  <thead>\n",
       "    <tr style=\"text-align: right;\">\n",
       "      <th></th>\n",
       "      <th>Yas</th>\n",
       "      <th>Meslek</th>\n",
       "    </tr>\n",
       "  </thead>\n",
       "  <tbody>\n",
       "    <tr>\n",
       "      <th>Homer</th>\n",
       "      <td>40</td>\n",
       "      <td>A</td>\n",
       "    </tr>\n",
       "    <tr>\n",
       "      <th>Bart</th>\n",
       "      <td>10</td>\n",
       "      <td>B</td>\n",
       "    </tr>\n",
       "    <tr>\n",
       "      <th>Marge</th>\n",
       "      <td>30</td>\n",
       "      <td>C</td>\n",
       "    </tr>\n",
       "  </tbody>\n",
       "</table>\n",
       "</div>"
      ],
      "text/plain": [
       "      Yas Meslek\n",
       "Homer  40      A\n",
       "Bart   10      B\n",
       "Marge  30      C"
      ]
     },
     "execution_count": 83,
     "metadata": {},
     "output_type": "execute_result"
    }
   ],
   "source": [
    "cizgiFilmDataFrame.loc[\"Simpson\"]"
   ]
  },
  {
   "cell_type": "code",
   "execution_count": 84,
   "id": "3f299700",
   "metadata": {},
   "outputs": [
    {
     "data": {
      "text/html": [
       "<div>\n",
       "<style scoped>\n",
       "    .dataframe tbody tr th:only-of-type {\n",
       "        vertical-align: middle;\n",
       "    }\n",
       "\n",
       "    .dataframe tbody tr th {\n",
       "        vertical-align: top;\n",
       "    }\n",
       "\n",
       "    .dataframe thead th {\n",
       "        text-align: right;\n",
       "    }\n",
       "</style>\n",
       "<table border=\"1\" class=\"dataframe\">\n",
       "  <thead>\n",
       "    <tr style=\"text-align: right;\">\n",
       "      <th></th>\n",
       "      <th>Yas</th>\n",
       "      <th>Meslek</th>\n",
       "    </tr>\n",
       "  </thead>\n",
       "  <tbody>\n",
       "    <tr>\n",
       "      <th>Cartman</th>\n",
       "      <td>9</td>\n",
       "      <td>D</td>\n",
       "    </tr>\n",
       "    <tr>\n",
       "      <th>Kenny</th>\n",
       "      <td>10</td>\n",
       "      <td>E</td>\n",
       "    </tr>\n",
       "    <tr>\n",
       "      <th>Kyle</th>\n",
       "      <td>11</td>\n",
       "      <td>F</td>\n",
       "    </tr>\n",
       "  </tbody>\n",
       "</table>\n",
       "</div>"
      ],
      "text/plain": [
       "        Yas Meslek\n",
       "Cartman   9      D\n",
       "Kenny    10      E\n",
       "Kyle     11      F"
      ]
     },
     "execution_count": 84,
     "metadata": {},
     "output_type": "execute_result"
    }
   ],
   "source": [
    "cizgiFilmDataFrame.loc[\"South Park\"]"
   ]
  },
  {
   "cell_type": "code",
   "execution_count": 85,
   "id": "e8572ffc",
   "metadata": {},
   "outputs": [
    {
     "data": {
      "text/plain": [
       "Yas       10\n",
       "Meslek     E\n",
       "Name: Kenny, dtype: object"
      ]
     },
     "execution_count": 85,
     "metadata": {},
     "output_type": "execute_result"
    }
   ],
   "source": [
    "cizgiFilmDataFrame.loc[\"South Park\"].loc[\"Kenny\"]"
   ]
  },
  {
   "cell_type": "code",
   "execution_count": 86,
   "id": "c3d90ecf",
   "metadata": {},
   "outputs": [
    {
     "data": {
      "text/html": [
       "<div>\n",
       "<style scoped>\n",
       "    .dataframe tbody tr th:only-of-type {\n",
       "        vertical-align: middle;\n",
       "    }\n",
       "\n",
       "    .dataframe tbody tr th {\n",
       "        vertical-align: top;\n",
       "    }\n",
       "\n",
       "    .dataframe thead th {\n",
       "        text-align: right;\n",
       "    }\n",
       "</style>\n",
       "<table border=\"1\" class=\"dataframe\">\n",
       "  <thead>\n",
       "    <tr style=\"text-align: right;\">\n",
       "      <th></th>\n",
       "      <th></th>\n",
       "      <th>Yas</th>\n",
       "      <th>Meslek</th>\n",
       "    </tr>\n",
       "  </thead>\n",
       "  <tbody>\n",
       "    <tr>\n",
       "      <th rowspan=\"3\" valign=\"top\">Simpson</th>\n",
       "      <th>Homer</th>\n",
       "      <td>40</td>\n",
       "      <td>A</td>\n",
       "    </tr>\n",
       "    <tr>\n",
       "      <th>Bart</th>\n",
       "      <td>10</td>\n",
       "      <td>B</td>\n",
       "    </tr>\n",
       "    <tr>\n",
       "      <th>Marge</th>\n",
       "      <td>30</td>\n",
       "      <td>C</td>\n",
       "    </tr>\n",
       "    <tr>\n",
       "      <th rowspan=\"3\" valign=\"top\">South Park</th>\n",
       "      <th>Cartman</th>\n",
       "      <td>9</td>\n",
       "      <td>D</td>\n",
       "    </tr>\n",
       "    <tr>\n",
       "      <th>Kenny</th>\n",
       "      <td>10</td>\n",
       "      <td>E</td>\n",
       "    </tr>\n",
       "    <tr>\n",
       "      <th>Kyle</th>\n",
       "      <td>11</td>\n",
       "      <td>F</td>\n",
       "    </tr>\n",
       "  </tbody>\n",
       "</table>\n",
       "</div>"
      ],
      "text/plain": [
       "                   Yas Meslek\n",
       "Simpson    Homer    40      A\n",
       "           Bart     10      B\n",
       "           Marge    30      C\n",
       "South Park Cartman   9      D\n",
       "           Kenny    10      E\n",
       "           Kyle     11      F"
      ]
     },
     "execution_count": 86,
     "metadata": {},
     "output_type": "execute_result"
    }
   ],
   "source": [
    "cizgiFilmDataFrame"
   ]
  },
  {
   "cell_type": "code",
   "execution_count": 87,
   "id": "2e514c52",
   "metadata": {},
   "outputs": [],
   "source": [
    "cizgiFilmDataFrame.index.names=[\"Film Adı\",\"İsim\"]"
   ]
  },
  {
   "cell_type": "code",
   "execution_count": 88,
   "id": "fd49f81e",
   "metadata": {},
   "outputs": [
    {
     "data": {
      "text/html": [
       "<div>\n",
       "<style scoped>\n",
       "    .dataframe tbody tr th:only-of-type {\n",
       "        vertical-align: middle;\n",
       "    }\n",
       "\n",
       "    .dataframe tbody tr th {\n",
       "        vertical-align: top;\n",
       "    }\n",
       "\n",
       "    .dataframe thead th {\n",
       "        text-align: right;\n",
       "    }\n",
       "</style>\n",
       "<table border=\"1\" class=\"dataframe\">\n",
       "  <thead>\n",
       "    <tr style=\"text-align: right;\">\n",
       "      <th></th>\n",
       "      <th></th>\n",
       "      <th>Yas</th>\n",
       "      <th>Meslek</th>\n",
       "    </tr>\n",
       "    <tr>\n",
       "      <th>Film Adı</th>\n",
       "      <th>İsim</th>\n",
       "      <th></th>\n",
       "      <th></th>\n",
       "    </tr>\n",
       "  </thead>\n",
       "  <tbody>\n",
       "    <tr>\n",
       "      <th rowspan=\"3\" valign=\"top\">Simpson</th>\n",
       "      <th>Homer</th>\n",
       "      <td>40</td>\n",
       "      <td>A</td>\n",
       "    </tr>\n",
       "    <tr>\n",
       "      <th>Bart</th>\n",
       "      <td>10</td>\n",
       "      <td>B</td>\n",
       "    </tr>\n",
       "    <tr>\n",
       "      <th>Marge</th>\n",
       "      <td>30</td>\n",
       "      <td>C</td>\n",
       "    </tr>\n",
       "    <tr>\n",
       "      <th rowspan=\"3\" valign=\"top\">South Park</th>\n",
       "      <th>Cartman</th>\n",
       "      <td>9</td>\n",
       "      <td>D</td>\n",
       "    </tr>\n",
       "    <tr>\n",
       "      <th>Kenny</th>\n",
       "      <td>10</td>\n",
       "      <td>E</td>\n",
       "    </tr>\n",
       "    <tr>\n",
       "      <th>Kyle</th>\n",
       "      <td>11</td>\n",
       "      <td>F</td>\n",
       "    </tr>\n",
       "  </tbody>\n",
       "</table>\n",
       "</div>"
      ],
      "text/plain": [
       "                   Yas Meslek\n",
       "Film Adı   İsim              \n",
       "Simpson    Homer    40      A\n",
       "           Bart     10      B\n",
       "           Marge    30      C\n",
       "South Park Cartman   9      D\n",
       "           Kenny    10      E\n",
       "           Kyle     11      F"
      ]
     },
     "execution_count": 88,
     "metadata": {},
     "output_type": "execute_result"
    }
   ],
   "source": [
    "cizgiFilmDataFrame"
   ]
  },
  {
   "cell_type": "code",
   "execution_count": null,
   "id": "5e295e2a",
   "metadata": {},
   "outputs": [],
   "source": []
  }
 ],
 "metadata": {
  "kernelspec": {
   "display_name": "Python 3 (ipykernel)",
   "language": "python",
   "name": "python3"
  },
  "language_info": {
   "codemirror_mode": {
    "name": "ipython",
    "version": 3
   },
   "file_extension": ".py",
   "mimetype": "text/x-python",
   "name": "python",
   "nbconvert_exporter": "python",
   "pygments_lexer": "ipython3",
   "version": "3.11.4"
  }
 },
 "nbformat": 4,
 "nbformat_minor": 5
}
