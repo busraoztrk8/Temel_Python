{
 "cells": [
  {
   "cell_type": "code",
   "execution_count": 1,
   "id": "9910df1d",
   "metadata": {},
   "outputs": [],
   "source": [
    "benimListem=[1,2,\"a\",4.5]"
   ]
  },
  {
   "cell_type": "code",
   "execution_count": 2,
   "id": "a83b9f1f",
   "metadata": {},
   "outputs": [
    {
     "data": {
      "text/plain": [
       "1"
      ]
     },
     "execution_count": 2,
     "metadata": {},
     "output_type": "execute_result"
    }
   ],
   "source": [
    "benimListem[0]"
   ]
  },
  {
   "cell_type": "code",
   "execution_count": 3,
   "id": "f63f19dd",
   "metadata": {},
   "outputs": [],
   "source": [
    "benimListem[0]=100"
   ]
  },
  {
   "cell_type": "code",
   "execution_count": 4,
   "id": "59ee38f5",
   "metadata": {},
   "outputs": [
    {
     "data": {
      "text/plain": [
       "[100, 2, 'a', 4.5]"
      ]
     },
     "execution_count": 4,
     "metadata": {},
     "output_type": "execute_result"
    }
   ],
   "source": [
    "benimListem"
   ]
  },
  {
   "cell_type": "code",
   "execution_count": 5,
   "id": "ce5d6eda",
   "metadata": {},
   "outputs": [],
   "source": [
    "benimTuple=(1,2,\"a\",4.5)"
   ]
  },
  {
   "cell_type": "code",
   "execution_count": 6,
   "id": "22cd7803",
   "metadata": {},
   "outputs": [
    {
     "data": {
      "text/plain": [
       "(1, 2, 'a', 4.5)"
      ]
     },
     "execution_count": 6,
     "metadata": {},
     "output_type": "execute_result"
    }
   ],
   "source": [
    "benimTuple "
   ]
  },
  {
   "cell_type": "code",
   "execution_count": 8,
   "id": "2d2e8ef9",
   "metadata": {},
   "outputs": [
    {
     "data": {
      "text/plain": [
       "1"
      ]
     },
     "execution_count": 8,
     "metadata": {},
     "output_type": "execute_result"
    }
   ],
   "source": [
    "#liste mantığı gibi sıfırdan başlıyor ama farkı içindekş değeri değiştiremzsiniz\n",
    "#benimTuple[2]=\"b\"\n",
    "benimTuple[0]"
   ]
  },
  {
   "cell_type": "code",
   "execution_count": 9,
   "id": "dc3b6f6a",
   "metadata": {},
   "outputs": [
    {
     "data": {
      "text/plain": [
       "'a'"
      ]
     },
     "execution_count": 9,
     "metadata": {},
     "output_type": "execute_result"
    }
   ],
   "source": [
    "benimTuple[2]"
   ]
  },
  {
   "cell_type": "code",
   "execution_count": 11,
   "id": "7ce53ad0",
   "metadata": {},
   "outputs": [
    {
     "data": {
      "text/plain": [
       "1"
      ]
     },
     "execution_count": 11,
     "metadata": {},
     "output_type": "execute_result"
    }
   ],
   "source": [
    "#count: saymak    \n",
    "benimTuple.count(\"a\")"
   ]
  },
  {
   "cell_type": "code",
   "execution_count": 13,
   "id": "af4ea173",
   "metadata": {},
   "outputs": [
    {
     "data": {
      "text/plain": [
       "3"
      ]
     },
     "execution_count": 13,
     "metadata": {},
     "output_type": "execute_result"
    }
   ],
   "source": [
    "benimTuple.index(4.5)"
   ]
  },
  {
   "cell_type": "code",
   "execution_count": null,
   "id": "1e746b99",
   "metadata": {},
   "outputs": [],
   "source": []
  }
 ],
 "metadata": {
  "kernelspec": {
   "display_name": "Python 3 (ipykernel)",
   "language": "python",
   "name": "python3"
  },
  "language_info": {
   "codemirror_mode": {
    "name": "ipython",
    "version": 3
   },
   "file_extension": ".py",
   "mimetype": "text/x-python",
   "name": "python",
   "nbconvert_exporter": "python",
   "pygments_lexer": "ipython3",
   "version": "3.11.4"
  }
 },
 "nbformat": 4,
 "nbformat_minor": 5
}
