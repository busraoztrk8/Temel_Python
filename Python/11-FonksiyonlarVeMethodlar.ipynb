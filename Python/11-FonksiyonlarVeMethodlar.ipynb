{
 "cells": [
  {
   "cell_type": "code",
   "execution_count": 1,
   "id": "5001faec",
   "metadata": {},
   "outputs": [],
   "source": [
    "banimAdim=\"Büşra Öztürk\""
   ]
  },
  {
   "cell_type": "code",
   "execution_count": 2,
   "id": "21b4a7f2",
   "metadata": {},
   "outputs": [
    {
     "data": {
      "text/plain": [
       "'BÜŞRA ÖZTÜRK'"
      ]
     },
     "execution_count": 2,
     "metadata": {},
     "output_type": "execute_result"
    }
   ],
   "source": [
    "banimAdim.upper()"
   ]
  },
  {
   "cell_type": "code",
   "execution_count": 3,
   "id": "53e0d64a",
   "metadata": {},
   "outputs": [
    {
     "data": {
      "text/plain": [
       "'Büşra Öztürk'"
      ]
     },
     "execution_count": 3,
     "metadata": {},
     "output_type": "execute_result"
    }
   ],
   "source": [
    "banimAdim"
   ]
  },
  {
   "cell_type": "code",
   "execution_count": 4,
   "id": "1057b8e5",
   "metadata": {},
   "outputs": [],
   "source": [
    "benimAdimBuyukHarfli=banimAdim.upper()"
   ]
  },
  {
   "cell_type": "code",
   "execution_count": 5,
   "id": "d11fc954",
   "metadata": {},
   "outputs": [
    {
     "data": {
      "text/plain": [
       "'BÜŞRA ÖZTÜRK'"
      ]
     },
     "execution_count": 5,
     "metadata": {},
     "output_type": "execute_result"
    }
   ],
   "source": [
    "benimAdimBuyukHarfli"
   ]
  },
  {
   "cell_type": "code",
   "execution_count": 6,
   "id": "2bbdfba2",
   "metadata": {},
   "outputs": [
    {
     "data": {
      "text/plain": [
       "'Büşra Öztürk'"
      ]
     },
     "execution_count": 6,
     "metadata": {},
     "output_type": "execute_result"
    }
   ],
   "source": [
    "banimAdim"
   ]
  },
  {
   "cell_type": "code",
   "execution_count": 7,
   "id": "4ec6f2f9",
   "metadata": {},
   "outputs": [],
   "source": [
    "#fonksiyon yazmak için def kullanıyoruz\n",
    "def ilkFonksiyon():\n",
    "    print(\"ilk fonksiyonum\")"
   ]
  },
  {
   "cell_type": "code",
   "execution_count": 8,
   "id": "4540cd84",
   "metadata": {},
   "outputs": [
    {
     "name": "stdout",
     "output_type": "stream",
     "text": [
      "ilk fonksiyonum\n"
     ]
    }
   ],
   "source": [
    "ilkFonksiyon()"
   ]
  },
  {
   "cell_type": "markdown",
   "id": "389f860b",
   "metadata": {},
   "source": [
    "# input & return"
   ]
  },
  {
   "cell_type": "code",
   "execution_count": 10,
   "id": "a9719084",
   "metadata": {},
   "outputs": [],
   "source": [
    "def mehabaDunya(yazdirilacakIsim):\n",
    "    print(\"Merhaba\")\n",
    "    print(yazdirilacakIsim)"
   ]
  },
  {
   "cell_type": "code",
   "execution_count": 11,
   "id": "7003b36c",
   "metadata": {},
   "outputs": [
    {
     "name": "stdout",
     "output_type": "stream",
     "text": [
      "Merhaba\n",
      "Büşra\n"
     ]
    }
   ],
   "source": [
    "mehabaDunya(\"Büşra\")"
   ]
  },
  {
   "cell_type": "code",
   "execution_count": 12,
   "id": "2028a81c",
   "metadata": {},
   "outputs": [],
   "source": [
    "def merhaba(isim=\"Büşra\"):\n",
    "    print(\"merhaba\")\n",
    "    print(isim)"
   ]
  },
  {
   "cell_type": "code",
   "execution_count": 13,
   "id": "1800414c",
   "metadata": {},
   "outputs": [
    {
     "name": "stdout",
     "output_type": "stream",
     "text": [
      "merhaba\n",
      "Büşra\n"
     ]
    }
   ],
   "source": [
    "merhaba()"
   ]
  },
  {
   "cell_type": "code",
   "execution_count": 14,
   "id": "ef55a4db",
   "metadata": {},
   "outputs": [],
   "source": [
    "def toplam(numara1,numara2):\n",
    "    sonuc=numara1+numara2\n",
    "    print(\"Sonuç: \",sonuc)"
   ]
  },
  {
   "cell_type": "code",
   "execution_count": 15,
   "id": "8dda4a40",
   "metadata": {},
   "outputs": [
    {
     "name": "stdout",
     "output_type": "stream",
     "text": [
      "Sonuç:  90\n"
     ]
    }
   ],
   "source": [
    "toplam(2,88)"
   ]
  },
  {
   "cell_type": "code",
   "execution_count": 16,
   "id": "4a370d4b",
   "metadata": {},
   "outputs": [
    {
     "name": "stdout",
     "output_type": "stream",
     "text": [
      "Sonuç:  100\n"
     ]
    }
   ],
   "source": [
    "toplam(-200,300)"
   ]
  },
  {
   "cell_type": "code",
   "execution_count": 21,
   "id": "b908951e",
   "metadata": {},
   "outputs": [],
   "source": [
    "def superToplama(num1,num2,num3):\n",
    "    print(\"Toplam: \",num1+num2+num3)"
   ]
  },
  {
   "cell_type": "code",
   "execution_count": 22,
   "id": "fb352ecb",
   "metadata": {},
   "outputs": [
    {
     "name": "stdout",
     "output_type": "stream",
     "text": [
      "Toplam:  60\n"
     ]
    }
   ],
   "source": [
    "superToplama(10,20,30)"
   ]
  },
  {
   "cell_type": "code",
   "execution_count": 23,
   "id": "f3f33b14",
   "metadata": {},
   "outputs": [
    {
     "name": "stdout",
     "output_type": "stream",
     "text": [
      "Sonuç:  30\n"
     ]
    }
   ],
   "source": [
    "yeniDegisken=toplam(10,20)"
   ]
  },
  {
   "cell_type": "code",
   "execution_count": 24,
   "id": "16e4b471",
   "metadata": {},
   "outputs": [
    {
     "data": {
      "text/plain": [
       "NoneType"
      ]
     },
     "execution_count": 24,
     "metadata": {},
     "output_type": "execute_result"
    }
   ],
   "source": [
    "type(yeniDegisken) #böyle bir değer yok"
   ]
  },
  {
   "cell_type": "code",
   "execution_count": 25,
   "id": "4fd850d5",
   "metadata": {},
   "outputs": [],
   "source": [
    "#return:sonucu döndürme\n",
    "def dondurmeToplama(num1,num2):\n",
    "    return num1+num2"
   ]
  },
  {
   "cell_type": "code",
   "execution_count": 27,
   "id": "301702e6",
   "metadata": {},
   "outputs": [],
   "source": [
    "yeniSonuc=dondurmeToplama(10,20)"
   ]
  },
  {
   "cell_type": "code",
   "execution_count": 28,
   "id": "e4f3cf9d",
   "metadata": {},
   "outputs": [
    {
     "data": {
      "text/plain": [
       "30"
      ]
     },
     "execution_count": 28,
     "metadata": {},
     "output_type": "execute_result"
    }
   ],
   "source": [
    "yeniSonuc"
   ]
  },
  {
   "cell_type": "code",
   "execution_count": 29,
   "id": "7f4091c7",
   "metadata": {},
   "outputs": [
    {
     "data": {
      "text/plain": [
       "int"
      ]
     },
     "execution_count": 29,
     "metadata": {},
     "output_type": "execute_result"
    }
   ],
   "source": [
    "type(yeniSonuc)"
   ]
  },
  {
   "cell_type": "code",
   "execution_count": 32,
   "id": "d9446947",
   "metadata": {},
   "outputs": [],
   "source": [
    "def kontrolFonksiyon(s):\n",
    "    if s ==\"büşra\":\n",
    "        print(\"Verdiğiniz string büşra\")\n",
    "    else:\n",
    "        print(\"Verdiğiniz string başka bir şey\")"
   ]
  },
  {
   "cell_type": "code",
   "execution_count": 33,
   "id": "d193fce3",
   "metadata": {},
   "outputs": [
    {
     "name": "stdout",
     "output_type": "stream",
     "text": [
      "Verdiğiniz string başka bir şey\n"
     ]
    }
   ],
   "source": [
    "kontrolFonksiyon(\"atıl\")"
   ]
  },
  {
   "cell_type": "markdown",
   "id": "f1c32d6c",
   "metadata": {},
   "source": [
    "# args(argümanlar) & kwargs(anahtar kelimeler)"
   ]
  },
  {
   "cell_type": "code",
   "execution_count": 34,
   "id": "eb4aea6a",
   "metadata": {},
   "outputs": [],
   "source": [
    "def yeniToplama(*args):\n",
    "    return sum(args)"
   ]
  },
  {
   "cell_type": "code",
   "execution_count": 35,
   "id": "e6d21cf0",
   "metadata": {},
   "outputs": [
    {
     "data": {
      "text/plain": [
       "210"
      ]
     },
     "execution_count": 35,
     "metadata": {},
     "output_type": "execute_result"
    }
   ],
   "source": [
    "yeniToplama(10,20,30,40,50,60)"
   ]
  },
  {
   "cell_type": "code",
   "execution_count": 36,
   "id": "b2547287",
   "metadata": {},
   "outputs": [],
   "source": [
    "def benimFonksiyonum(*args):\n",
    "    print(args)"
   ]
  },
  {
   "cell_type": "code",
   "execution_count": 37,
   "id": "590af693",
   "metadata": {},
   "outputs": [
    {
     "name": "stdout",
     "output_type": "stream",
     "text": [
      "(20, 30, 40)\n"
     ]
    },
    {
     "data": {
      "text/plain": [
       "NoneType"
      ]
     },
     "execution_count": 37,
     "metadata": {},
     "output_type": "execute_result"
    }
   ],
   "source": [
    "type(benimFonksiyonum(20,30,40))"
   ]
  },
  {
   "cell_type": "code",
   "execution_count": 38,
   "id": "9bcebabb",
   "metadata": {},
   "outputs": [],
   "source": [
    "def ornekFonksiyon(**kwarge):\n",
    "    print(kwarge)"
   ]
  },
  {
   "cell_type": "code",
   "execution_count": 40,
   "id": "893d21b5",
   "metadata": {},
   "outputs": [
    {
     "name": "stdout",
     "output_type": "stream",
     "text": [
      "{'muz': 100, 'elma': 200, 'armut': 300}\n"
     ]
    }
   ],
   "source": [
    "ornekFonksiyon(muz=100,elma=200,armut=300)"
   ]
  },
  {
   "cell_type": "code",
   "execution_count": 41,
   "id": "3d29d72d",
   "metadata": {},
   "outputs": [],
   "source": [
    "def keyWordKontrolu(**kwargs):\n",
    "    if \"büşra\" in kwargs:\n",
    "        print(\"büşra var\")\n",
    "    else:\n",
    "        print(\"büşra yok\")"
   ]
  },
  {
   "cell_type": "code",
   "execution_count": 42,
   "id": "2da68a4b",
   "metadata": {},
   "outputs": [
    {
     "name": "stdout",
     "output_type": "stream",
     "text": [
      "büşra var\n"
     ]
    }
   ],
   "source": [
    "keyWordKontrolu(büşra=22,selin=20,sevgi=20)"
   ]
  },
  {
   "cell_type": "code",
   "execution_count": null,
   "id": "33ae9b10",
   "metadata": {},
   "outputs": [],
   "source": []
  }
 ],
 "metadata": {
  "kernelspec": {
   "display_name": "Python 3 (ipykernel)",
   "language": "python",
   "name": "python3"
  },
  "language_info": {
   "codemirror_mode": {
    "name": "ipython",
    "version": 3
   },
   "file_extension": ".py",
   "mimetype": "text/x-python",
   "name": "python",
   "nbconvert_exporter": "python",
   "pygments_lexer": "ipython3",
   "version": "3.11.4"
  }
 },
 "nbformat": 4,
 "nbformat_minor": 5
}
