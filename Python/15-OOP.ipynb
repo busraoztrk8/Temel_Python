{
 "cells": [
  {
   "cell_type": "code",
   "execution_count": 1,
   "id": "afdffce0",
   "metadata": {},
   "outputs": [],
   "source": [
    "benimListem=list()"
   ]
  },
  {
   "cell_type": "code",
   "execution_count": 2,
   "id": "d2ee241f",
   "metadata": {},
   "outputs": [
    {
     "data": {
      "text/plain": [
       "list"
      ]
     },
     "execution_count": 2,
     "metadata": {},
     "output_type": "execute_result"
    }
   ],
   "source": [
    "type(benimListem)"
   ]
  },
  {
   "cell_type": "markdown",
   "id": "1676b4ab",
   "metadata": {},
   "source": [
    "# instance(örnek) & attribute(özellik)"
   ]
  },
  {
   "cell_type": "code",
   "execution_count": 4,
   "id": "26b649b5",
   "metadata": {},
   "outputs": [],
   "source": [
    "benimListem.append(10) #nokatadan sonrası gelmesi için tab tuşuna bas gelir"
   ]
  },
  {
   "cell_type": "code",
   "execution_count": 6,
   "id": "4057184e",
   "metadata": {},
   "outputs": [
    {
     "data": {
      "text/plain": [
       "[10]"
      ]
     },
     "execution_count": 6,
     "metadata": {},
     "output_type": "execute_result"
    }
   ],
   "source": [
    "benimListem"
   ]
  },
  {
   "cell_type": "code",
   "execution_count": 15,
   "id": "b8888508",
   "metadata": {},
   "outputs": [],
   "source": [
    "class SuperKahraman():#yeni sınıf oluşturma  init(başlatma fonksiyonu) tanımlı bir fonksiyon\n",
    "    def __init__(self,isimInput,yasInput,meslekInput): #kendisine referans veriyor\n",
    "        print(\"İnit çağırıldı\") \n",
    "        self.isim=isimInput #self.isim->özellikleri verir isimInput->aldığı argümanları temsil eder \n",
    "        self.yas=yasInput\n",
    "        self.meslek=meslekInput"
   ]
  },
  {
   "cell_type": "code",
   "execution_count": 17,
   "id": "8f079a43",
   "metadata": {},
   "outputs": [
    {
     "name": "stdout",
     "output_type": "stream",
     "text": [
      "İnit çağırıldı\n"
     ]
    }
   ],
   "source": [
    "superman=SuperKahraman(\"Superman\",30,\"Gazeteci\")"
   ]
  },
  {
   "cell_type": "code",
   "execution_count": 18,
   "id": "e5449633",
   "metadata": {},
   "outputs": [
    {
     "data": {
      "text/plain": [
       "'Superman'"
      ]
     },
     "execution_count": 18,
     "metadata": {},
     "output_type": "execute_result"
    }
   ],
   "source": [
    "superman.isim"
   ]
  },
  {
   "cell_type": "code",
   "execution_count": 19,
   "id": "5280de8e",
   "metadata": {},
   "outputs": [],
   "source": [
    "superman.isim=\"Clark Kent\" #isimini değiştirebiliyorlar"
   ]
  },
  {
   "cell_type": "code",
   "execution_count": 20,
   "id": "cfa508c1",
   "metadata": {
    "scrolled": true
   },
   "outputs": [
    {
     "data": {
      "text/plain": [
       "'Clark Kent'"
      ]
     },
     "execution_count": 20,
     "metadata": {},
     "output_type": "execute_result"
    }
   ],
   "source": [
    "superman.isim"
   ]
  },
  {
   "cell_type": "markdown",
   "id": "d19e7353",
   "metadata": {},
   "source": [
    "# Metodlar"
   ]
  },
  {
   "cell_type": "code",
   "execution_count": 45,
   "id": "a35a1656",
   "metadata": {},
   "outputs": [],
   "source": [
    "class SuperKahraman():#yeni sınıf oluşturma  init(başlatma fonksiyonu) tanımlı bir fonksiyon\n",
    "    \n",
    "    OzelGuc=\"Görünmezlik\"\n",
    "    \n",
    "    def __init__(self,isimInput,yasInput,meslekInput): #kendisine referans veriyor\n",
    "        print(\"İnit çağırıldı\") \n",
    "        self.isim=isimInput #self.isim->özellikleri verir isimInput->aldığı argümanları temsil eder \n",
    "        self.yas=yasInput\n",
    "        self.meslek=meslekInput\n",
    "    \n",
    "    def ornekMethod(self):\n",
    "        print(f\"Ben süperkahramanım ve mesleğim: {self.meslek}\")"
   ]
  },
  {
   "cell_type": "code",
   "execution_count": 46,
   "id": "e93998a6",
   "metadata": {},
   "outputs": [
    {
     "name": "stdout",
     "output_type": "stream",
     "text": [
      "İnit çağırıldı\n"
     ]
    }
   ],
   "source": [
    "superman=SuperKahraman(\"Superman\",30,\"Gazeteci\")"
   ]
  },
  {
   "cell_type": "code",
   "execution_count": 47,
   "id": "f6867370",
   "metadata": {},
   "outputs": [
    {
     "data": {
      "text/plain": [
       "'Superman'"
      ]
     },
     "execution_count": 47,
     "metadata": {},
     "output_type": "execute_result"
    }
   ],
   "source": [
    "superman.isim"
   ]
  },
  {
   "cell_type": "code",
   "execution_count": 48,
   "id": "3cbf541d",
   "metadata": {},
   "outputs": [
    {
     "data": {
      "text/plain": [
       "'Görünmezlik'"
      ]
     },
     "execution_count": 48,
     "metadata": {},
     "output_type": "execute_result"
    }
   ],
   "source": [
    "superman.OzelGuc #özel gücünü değiştirebiliyor"
   ]
  },
  {
   "cell_type": "code",
   "execution_count": 49,
   "id": "8be30c31",
   "metadata": {},
   "outputs": [
    {
     "data": {
      "text/plain": [
       "<bound method SuperKahraman.ornekMethod of <__main__.SuperKahraman object at 0x0000027A117C27D0>>"
      ]
     },
     "execution_count": 49,
     "metadata": {},
     "output_type": "execute_result"
    }
   ],
   "source": [
    "superman.ornekMethod #self yazmayı untma! O yüzden bu hatayı verdi"
   ]
  },
  {
   "cell_type": "code",
   "execution_count": 50,
   "id": "2756730c",
   "metadata": {},
   "outputs": [
    {
     "name": "stdout",
     "output_type": "stream",
     "text": [
      "Ben süperkahramanım ve mesleğim: Gazeteci\n"
     ]
    }
   ],
   "source": [
    "superman.ornekMethod() #hata veriri meslek yok diye kabul etmesi için mesleği self.meslek demek lazım"
   ]
  },
  {
   "cell_type": "code",
   "execution_count": 6,
   "id": "4204f022",
   "metadata": {},
   "outputs": [],
   "source": [
    "class Kopek():\n",
    "    def __init__(self,yas=5):\n",
    "        self.yas=yas"
   ]
  },
  {
   "cell_type": "code",
   "execution_count": 7,
   "id": "3eb2f4d0",
   "metadata": {},
   "outputs": [],
   "source": [
    "benimKopek=Kopek()"
   ]
  },
  {
   "cell_type": "code",
   "execution_count": 8,
   "id": "304a2039",
   "metadata": {},
   "outputs": [
    {
     "data": {
      "text/plain": [
       "5"
      ]
     },
     "execution_count": 8,
     "metadata": {},
     "output_type": "execute_result"
    }
   ],
   "source": [
    "benimKopek.yas"
   ]
  },
  {
   "cell_type": "code",
   "execution_count": 24,
   "id": "4903a03c",
   "metadata": {},
   "outputs": [],
   "source": [
    "class Insan():\n",
    "    yilCarpani=7\n",
    "    def __init__(self,yas):\n",
    "        self.yas=yas\n",
    "    def insanYasiniHesapla(self):\n",
    "        return self.yas*self.yilCarpani"
   ]
  },
  {
   "cell_type": "code",
   "execution_count": 25,
   "id": "080bbcfd",
   "metadata": {},
   "outputs": [],
   "source": [
    "benimInsan=Insan(21)"
   ]
  },
  {
   "cell_type": "code",
   "execution_count": 26,
   "id": "b6ccb7dc",
   "metadata": {},
   "outputs": [
    {
     "data": {
      "text/plain": [
       "21"
      ]
     },
     "execution_count": 26,
     "metadata": {},
     "output_type": "execute_result"
    }
   ],
   "source": [
    "benimInsan.yas"
   ]
  },
  {
   "cell_type": "code",
   "execution_count": 27,
   "id": "1dfe1e35",
   "metadata": {},
   "outputs": [
    {
     "data": {
      "text/plain": [
       "147"
      ]
     },
     "execution_count": 27,
     "metadata": {},
     "output_type": "execute_result"
    }
   ],
   "source": [
    "benimInsan.insanYasiniHesapla()"
   ]
  },
  {
   "cell_type": "markdown",
   "id": "5b75a174",
   "metadata": {},
   "source": [
    "# inheritance(miras almak-kalıtım)->sınıfın özelliklerini miras almak"
   ]
  },
  {
   "cell_type": "code",
   "execution_count": 28,
   "id": "e1153a6a",
   "metadata": {},
   "outputs": [],
   "source": [
    "class Hayvan():\n",
    "    def __init__(self):\n",
    "        print(\"hayvan sınıfı init çağırıldı\")\n",
    "    def method1(self):\n",
    "        print(\"hayvan sınıfı method1 çağırıldı\")\n",
    "    def method2(self):\n",
    "        print(\"hayvan sınıfı method2 çağırıldı\")"
   ]
  },
  {
   "cell_type": "code",
   "execution_count": 29,
   "id": "fae00976",
   "metadata": {},
   "outputs": [
    {
     "name": "stdout",
     "output_type": "stream",
     "text": [
      "hayvan sınıfı init çağırıldı\n"
     ]
    }
   ],
   "source": [
    "benimHayvanim=Hayvan()"
   ]
  },
  {
   "cell_type": "code",
   "execution_count": 30,
   "id": "c3dacd9e",
   "metadata": {},
   "outputs": [
    {
     "name": "stdout",
     "output_type": "stream",
     "text": [
      "hayvan sınıfı method1 çağırıldı\n"
     ]
    }
   ],
   "source": [
    "benimHayvanim.method1()"
   ]
  },
  {
   "cell_type": "code",
   "execution_count": 31,
   "id": "9c4ffb8e",
   "metadata": {},
   "outputs": [
    {
     "name": "stdout",
     "output_type": "stream",
     "text": [
      "hayvan sınıfı method2 çağırıldı\n"
     ]
    }
   ],
   "source": [
    "benimHayvanim.method2()"
   ]
  },
  {
   "cell_type": "code",
   "execution_count": 39,
   "id": "c4f24033",
   "metadata": {},
   "outputs": [],
   "source": [
    "#kedi sınıfı oluşturuyoruz kedi de bir hayvan kedi kendine ait özellikleri ve hayvana ait özellikleri taşır\n",
    "class Kedi(Hayvan):#kalıtım alıyoruz \n",
    "    def __init__(self):\n",
    "        Hayvan.__init__(self)\n",
    "        print(\"Kedi sınıfı init çağırıldı\")\n",
    "    def miyavla(self):\n",
    "        print(\"Miyav\")\n",
    "       \n",
    "       #override :Üstüne yazma(ezme işlemi)\n",
    "    def method1(self):#hayvanda da method1 var kedi de çağırısak bu gelir\n",
    "        print(\"kedi sınıfındaki method1 çağırıldı\")"
   ]
  },
  {
   "cell_type": "code",
   "execution_count": 40,
   "id": "5eb00ee6",
   "metadata": {},
   "outputs": [
    {
     "name": "stdout",
     "output_type": "stream",
     "text": [
      "hayvan sınıfı init çağırıldı\n",
      "Kedi sınıfı init çağırıldı\n"
     ]
    }
   ],
   "source": [
    "benimKedi=Kedi()"
   ]
  },
  {
   "cell_type": "code",
   "execution_count": 41,
   "id": "fb273d18",
   "metadata": {},
   "outputs": [
    {
     "name": "stdout",
     "output_type": "stream",
     "text": [
      "kedi sınıfındaki method1 çağırıldı\n"
     ]
    }
   ],
   "source": [
    "benimKedi.method1()"
   ]
  },
  {
   "cell_type": "code",
   "execution_count": 42,
   "id": "dee3104c",
   "metadata": {},
   "outputs": [
    {
     "name": "stdout",
     "output_type": "stream",
     "text": [
      "Miyav\n"
     ]
    }
   ],
   "source": [
    "benimKedi.miyavla()#bu method nerde tanımlanmışsa orada çalışır"
   ]
  },
  {
   "cell_type": "code",
   "execution_count": 43,
   "id": "af96b705",
   "metadata": {},
   "outputs": [
    {
     "name": "stdout",
     "output_type": "stream",
     "text": [
      "hayvan sınıfı init çağırıldı\n"
     ]
    }
   ],
   "source": [
    "digerHayvan=Hayvan()"
   ]
  },
  {
   "cell_type": "code",
   "execution_count": 44,
   "id": "70c2c3c2",
   "metadata": {},
   "outputs": [
    {
     "name": "stdout",
     "output_type": "stream",
     "text": [
      "hayvan sınıfı method1 çağırıldı\n"
     ]
    }
   ],
   "source": [
    "digerHayvan.method1()"
   ]
  },
  {
   "cell_type": "code",
   "execution_count": 45,
   "id": "b41121cc",
   "metadata": {},
   "outputs": [
    {
     "name": "stdout",
     "output_type": "stream",
     "text": [
      "hayvan sınıfı init çağırıldı\n",
      "Kedi sınıfı init çağırıldı\n"
     ]
    }
   ],
   "source": [
    "digerKedi=Kedi()"
   ]
  },
  {
   "cell_type": "code",
   "execution_count": 46,
   "id": "36c67666",
   "metadata": {},
   "outputs": [
    {
     "name": "stdout",
     "output_type": "stream",
     "text": [
      "kedi sınıfındaki method1 çağırıldı\n"
     ]
    }
   ],
   "source": [
    "digerKedi.method1()"
   ]
  },
  {
   "cell_type": "markdown",
   "id": "d8b15c76",
   "metadata": {},
   "source": [
    "# Polimorphism(Çok Biçimlilik)"
   ]
  },
  {
   "cell_type": "code",
   "execution_count": 47,
   "id": "980a5d38",
   "metadata": {},
   "outputs": [],
   "source": [
    "#Bir üst sınıf referansının tüm alt sınıf nesnelerini tutabilmesidir. \n",
    "#Aynı isimde metodların veya fonksiyonların farklı amaca hizmet edebilmesidir.\n",
    "class Elma():\n",
    "    def __init__(self,isim):\n",
    "        self.isim=isim\n",
    "    def bilgiVer(self):\n",
    "        return self.isim+ \" 100 kaloridir.\""
   ]
  },
  {
   "cell_type": "code",
   "execution_count": 48,
   "id": "ac79c86a",
   "metadata": {},
   "outputs": [],
   "source": [
    "class Muz():\n",
    "    def __init__(self,isim):\n",
    "        self.isim=isim\n",
    "    def bilgiVer(self):\n",
    "        return self.isim+ \" 150 kaloridir.\""
   ]
  },
  {
   "cell_type": "code",
   "execution_count": 49,
   "id": "cf62449f",
   "metadata": {},
   "outputs": [],
   "source": [
    "elma=Elma(\"elma\")"
   ]
  },
  {
   "cell_type": "code",
   "execution_count": 50,
   "id": "9f706b00",
   "metadata": {},
   "outputs": [
    {
     "data": {
      "text/plain": [
       "'elma 100 kaloridir'"
      ]
     },
     "execution_count": 50,
     "metadata": {},
     "output_type": "execute_result"
    }
   ],
   "source": [
    "elma.bilgiVer()"
   ]
  },
  {
   "cell_type": "code",
   "execution_count": 51,
   "id": "7f0d193c",
   "metadata": {},
   "outputs": [],
   "source": [
    "muz=Muz(\"muz\")"
   ]
  },
  {
   "cell_type": "code",
   "execution_count": 52,
   "id": "05d383c5",
   "metadata": {},
   "outputs": [
    {
     "data": {
      "text/plain": [
       "'muz 150 kaloridir.'"
      ]
     },
     "execution_count": 52,
     "metadata": {},
     "output_type": "execute_result"
    }
   ],
   "source": [
    "muz.bilgiVer()"
   ]
  },
  {
   "cell_type": "code",
   "execution_count": 53,
   "id": "84beea01",
   "metadata": {},
   "outputs": [],
   "source": [
    "#listede stringler değilde objeler var\n",
    "meyveListesi=[elma,muz]"
   ]
  },
  {
   "cell_type": "code",
   "execution_count": 54,
   "id": "f0a51ac4",
   "metadata": {},
   "outputs": [
    {
     "name": "stdout",
     "output_type": "stream",
     "text": [
      "elma 100 kaloridir\n",
      "muz 150 kaloridir.\n"
     ]
    }
   ],
   "source": [
    "for meyve in meyveListesi:\n",
    "    print(meyve.bilgiVer())"
   ]
  },
  {
   "cell_type": "code",
   "execution_count": 55,
   "id": "d7a49bac",
   "metadata": {},
   "outputs": [],
   "source": [
    "def bilgiAl(meyve):\n",
    "    print(meyve.bilgiVer())"
   ]
  },
  {
   "cell_type": "code",
   "execution_count": 56,
   "id": "c6f8594a",
   "metadata": {},
   "outputs": [
    {
     "name": "stdout",
     "output_type": "stream",
     "text": [
      "elma 100 kaloridir\n"
     ]
    }
   ],
   "source": [
    "bilgiAl(elma)"
   ]
  },
  {
   "cell_type": "code",
   "execution_count": 57,
   "id": "d8a4c407",
   "metadata": {},
   "outputs": [
    {
     "name": "stdout",
     "output_type": "stream",
     "text": [
      "muz 150 kaloridir.\n"
     ]
    }
   ],
   "source": [
    "bilgiAl(muz)"
   ]
  },
  {
   "cell_type": "code",
   "execution_count": null,
   "id": "70301764",
   "metadata": {},
   "outputs": [],
   "source": []
  }
 ],
 "metadata": {
  "kernelspec": {
   "display_name": "Python 3 (ipykernel)",
   "language": "python",
   "name": "python3"
  },
  "language_info": {
   "codemirror_mode": {
    "name": "ipython",
    "version": 3
   },
   "file_extension": ".py",
   "mimetype": "text/x-python",
   "name": "python",
   "nbconvert_exporter": "python",
   "pygments_lexer": "ipython3",
   "version": "3.11.4"
  }
 },
 "nbformat": 4,
 "nbformat_minor": 5
}
