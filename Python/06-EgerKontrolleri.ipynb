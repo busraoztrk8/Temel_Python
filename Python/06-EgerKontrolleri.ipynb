{
 "cells": [
  {
   "cell_type": "code",
   "execution_count": 1,
   "id": "4851105f",
   "metadata": {},
   "outputs": [
    {
     "data": {
      "text/plain": [
       "True"
      ]
     },
     "execution_count": 1,
     "metadata": {},
     "output_type": "execute_result"
    }
   ],
   "source": [
    "3>1"
   ]
  },
  {
   "cell_type": "code",
   "execution_count": 2,
   "id": "a3a3cb0e",
   "metadata": {},
   "outputs": [
    {
     "name": "stdout",
     "output_type": "stream",
     "text": [
      "atıl samancıoğlu\n"
     ]
    }
   ],
   "source": [
    "# python boşluklara göre hareket eder\n",
    "if 3>1:\n",
    "    print(\"atıl samancıoğlu\")"
   ]
  },
  {
   "cell_type": "code",
   "execution_count": 5,
   "id": "69ce872e",
   "metadata": {},
   "outputs": [
    {
     "name": "stdout",
     "output_type": "stream",
     "text": [
      "if koşulunun dışına çıktık\n"
     ]
    }
   ],
   "source": [
    "#koşul doğruysa kod bloğu çalışır\n",
    "if 3>4:\n",
    "    print(\"atıl samancıoğlu\")\n",
    "    print(\"if koşulu sağlandı\")\n",
    "print(\"if koşulunun dışına çıktık\")#bunu ekrana yazdırır"
   ]
  },
  {
   "cell_type": "code",
   "execution_count": 9,
   "id": "a48f445b",
   "metadata": {},
   "outputs": [],
   "source": [
    "x=5"
   ]
  },
  {
   "cell_type": "code",
   "execution_count": 10,
   "id": "e37e2b85",
   "metadata": {},
   "outputs": [],
   "source": [
    "y=4"
   ]
  },
  {
   "cell_type": "code",
   "execution_count": 12,
   "id": "b83f8cc7",
   "metadata": {},
   "outputs": [
    {
     "name": "stdout",
     "output_type": "stream",
     "text": [
      "x, y'den daha büyükmüş\n",
      "9\n"
     ]
    }
   ],
   "source": [
    "if x>y:\n",
    "    print(\"x, y'den daha büyükmüş\")\n",
    "    a=5\n",
    "    b=4\n",
    "    print(a+b)"
   ]
  },
  {
   "cell_type": "code",
   "execution_count": 15,
   "id": "909ae66a",
   "metadata": {},
   "outputs": [
    {
     "name": "stdout",
     "output_type": "stream",
     "text": [
      "y, x'ten daha büyükmüş\n"
     ]
    }
   ],
   "source": [
    "x=3\n",
    "y=4\n",
    "if x>y:\n",
    "    print(\"x, y'den daha büyükmüş\")\n",
    "#else if ->elif\n",
    "elif y>x:\n",
    "     print (\"y, x'ten daha büyükmüş\")"
   ]
  },
  {
   "cell_type": "code",
   "execution_count": 17,
   "id": "007460d4",
   "metadata": {},
   "outputs": [
    {
     "ename": "SyntaxError",
     "evalue": "invalid syntax. Maybe you meant '==' or ':=' instead of '='? (1602749852.py, line 8)",
     "output_type": "error",
     "traceback": [
      "\u001b[1;36m  Cell \u001b[1;32mIn[17], line 8\u001b[1;36m\u001b[0m\n\u001b[1;33m    elif x=y:\u001b[0m\n\u001b[1;37m         ^\u001b[0m\n\u001b[1;31mSyntaxError\u001b[0m\u001b[1;31m:\u001b[0m invalid syntax. Maybe you meant '==' or ':=' instead of '='?\n"
     ]
    }
   ],
   "source": [
    "x=4\n",
    "y=4\n",
    "if x>y:\n",
    "    print(\"x, y'den daha büyükmüş\")\n",
    "#else if ->elif\n",
    "elif y>x:\n",
    "     print (\"y, x'ten daha büyükmüş\")\n",
    "elif x=y:\n",
    "     print (\"x, y'ye eşittir.\")\n"
   ]
  },
  {
   "cell_type": "code",
   "execution_count": 19,
   "id": "9e23a32f",
   "metadata": {},
   "outputs": [
    {
     "name": "stdout",
     "output_type": "stream",
     "text": [
      "x, y'ye eşittir.\n"
     ]
    }
   ],
   "source": [
    "x=4\n",
    "y=4\n",
    "if x>y:\n",
    "    print(\"x, y'den daha büyükmüş\")\n",
    "#else if ->elif\n",
    "elif y>x:\n",
    "     print (\"y, x'ten daha büyükmüş\")\n",
    "else :\n",
    "     print (\"x, y'ye eşittir.\")\n"
   ]
  },
  {
   "cell_type": "code",
   "execution_count": 22,
   "id": "1fa54b6f",
   "metadata": {},
   "outputs": [
    {
     "name": "stdout",
     "output_type": "stream",
     "text": [
      "Super Kahraman seçiniz:Ben\n"
     ]
    }
   ],
   "source": [
    "benimKahramanim=input(\"Super Kahraman seçiniz:\")"
   ]
  },
  {
   "cell_type": "code",
   "execution_count": 23,
   "id": "0d192279",
   "metadata": {},
   "outputs": [
    {
     "name": "stdout",
     "output_type": "stream",
     "text": [
      "Bu kim gerçekten bilmiyoruz\n"
     ]
    }
   ],
   "source": [
    "if benimKahramanim=='Batman':\n",
    "    print(\"Batman'ni seçtiniz tebrikler.\")\n",
    "elif benimKahramanim=='Superman':\n",
    "    print(\"Keşke Superman'ı seçseydiniz:(\")\n",
    "elif benimKahramanim==\"Ironman\":\n",
    "    print(\"Iron man kimdir?\")\n",
    "else:\n",
    "    print(\"Bu kim gerçekten bilmiyoruz\")"
   ]
  },
  {
   "cell_type": "code",
   "execution_count": 24,
   "id": "70720f30",
   "metadata": {},
   "outputs": [],
   "source": [
    "a=10\n",
    "b=20\n",
    "c=30"
   ]
  },
  {
   "cell_type": "code",
   "execution_count": 28,
   "id": "20b2c9cb",
   "metadata": {},
   "outputs": [
    {
     "name": "stdout",
     "output_type": "stream",
     "text": [
      "a,b'den küçük VE b de c'den küçük\n"
     ]
    }
   ],
   "source": [
    "#koşul sağlanırsa çalışır\n",
    "if a>b and b>c:\n",
    "    print(\"a,b'den büyük VE b de c'den büyük\")\n",
    "elif a<b and b<c:\n",
    "    print(\"a,b'den küçük VE b de c'den küçük\")\n",
    "else:\n",
    "    print(\"bu koşullar tutmadı\")"
   ]
  },
  {
   "cell_type": "code",
   "execution_count": 31,
   "id": "734c13c7",
   "metadata": {},
   "outputs": [],
   "source": [
    "m=10\n",
    "k=4\n",
    "l=6"
   ]
  },
  {
   "cell_type": "code",
   "execution_count": 32,
   "id": "c459dbf8",
   "metadata": {},
   "outputs": [
    {
     "name": "stdout",
     "output_type": "stream",
     "text": [
      "bu çalıştırılack mı?\n"
     ]
    }
   ],
   "source": [
    "if m>k or k>l:\n",
    "    print(\"bu çalıştırılack mı?\")"
   ]
  },
  {
   "cell_type": "code",
   "execution_count": 44,
   "id": "432b95c9",
   "metadata": {},
   "outputs": [],
   "source": [
    "karekterCanli=False"
   ]
  },
  {
   "cell_type": "code",
   "execution_count": 38,
   "id": "13d34954",
   "metadata": {},
   "outputs": [
    {
     "name": "stdout",
     "output_type": "stream",
     "text": [
      "Oyun karekteriniz yaşıyor.\n"
     ]
    }
   ],
   "source": [
    "if karekterCanli==True:\n",
    "    print(\"Oyun karekteriniz yaşıyor.\")\n",
    "else:\n",
    "    print(\"Oyun karekteriniz yaşamıyor.\")"
   ]
  },
  {
   "cell_type": "code",
   "execution_count": 39,
   "id": "98acb125",
   "metadata": {},
   "outputs": [
    {
     "name": "stdout",
     "output_type": "stream",
     "text": [
      "Oyun karekteriniz yaşıyor.\n"
     ]
    }
   ],
   "source": [
    "if karekterCanli:\n",
    "    print(\"Oyun karekteriniz yaşıyor.\")\n",
    "else:\n",
    "    print(\"Oyun karekteriniz yaşamıyor.\")"
   ]
  },
  {
   "cell_type": "code",
   "execution_count": 45,
   "id": "d82e734d",
   "metadata": {},
   "outputs": [
    {
     "name": "stdout",
     "output_type": "stream",
     "text": [
      "Karekter canlı değil.\n"
     ]
    }
   ],
   "source": [
    "if not karekterCanli==True:\n",
    "    print(\"Karekter canlı değil.\")"
   ]
  },
  {
   "cell_type": "code",
   "execution_count": 46,
   "id": "00a17397",
   "metadata": {},
   "outputs": [],
   "source": [
    "benimString=\"Büşra Öztürk\""
   ]
  },
  {
   "cell_type": "code",
   "execution_count": 48,
   "id": "607dae4c",
   "metadata": {},
   "outputs": [
    {
     "name": "stdout",
     "output_type": "stream",
     "text": [
      "eşit değilmiş\n"
     ]
    }
   ],
   "source": [
    "if benimString==\"büşra öztürk\":\n",
    "    print(\"eşitmiş\")\n",
    "else:\n",
    "    print(\"eşit değilmiş\")"
   ]
  },
  {
   "cell_type": "code",
   "execution_count": 50,
   "id": "23c33edd",
   "metadata": {},
   "outputs": [
    {
     "name": "stdout",
     "output_type": "stream",
     "text": [
      "varmış\n"
     ]
    }
   ],
   "source": [
    "#keyword 'in' içinde ->eksik kelime de olsa kabul ediyor\n",
    "if \"türk\" in benimString:\n",
    "    print(\"varmış\")\n",
    "else:\n",
    "    print(\"yokmuş\")"
   ]
  },
  {
   "cell_type": "code",
   "execution_count": 51,
   "id": "da8ce593",
   "metadata": {},
   "outputs": [],
   "source": [
    "benimListem=[10,20,30,40,50]"
   ]
  },
  {
   "cell_type": "code",
   "execution_count": 52,
   "id": "c9b58bd2",
   "metadata": {},
   "outputs": [
    {
     "name": "stdout",
     "output_type": "stream",
     "text": [
      "evet var\n"
     ]
    }
   ],
   "source": [
    "if 10 in benimListem:\n",
    "    print(\"evet var\")"
   ]
  },
  {
   "cell_type": "code",
   "execution_count": 53,
   "id": "ada12cbd",
   "metadata": {},
   "outputs": [],
   "source": [
    "if 60 in benimListem:\n",
    "    print(\"evet var\") #çalışmadı çünkü 60 yok içinde"
   ]
  },
  {
   "cell_type": "code",
   "execution_count": 54,
   "id": "33554c59",
   "metadata": {},
   "outputs": [],
   "source": [
    "benimSozluk={\"muz\":100,\"elma\":150,\"karpuz\":500}"
   ]
  },
  {
   "cell_type": "code",
   "execution_count": 59,
   "id": "957d270f",
   "metadata": {},
   "outputs": [
    {
     "name": "stdout",
     "output_type": "stream",
     "text": [
      "varmış\n"
     ]
    }
   ],
   "source": [
    "if \"muz\" in benimSozluk.keys():\n",
    "    print(\"varmış\")"
   ]
  },
  {
   "cell_type": "code",
   "execution_count": 61,
   "id": "93eadb1e",
   "metadata": {},
   "outputs": [
    {
     "name": "stdout",
     "output_type": "stream",
     "text": [
      "evet\n"
     ]
    }
   ],
   "source": [
    "if 500 in benimSozluk.values():\n",
    "    print(\"evet\")"
   ]
  },
  {
   "cell_type": "code",
   "execution_count": null,
   "id": "4762189d",
   "metadata": {},
   "outputs": [],
   "source": []
  }
 ],
 "metadata": {
  "kernelspec": {
   "display_name": "Python 3 (ipykernel)",
   "language": "python",
   "name": "python3"
  },
  "language_info": {
   "codemirror_mode": {
    "name": "ipython",
    "version": 3
   },
   "file_extension": ".py",
   "mimetype": "text/x-python",
   "name": "python",
   "nbconvert_exporter": "python",
   "pygments_lexer": "ipython3",
   "version": "3.11.4"
  }
 },
 "nbformat": 4,
 "nbformat_minor": 5
}
