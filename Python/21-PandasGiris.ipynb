{
 "cells": [
  {
   "cell_type": "code",
   "execution_count": 1,
   "id": "a0448917",
   "metadata": {},
   "outputs": [],
   "source": [
    "#pandas(veri analizi kütüphanesi)\n",
    "import numpy as np\n",
    "import pandas as pd"
   ]
  },
  {
   "cell_type": "markdown",
   "id": "35adf870",
   "metadata": {},
   "source": [
    "# Series/seriler"
   ]
  },
  {
   "cell_type": "code",
   "execution_count": 2,
   "id": "577ae412",
   "metadata": {},
   "outputs": [],
   "source": [
    "benimSozlugum={\"Atıl\":50,\"Zeynep\":40,\"Mehmet\":30}"
   ]
  },
  {
   "cell_type": "code",
   "execution_count": 3,
   "id": "799e6a6e",
   "metadata": {},
   "outputs": [
    {
     "data": {
      "text/plain": [
       "Atıl      50\n",
       "Zeynep    40\n",
       "Mehmet    30\n",
       "dtype: int64"
      ]
     },
     "execution_count": 3,
     "metadata": {},
     "output_type": "execute_result"
    }
   ],
   "source": [
    "pd.Series(benimSozlugum)"
   ]
  },
  {
   "cell_type": "code",
   "execution_count": 4,
   "id": "ea8fc1aa",
   "metadata": {},
   "outputs": [
    {
     "data": {
      "text/plain": [
       "pandas.core.series.Series"
      ]
     },
     "execution_count": 4,
     "metadata": {},
     "output_type": "execute_result"
    }
   ],
   "source": [
    "type(pd.Series(benimSozlugum))"
   ]
  },
  {
   "cell_type": "code",
   "execution_count": 7,
   "id": "3f5d25fa",
   "metadata": {},
   "outputs": [],
   "source": [
    "benimYaslarim=[30,40,50]\n",
    "benimIsimlerim=[\"Atıl\",\"Zeynep\",\"Mehmet\"]"
   ]
  },
  {
   "cell_type": "code",
   "execution_count": 8,
   "id": "d611d96f",
   "metadata": {},
   "outputs": [
    {
     "data": {
      "text/plain": [
       "0    30\n",
       "1    40\n",
       "2    50\n",
       "dtype: int64"
      ]
     },
     "execution_count": 8,
     "metadata": {},
     "output_type": "execute_result"
    }
   ],
   "source": [
    "pd.Series(benimYaslarim)"
   ]
  },
  {
   "cell_type": "code",
   "execution_count": 9,
   "id": "a990ed95",
   "metadata": {},
   "outputs": [
    {
     "data": {
      "text/plain": [
       "Atıl      30\n",
       "Zeynep    40\n",
       "Mehmet    50\n",
       "dtype: int64"
      ]
     },
     "execution_count": 9,
     "metadata": {},
     "output_type": "execute_result"
    }
   ],
   "source": [
    "pd.Series(benimYaslarim,benimIsimlerim)"
   ]
  },
  {
   "cell_type": "code",
   "execution_count": 10,
   "id": "ae56e043",
   "metadata": {},
   "outputs": [
    {
     "data": {
      "text/plain": [
       "Atıl      30\n",
       "Zeynep    40\n",
       "Mehmet    50\n",
       "dtype: int64"
      ]
     },
     "execution_count": 10,
     "metadata": {},
     "output_type": "execute_result"
    }
   ],
   "source": [
    "pd.Series(data=benimYaslarim, index=benimIsimlerim)"
   ]
  },
  {
   "cell_type": "code",
   "execution_count": 11,
   "id": "349af2d9",
   "metadata": {},
   "outputs": [],
   "source": [
    "numpyDizisi=np.array([50,40,30])"
   ]
  },
  {
   "cell_type": "code",
   "execution_count": 12,
   "id": "a93c8dfe",
   "metadata": {},
   "outputs": [
    {
     "data": {
      "text/plain": [
       "array([50, 40, 30])"
      ]
     },
     "execution_count": 12,
     "metadata": {},
     "output_type": "execute_result"
    }
   ],
   "source": [
    "numpyDizisi"
   ]
  },
  {
   "cell_type": "code",
   "execution_count": 13,
   "id": "5eab3a57",
   "metadata": {},
   "outputs": [
    {
     "data": {
      "text/plain": [
       "0    50\n",
       "1    40\n",
       "2    30\n",
       "dtype: int32"
      ]
     },
     "execution_count": 13,
     "metadata": {},
     "output_type": "execute_result"
    }
   ],
   "source": [
    "pd.Series(numpyDizisi)"
   ]
  },
  {
   "cell_type": "markdown",
   "id": "0bd8422a",
   "metadata": {},
   "source": [
    "# Series Özellikleri"
   ]
  },
  {
   "cell_type": "code",
   "execution_count": 14,
   "id": "62a92091",
   "metadata": {},
   "outputs": [
    {
     "data": {
      "text/plain": [
       "1     Atıl\n",
       "2    Atlas\n",
       "3    Osman\n",
       "dtype: object"
      ]
     },
     "execution_count": 14,
     "metadata": {},
     "output_type": "execute_result"
    }
   ],
   "source": [
    "pd.Series([\"Atıl\",\"Atlas\",\"Osman\"],[1,2,3])"
   ]
  },
  {
   "cell_type": "code",
   "execution_count": 15,
   "id": "6908db3d",
   "metadata": {},
   "outputs": [],
   "source": [
    "yarismaSonucu1=pd.Series([10,5,1],[\"Atıl\",\"Atlas\",\"Osman\"])"
   ]
  },
  {
   "cell_type": "code",
   "execution_count": 16,
   "id": "c8155b73",
   "metadata": {},
   "outputs": [
    {
     "data": {
      "text/plain": [
       "Atıl     10\n",
       "Atlas     5\n",
       "Osman     1\n",
       "dtype: int64"
      ]
     },
     "execution_count": 16,
     "metadata": {},
     "output_type": "execute_result"
    }
   ],
   "source": [
    "yarismaSonucu1"
   ]
  },
  {
   "cell_type": "code",
   "execution_count": 17,
   "id": "b3ea60e2",
   "metadata": {},
   "outputs": [],
   "source": [
    "yarismaSonucu2=pd.Series([20,10,8],[\"Atıl\",\"Atlas\",\"Osman\"])"
   ]
  },
  {
   "cell_type": "code",
   "execution_count": 18,
   "id": "aedf50f7",
   "metadata": {},
   "outputs": [
    {
     "data": {
      "text/plain": [
       "Atıl     20\n",
       "Atlas    10\n",
       "Osman     8\n",
       "dtype: int64"
      ]
     },
     "execution_count": 18,
     "metadata": {},
     "output_type": "execute_result"
    }
   ],
   "source": [
    "yarismaSonucu2"
   ]
  },
  {
   "cell_type": "code",
   "execution_count": 19,
   "id": "ab738896",
   "metadata": {},
   "outputs": [
    {
     "data": {
      "text/plain": [
       "10"
      ]
     },
     "execution_count": 19,
     "metadata": {},
     "output_type": "execute_result"
    }
   ],
   "source": [
    "yarismaSonucu2[\"Atlas\"]"
   ]
  },
  {
   "cell_type": "code",
   "execution_count": 20,
   "id": "50331fe4",
   "metadata": {},
   "outputs": [],
   "source": [
    "sonSonuc=yarismaSonucu1+yarismaSonucu2"
   ]
  },
  {
   "cell_type": "code",
   "execution_count": 21,
   "id": "a8c161f1",
   "metadata": {},
   "outputs": [
    {
     "data": {
      "text/plain": [
       "Atıl     30\n",
       "Atlas    15\n",
       "Osman     9\n",
       "dtype: int64"
      ]
     },
     "execution_count": 21,
     "metadata": {},
     "output_type": "execute_result"
    }
   ],
   "source": [
    "sonSonuc"
   ]
  },
  {
   "cell_type": "code",
   "execution_count": 22,
   "id": "9f937be2",
   "metadata": {},
   "outputs": [],
   "source": [
    "farkliSeries=pd.Series([20,30,40,50],[\"a\",\"b\",\"c\",\"d\"])"
   ]
  },
  {
   "cell_type": "code",
   "execution_count": 23,
   "id": "deb0dc6a",
   "metadata": {},
   "outputs": [],
   "source": [
    "farkliSeries2=pd.Series([10,5,3,1],[\"a\",\"c\",\"f\",\"g\"])"
   ]
  },
  {
   "cell_type": "code",
   "execution_count": 24,
   "id": "89168ce6",
   "metadata": {},
   "outputs": [
    {
     "data": {
      "text/plain": [
       "a    20\n",
       "b    30\n",
       "c    40\n",
       "d    50\n",
       "dtype: int64"
      ]
     },
     "execution_count": 24,
     "metadata": {},
     "output_type": "execute_result"
    }
   ],
   "source": [
    " farkliSeries"
   ]
  },
  {
   "cell_type": "code",
   "execution_count": 25,
   "id": "add57a7c",
   "metadata": {},
   "outputs": [
    {
     "data": {
      "text/plain": [
       "a    10\n",
       "c     5\n",
       "f     3\n",
       "g     1\n",
       "dtype: int64"
      ]
     },
     "execution_count": 25,
     "metadata": {},
     "output_type": "execute_result"
    }
   ],
   "source": [
    "farkliSeries2"
   ]
  },
  {
   "cell_type": "code",
   "execution_count": 26,
   "id": "cbddde34",
   "metadata": {},
   "outputs": [
    {
     "data": {
      "text/plain": [
       "a    30.0\n",
       "b     NaN\n",
       "c    45.0\n",
       "d     NaN\n",
       "f     NaN\n",
       "g     NaN\n",
       "dtype: float64"
      ]
     },
     "execution_count": 26,
     "metadata": {},
     "output_type": "execute_result"
    }
   ],
   "source": [
    "farkliSeries+farkliSeries2  #kesiştiği yerleri topluyor"
   ]
  }
 ],
 "metadata": {
  "kernelspec": {
   "display_name": "Python 3 (ipykernel)",
   "language": "python",
   "name": "python3"
  },
  "language_info": {
   "codemirror_mode": {
    "name": "ipython",
    "version": 3
   },
   "file_extension": ".py",
   "mimetype": "text/x-python",
   "name": "python",
   "nbconvert_exporter": "python",
   "pygments_lexer": "ipython3",
   "version": "3.11.4"
  }
 },
 "nbformat": 4,
 "nbformat_minor": 5
}
