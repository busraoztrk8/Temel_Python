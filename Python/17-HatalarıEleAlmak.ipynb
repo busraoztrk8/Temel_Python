{
 "cells": [
  {
   "cell_type": "code",
   "execution_count": 1,
   "id": "1ebf3f05",
   "metadata": {},
   "outputs": [],
   "source": [
    "def toplama(numara1,numara2):\n",
    "    return numara1+numara2"
   ]
  },
  {
   "cell_type": "code",
   "execution_count": 2,
   "id": "b1b3fe81",
   "metadata": {},
   "outputs": [
    {
     "name": "stdout",
     "output_type": "stream",
     "text": [
      "ilk numarayı giriniz10\n",
      "ikinci numarayı giriniz20\n"
     ]
    },
    {
     "data": {
      "text/plain": [
       "30"
      ]
     },
     "execution_count": 2,
     "metadata": {},
     "output_type": "execute_result"
    }
   ],
   "source": [
    "x=int(input(\"ilk numarayı giriniz\"))\n",
    "y=int(input(\"ikinci numarayı giriniz\"))\n",
    "toplama(x,y)"
   ]
  },
  {
   "cell_type": "markdown",
   "id": "99cd1e15",
   "metadata": {},
   "source": [
    "# try & except & else & finally"
   ]
  },
  {
   "cell_type": "code",
   "execution_count": 2,
   "id": "37805bda",
   "metadata": {},
   "outputs": [
    {
     "name": "stdout",
     "output_type": "stream",
     "text": [
      "numarayı giriniz: büşra\n",
      "Lütfen gerçekten numara giriniz: \n",
      "Finally çağırıldı\n",
      "-----------------------------------------------\n",
      "numarayı giriniz: hshshj\n",
      "Lütfen gerçekten numara giriniz: \n",
      "Finally çağırıldı\n",
      "-----------------------------------------------\n",
      "numarayı giriniz: 23\n",
      "Teşekkürler\n",
      "Finally çağırıldı\n",
      "-----------------------------------------------\n"
     ]
    }
   ],
   "source": [
    "while True:\n",
    "    try:\n",
    "        benimInt=int(input(\"numarayı giriniz: \"))\n",
    "    except:\n",
    "        print(\"Lütfen gerçekten numara giriniz: \")\n",
    "        continue #devam et\n",
    "    else:\n",
    "        print(\"Teşekkürler\")\n",
    "        break\n",
    "    finally:\n",
    "        print(\"Finally çağırıldı\")\n",
    "        print(\"-----------------------------------------------\")\n"
   ]
  },
  {
   "cell_type": "code",
   "execution_count": null,
   "id": "b99a2cda",
   "metadata": {},
   "outputs": [],
   "source": []
  }
 ],
 "metadata": {
  "kernelspec": {
   "display_name": "Python 3 (ipykernel)",
   "language": "python",
   "name": "python3"
  },
  "language_info": {
   "codemirror_mode": {
    "name": "ipython",
    "version": 3
   },
   "file_extension": ".py",
   "mimetype": "text/x-python",
   "name": "python",
   "nbconvert_exporter": "python",
   "pygments_lexer": "ipython3",
   "version": "3.11.4"
  }
 },
 "nbformat": 4,
 "nbformat_minor": 5
}
