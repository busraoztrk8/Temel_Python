{
 "cells": [
  {
   "cell_type": "code",
   "execution_count": 1,
   "id": "92c1ab43",
   "metadata": {},
   "outputs": [],
   "source": [
    "benimListem=[5,10,15,20,25,30]"
   ]
  },
  {
   "cell_type": "code",
   "execution_count": 2,
   "id": "12bd6c40",
   "metadata": {},
   "outputs": [
    {
     "name": "stdout",
     "output_type": "stream",
     "text": [
      "1.0\n",
      "2.0\n",
      "3.0\n",
      "4.0\n",
      "5.0\n",
      "6.0\n"
     ]
    }
   ],
   "source": [
    "for numara in benimListem:\n",
    "    print(numara/5)"
   ]
  },
  {
   "cell_type": "code",
   "execution_count": 6,
   "id": "44381bda",
   "metadata": {},
   "outputs": [
    {
     "name": "stdout",
     "output_type": "stream",
     "text": [
      "5\n",
      "10\n"
     ]
    }
   ],
   "source": [
    "for numara in benimListem:\n",
    "    if numara==15:\n",
    "       break\n",
    "    print(numara)"
   ]
  },
  {
   "cell_type": "code",
   "execution_count": 7,
   "id": "9ad58aa0",
   "metadata": {},
   "outputs": [
    {
     "name": "stdout",
     "output_type": "stream",
     "text": [
      "5\n",
      "10\n",
      "20\n",
      "25\n",
      "30\n"
     ]
    }
   ],
   "source": [
    "#continue çıkarmak\n",
    "for numara in benimListem:\n",
    "    if numara==15:\n",
    "       continue\n",
    "    print(numara)"
   ]
  },
  {
   "cell_type": "code",
   "execution_count": 8,
   "id": "0aa7b050",
   "metadata": {},
   "outputs": [],
   "source": [
    "#pass orada bir işlem yapmayacaksak ya da sonradan bir şey yazacaksak \n",
    "for numara in benimListem:\n",
    "    pass"
   ]
  },
  {
   "cell_type": "code",
   "execution_count": null,
   "id": "341753a0",
   "metadata": {},
   "outputs": [],
   "source": []
  }
 ],
 "metadata": {
  "kernelspec": {
   "display_name": "Python 3 (ipykernel)",
   "language": "python",
   "name": "python3"
  },
  "language_info": {
   "codemirror_mode": {
    "name": "ipython",
    "version": 3
   },
   "file_extension": ".py",
   "mimetype": "text/x-python",
   "name": "python",
   "nbconvert_exporter": "python",
   "pygments_lexer": "ipython3",
   "version": "3.11.4"
  }
 },
 "nbformat": 4,
 "nbformat_minor": 5
}
