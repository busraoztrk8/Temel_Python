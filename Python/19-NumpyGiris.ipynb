{
 "cells": [
  {
   "cell_type": "code",
   "execution_count": 1,
   "id": "a2b55995",
   "metadata": {},
   "outputs": [],
   "source": [
    "import numpy as np"
   ]
  },
  {
   "cell_type": "markdown",
   "id": "08dd5462",
   "metadata": {},
   "source": [
    "## numpy array"
   ]
  },
  {
   "cell_type": "code",
   "execution_count": 2,
   "id": "909e0cfa",
   "metadata": {},
   "outputs": [],
   "source": [
    "#numpy dizisi\n",
    "benimListem=[20,30,40]"
   ]
  },
  {
   "cell_type": "code",
   "execution_count": 3,
   "id": "d5658e0b",
   "metadata": {},
   "outputs": [
    {
     "data": {
      "text/plain": [
       "list"
      ]
     },
     "execution_count": 3,
     "metadata": {},
     "output_type": "execute_result"
    }
   ],
   "source": [
    "type(benimListem)"
   ]
  },
  {
   "cell_type": "code",
   "execution_count": 4,
   "id": "dc1b47de",
   "metadata": {},
   "outputs": [
    {
     "data": {
      "text/plain": [
       "array([20, 30, 40])"
      ]
     },
     "execution_count": 4,
     "metadata": {},
     "output_type": "execute_result"
    }
   ],
   "source": [
    "np.array(benimListem) #numpy bunu diziye çeviriyor"
   ]
  },
  {
   "cell_type": "code",
   "execution_count": 5,
   "id": "ec5fe6b2",
   "metadata": {},
   "outputs": [],
   "source": [
    "matrixListesi=[[10,20,30],[20,30,40],[30,40,50]]"
   ]
  },
  {
   "cell_type": "code",
   "execution_count": 6,
   "id": "b042e4cb",
   "metadata": {},
   "outputs": [
    {
     "data": {
      "text/plain": [
       "list"
      ]
     },
     "execution_count": 6,
     "metadata": {},
     "output_type": "execute_result"
    }
   ],
   "source": [
    "type(matrixListesi)"
   ]
  },
  {
   "cell_type": "code",
   "execution_count": 7,
   "id": "05e6479e",
   "metadata": {},
   "outputs": [
    {
     "data": {
      "text/plain": [
       "[20, 30, 40]"
      ]
     },
     "execution_count": 7,
     "metadata": {},
     "output_type": "execute_result"
    }
   ],
   "source": [
    "matrixListesi[1]"
   ]
  },
  {
   "cell_type": "code",
   "execution_count": 8,
   "id": "7b190df7",
   "metadata": {},
   "outputs": [
    {
     "data": {
      "text/plain": [
       "20"
      ]
     },
     "execution_count": 8,
     "metadata": {},
     "output_type": "execute_result"
    }
   ],
   "source": [
    "matrixListesi[1][0]"
   ]
  },
  {
   "cell_type": "code",
   "execution_count": 9,
   "id": "ad75696b",
   "metadata": {},
   "outputs": [
    {
     "data": {
      "text/plain": [
       "array([[10, 20, 30],\n",
       "       [20, 30, 40],\n",
       "       [30, 40, 50]])"
      ]
     },
     "execution_count": 9,
     "metadata": {},
     "output_type": "execute_result"
    }
   ],
   "source": [
    "np.array(matrixListesi)"
   ]
  },
  {
   "cell_type": "markdown",
   "id": "b1247261",
   "metadata": {},
   "source": [
    "# methodlar   arange"
   ]
  },
  {
   "cell_type": "code",
   "execution_count": 10,
   "id": "8a11da55",
   "metadata": {},
   "outputs": [
    {
     "data": {
      "text/plain": [
       "range(0, 10)"
      ]
     },
     "execution_count": 10,
     "metadata": {},
     "output_type": "execute_result"
    }
   ],
   "source": [
    "range(0,10)"
   ]
  },
  {
   "cell_type": "code",
   "execution_count": 11,
   "id": "958f2afa",
   "metadata": {},
   "outputs": [
    {
     "data": {
      "text/plain": [
       "[0, 1, 2, 3, 4, 5, 6, 7, 8, 9]"
      ]
     },
     "execution_count": 11,
     "metadata": {},
     "output_type": "execute_result"
    }
   ],
   "source": [
    "list(range(0,10))"
   ]
  },
  {
   "cell_type": "code",
   "execution_count": 12,
   "id": "94402400",
   "metadata": {},
   "outputs": [
    {
     "data": {
      "text/plain": [
       "array([0, 1, 2, 3, 4, 5, 6, 7, 8, 9])"
      ]
     },
     "execution_count": 12,
     "metadata": {},
     "output_type": "execute_result"
    }
   ],
   "source": [
    "np.arange(0,10) #diziyi oluşturuyor"
   ]
  },
  {
   "cell_type": "code",
   "execution_count": 13,
   "id": "9d37a235",
   "metadata": {},
   "outputs": [
    {
     "data": {
      "text/plain": [
       "array([0, 2, 4, 6, 8])"
      ]
     },
     "execution_count": 13,
     "metadata": {},
     "output_type": "execute_result"
    }
   ],
   "source": [
    "np.arange(0,10,2) #2 stepsize 2 de bir atla ve son karakteri almıyor "
   ]
  },
  {
   "cell_type": "code",
   "execution_count": 14,
   "id": "cba50ec0",
   "metadata": {},
   "outputs": [
    {
     "data": {
      "text/plain": [
       "array([ 0,  2,  4,  6,  8, 10, 12, 14, 16, 18])"
      ]
     },
     "execution_count": 14,
     "metadata": {},
     "output_type": "execute_result"
    }
   ],
   "source": [
    "np.arange(0,20,2) "
   ]
  },
  {
   "cell_type": "markdown",
   "id": "74cf83f6",
   "metadata": {},
   "source": [
    "# zeros"
   ]
  },
  {
   "cell_type": "code",
   "execution_count": 15,
   "id": "7df10a94",
   "metadata": {},
   "outputs": [
    {
     "data": {
      "text/plain": [
       "array([0., 0., 0., 0., 0.])"
      ]
     },
     "execution_count": 15,
     "metadata": {},
     "output_type": "execute_result"
    }
   ],
   "source": [
    "np.zeros(5) #içerisinde 5 tane 0 olan diziyi oluşturuyor"
   ]
  },
  {
   "cell_type": "code",
   "execution_count": 16,
   "id": "ab51c111",
   "metadata": {},
   "outputs": [
    {
     "data": {
      "text/plain": [
       "array([[0., 0., 0., 0., 0., 0., 0., 0., 0.],\n",
       "       [0., 0., 0., 0., 0., 0., 0., 0., 0.],\n",
       "       [0., 0., 0., 0., 0., 0., 0., 0., 0.],\n",
       "       [0., 0., 0., 0., 0., 0., 0., 0., 0.],\n",
       "       [0., 0., 0., 0., 0., 0., 0., 0., 0.],\n",
       "       [0., 0., 0., 0., 0., 0., 0., 0., 0.],\n",
       "       [0., 0., 0., 0., 0., 0., 0., 0., 0.],\n",
       "       [0., 0., 0., 0., 0., 0., 0., 0., 0.],\n",
       "       [0., 0., 0., 0., 0., 0., 0., 0., 0.]])"
      ]
     },
     "execution_count": 16,
     "metadata": {},
     "output_type": "execute_result"
    }
   ],
   "source": [
    "np.zeros((9,9)) #ayrı parantezin içinde yazmalısın"
   ]
  },
  {
   "cell_type": "code",
   "execution_count": 17,
   "id": "a7318b81",
   "metadata": {},
   "outputs": [
    {
     "data": {
      "text/plain": [
       "array([1., 1., 1., 1., 1.])"
      ]
     },
     "execution_count": 17,
     "metadata": {},
     "output_type": "execute_result"
    }
   ],
   "source": [
    "np.ones(5) #5 tane 1 den oluşuyor"
   ]
  },
  {
   "cell_type": "code",
   "execution_count": 18,
   "id": "2dfb4d44",
   "metadata": {},
   "outputs": [
    {
     "data": {
      "text/plain": [
       "array([[1., 1., 1., 1., 1., 1., 1., 1., 1.],\n",
       "       [1., 1., 1., 1., 1., 1., 1., 1., 1.],\n",
       "       [1., 1., 1., 1., 1., 1., 1., 1., 1.],\n",
       "       [1., 1., 1., 1., 1., 1., 1., 1., 1.],\n",
       "       [1., 1., 1., 1., 1., 1., 1., 1., 1.],\n",
       "       [1., 1., 1., 1., 1., 1., 1., 1., 1.],\n",
       "       [1., 1., 1., 1., 1., 1., 1., 1., 1.],\n",
       "       [1., 1., 1., 1., 1., 1., 1., 1., 1.],\n",
       "       [1., 1., 1., 1., 1., 1., 1., 1., 1.]])"
      ]
     },
     "execution_count": 18,
     "metadata": {},
     "output_type": "execute_result"
    }
   ],
   "source": [
    "np.ones((9,9))"
   ]
  },
  {
   "cell_type": "markdown",
   "id": "04cfa9f7",
   "metadata": {},
   "source": [
    "# linspace"
   ]
  },
  {
   "cell_type": "code",
   "execution_count": 20,
   "id": "5db7eb76",
   "metadata": {},
   "outputs": [
    {
     "data": {
      "text/plain": [
       "array([ 0.,  5., 10., 15., 20.])"
      ]
     },
     "execution_count": 20,
     "metadata": {},
     "output_type": "execute_result"
    }
   ],
   "source": [
    "np.linspace(0,20,5) #belirttiğimiz numaralar arasında boyutlandırılmış eşit aralıklarla bir dizi oluşturuyor\n",
    "#0 dan başlayıp 20 ye kadar 5 veri seti(5 mesafe var)"
   ]
  },
  {
   "cell_type": "code",
   "execution_count": 21,
   "id": "cd81a3bc",
   "metadata": {},
   "outputs": [
    {
     "data": {
      "text/plain": [
       "array([ 0.,  4.,  8., 12., 16., 20.])"
      ]
     },
     "execution_count": 21,
     "metadata": {},
     "output_type": "execute_result"
    }
   ],
   "source": [
    "np.linspace(0,20,6)"
   ]
  },
  {
   "cell_type": "code",
   "execution_count": 22,
   "id": "f98c5ead",
   "metadata": {},
   "outputs": [
    {
     "data": {
      "text/plain": [
       "array([ 0.        ,  0.52631579,  1.05263158,  1.57894737,  2.10526316,\n",
       "        2.63157895,  3.15789474,  3.68421053,  4.21052632,  4.73684211,\n",
       "        5.26315789,  5.78947368,  6.31578947,  6.84210526,  7.36842105,\n",
       "        7.89473684,  8.42105263,  8.94736842,  9.47368421, 10.        ])"
      ]
     },
     "execution_count": 22,
     "metadata": {},
     "output_type": "execute_result"
    }
   ],
   "source": [
    "np.linspace(0,10,20)"
   ]
  },
  {
   "cell_type": "markdown",
   "id": "a53b703e",
   "metadata": {},
   "source": [
    "# eye"
   ]
  },
  {
   "cell_type": "code",
   "execution_count": 23,
   "id": "44ff39ae",
   "metadata": {},
   "outputs": [
    {
     "data": {
      "text/plain": [
       "array([[1., 0., 0.],\n",
       "       [0., 1., 0.],\n",
       "       [0., 0., 1.]])"
      ]
     },
     "execution_count": 23,
     "metadata": {},
     "output_type": "execute_result"
    }
   ],
   "source": [
    "#matrix oluşturuyor\n",
    "np.eye(3)"
   ]
  },
  {
   "cell_type": "code",
   "execution_count": 24,
   "id": "37abbc1b",
   "metadata": {},
   "outputs": [
    {
     "data": {
      "text/plain": [
       "array([[1., 0., 0., 0., 0., 0., 0., 0., 0., 0.],\n",
       "       [0., 1., 0., 0., 0., 0., 0., 0., 0., 0.],\n",
       "       [0., 0., 1., 0., 0., 0., 0., 0., 0., 0.],\n",
       "       [0., 0., 0., 1., 0., 0., 0., 0., 0., 0.],\n",
       "       [0., 0., 0., 0., 1., 0., 0., 0., 0., 0.],\n",
       "       [0., 0., 0., 0., 0., 1., 0., 0., 0., 0.],\n",
       "       [0., 0., 0., 0., 0., 0., 1., 0., 0., 0.],\n",
       "       [0., 0., 0., 0., 0., 0., 0., 1., 0., 0.],\n",
       "       [0., 0., 0., 0., 0., 0., 0., 0., 1., 0.],\n",
       "       [0., 0., 0., 0., 0., 0., 0., 0., 0., 1.]])"
      ]
     },
     "execution_count": 24,
     "metadata": {},
     "output_type": "execute_result"
    }
   ],
   "source": [
    "np.eye(10)"
   ]
  },
  {
   "cell_type": "markdown",
   "id": "9a66cab7",
   "metadata": {},
   "source": [
    "# random"
   ]
  },
  {
   "cell_type": "code",
   "execution_count": 26,
   "id": "0027639a",
   "metadata": {},
   "outputs": [
    {
     "data": {
      "text/plain": [
       "array([ 0.23808371,  0.60450073, -0.59059582,  0.50547501])"
      ]
     },
     "execution_count": 26,
     "metadata": {},
     "output_type": "execute_result"
    }
   ],
   "source": [
    "np.random.randn(4)"
   ]
  },
  {
   "cell_type": "code",
   "execution_count": 27,
   "id": "51f5c102",
   "metadata": {},
   "outputs": [
    {
     "data": {
      "text/plain": [
       "array([[-1.35039328,  1.05255275, -0.78997908,  1.2574519 ],\n",
       "       [ 1.16547619,  2.31081831,  1.03197871,  0.91208857],\n",
       "       [-0.30637123,  2.5332609 ,  1.06740274, -0.54041932],\n",
       "       [-0.28865412, -1.18470712,  2.15631754,  0.24248273]])"
      ]
     },
     "execution_count": 27,
     "metadata": {},
     "output_type": "execute_result"
    }
   ],
   "source": [
    "np.random.randn(4,4)"
   ]
  },
  {
   "cell_type": "code",
   "execution_count": 29,
   "id": "53c8e092",
   "metadata": {},
   "outputs": [
    {
     "data": {
      "text/plain": [
       "5"
      ]
     },
     "execution_count": 29,
     "metadata": {},
     "output_type": "execute_result"
    }
   ],
   "source": [
    "np.random.randint(1,10) #son rakamı almıyor!"
   ]
  },
  {
   "cell_type": "code",
   "execution_count": 30,
   "id": "db7f86dd",
   "metadata": {},
   "outputs": [
    {
     "data": {
      "text/plain": [
       "array([7, 6, 7, 2, 5])"
      ]
     },
     "execution_count": 30,
     "metadata": {},
     "output_type": "execute_result"
    }
   ],
   "source": [
    "np.random.randint(1,10,5)#sondaki kaç rakam istediğimizi söyler\n",
    "#rastgele rakamları atıyor "
   ]
  },
  {
   "cell_type": "code",
   "execution_count": 31,
   "id": "52bbf23e",
   "metadata": {},
   "outputs": [],
   "source": [
    "benimNumpyDizim=np.arange(30)"
   ]
  },
  {
   "cell_type": "code",
   "execution_count": 32,
   "id": "5fe69ba4",
   "metadata": {},
   "outputs": [
    {
     "data": {
      "text/plain": [
       "array([ 0,  1,  2,  3,  4,  5,  6,  7,  8,  9, 10, 11, 12, 13, 14, 15, 16,\n",
       "       17, 18, 19, 20, 21, 22, 23, 24, 25, 26, 27, 28, 29])"
      ]
     },
     "execution_count": 32,
     "metadata": {},
     "output_type": "execute_result"
    }
   ],
   "source": [
    "benimNumpyDizim"
   ]
  },
  {
   "cell_type": "code",
   "execution_count": 33,
   "id": "2e43e58f",
   "metadata": {},
   "outputs": [],
   "source": [
    "benimRandomDizim=np.random.randint(0,100,30)"
   ]
  },
  {
   "cell_type": "code",
   "execution_count": 34,
   "id": "a69ad56e",
   "metadata": {},
   "outputs": [
    {
     "data": {
      "text/plain": [
       "array([33, 61, 46,  9, 78,  5, 70, 70, 82,  3, 95, 57, 41, 74, 19, 58, 72,\n",
       "       42, 42, 59, 87, 96,  9, 84, 18, 13, 10, 31, 92, 48])"
      ]
     },
     "execution_count": 34,
     "metadata": {},
     "output_type": "execute_result"
    }
   ],
   "source": [
    "benimRandomDizim"
   ]
  },
  {
   "cell_type": "markdown",
   "id": "13beb134",
   "metadata": {},
   "source": [
    "# numpy dizi methodları"
   ]
  },
  {
   "cell_type": "code",
   "execution_count": 35,
   "id": "21b1b32e",
   "metadata": {},
   "outputs": [
    {
     "data": {
      "text/plain": [
       "array([[ 0,  1,  2,  3,  4,  5],\n",
       "       [ 6,  7,  8,  9, 10, 11],\n",
       "       [12, 13, 14, 15, 16, 17],\n",
       "       [18, 19, 20, 21, 22, 23],\n",
       "       [24, 25, 26, 27, 28, 29]])"
      ]
     },
     "execution_count": 35,
     "metadata": {},
     "output_type": "execute_result"
    }
   ],
   "source": [
    "benimNumpyDizim.reshape(5,6) #5 satır(column) 6 sütun(row)\n",
    "#reshape, yeniden şekillendir"
   ]
  },
  {
   "cell_type": "code",
   "execution_count": 36,
   "id": "fd99113f",
   "metadata": {},
   "outputs": [
    {
     "data": {
      "text/plain": [
       "29"
      ]
     },
     "execution_count": 36,
     "metadata": {},
     "output_type": "execute_result"
    }
   ],
   "source": [
    "benimNumpyDizim.max()"
   ]
  },
  {
   "cell_type": "code",
   "execution_count": 37,
   "id": "fc18b523",
   "metadata": {},
   "outputs": [
    {
     "data": {
      "text/plain": [
       "96"
      ]
     },
     "execution_count": 37,
     "metadata": {},
     "output_type": "execute_result"
    }
   ],
   "source": [
    "benimRandomDizim.max()"
   ]
  },
  {
   "cell_type": "code",
   "execution_count": 38,
   "id": "dac4b7b1",
   "metadata": {},
   "outputs": [
    {
     "data": {
      "text/plain": [
       "21"
      ]
     },
     "execution_count": 38,
     "metadata": {},
     "output_type": "execute_result"
    }
   ],
   "source": [
    "#argmax kaçıncı indexin büyük olduğunu bize söyler\n",
    "benimRandomDizim.argmax()"
   ]
  },
  {
   "cell_type": "code",
   "execution_count": 39,
   "id": "b59faf54",
   "metadata": {},
   "outputs": [
    {
     "data": {
      "text/plain": [
       "3"
      ]
     },
     "execution_count": 39,
     "metadata": {},
     "output_type": "execute_result"
    }
   ],
   "source": [
    "benimRandomDizim.min() #en küçüğünü gösteriyor"
   ]
  },
  {
   "cell_type": "code",
   "execution_count": 40,
   "id": "98947369",
   "metadata": {},
   "outputs": [
    {
     "data": {
      "text/plain": [
       "9"
      ]
     },
     "execution_count": 40,
     "metadata": {},
     "output_type": "execute_result"
    }
   ],
   "source": [
    "benimRandomDizim.argmin() #indexini gösteriyor"
   ]
  },
  {
   "cell_type": "code",
   "execution_count": 41,
   "id": "b1a72086",
   "metadata": {},
   "outputs": [
    {
     "data": {
      "text/plain": [
       "(30,)"
      ]
     },
     "execution_count": 41,
     "metadata": {},
     "output_type": "execute_result"
    }
   ],
   "source": [
    "benimNumpyDizim.shape #shape metod değil bir özellik o yüzden sona parantez koymadık"
   ]
  },
  {
   "cell_type": "code",
   "execution_count": 42,
   "id": "d315e4f8",
   "metadata": {},
   "outputs": [
    {
     "data": {
      "text/plain": [
       "array([ 0,  1,  2,  3,  4,  5,  6,  7,  8,  9, 10, 11, 12, 13, 14, 15, 16,\n",
       "       17, 18, 19, 20, 21, 22, 23, 24, 25, 26, 27, 28, 29])"
      ]
     },
     "execution_count": 42,
     "metadata": {},
     "output_type": "execute_result"
    }
   ],
   "source": [
    "benimNumpyDizim"
   ]
  },
  {
   "cell_type": "code",
   "execution_count": 45,
   "id": "9b8e568b",
   "metadata": {},
   "outputs": [],
   "source": [
    "reshapeDizim=benimNumpyDizim.reshape(5,6)"
   ]
  },
  {
   "cell_type": "code",
   "execution_count": 46,
   "id": "cce7cce4",
   "metadata": {},
   "outputs": [
    {
     "data": {
      "text/plain": [
       "array([[ 0,  1,  2,  3,  4,  5],\n",
       "       [ 6,  7,  8,  9, 10, 11],\n",
       "       [12, 13, 14, 15, 16, 17],\n",
       "       [18, 19, 20, 21, 22, 23],\n",
       "       [24, 25, 26, 27, 28, 29]])"
      ]
     },
     "execution_count": 46,
     "metadata": {},
     "output_type": "execute_result"
    }
   ],
   "source": [
    "reshapeDizim"
   ]
  },
  {
   "cell_type": "code",
   "execution_count": 47,
   "id": "72e42414",
   "metadata": {},
   "outputs": [
    {
     "data": {
      "text/plain": [
       "(5, 6)"
      ]
     },
     "execution_count": 47,
     "metadata": {},
     "output_type": "execute_result"
    }
   ],
   "source": [
    "reshapeDizim.shape #güncel dizimin hangi şekle sahip olduğunu bu şekilde alabilirim"
   ]
  },
  {
   "cell_type": "code",
   "execution_count": null,
   "id": "2cd2e8bd",
   "metadata": {},
   "outputs": [],
   "source": []
  }
 ],
 "metadata": {
  "kernelspec": {
   "display_name": "Python 3 (ipykernel)",
   "language": "python",
   "name": "python3"
  },
  "language_info": {
   "codemirror_mode": {
    "name": "ipython",
    "version": 3
   },
   "file_extension": ".py",
   "mimetype": "text/x-python",
   "name": "python",
   "nbconvert_exporter": "python",
   "pygments_lexer": "ipython3",
   "version": "3.11.4"
  }
 },
 "nbformat": 4,
 "nbformat_minor": 5
}
