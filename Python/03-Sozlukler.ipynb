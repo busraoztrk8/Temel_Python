{
 "cells": [
  {
   "cell_type": "code",
   "execution_count": 1,
   "id": "f1bfd6d8",
   "metadata": {},
   "outputs": [],
   "source": [
    "#index mantığı ile çalışmıyor"
   ]
  },
  {
   "cell_type": "markdown",
   "id": "77a6a3d4",
   "metadata": {},
   "source": [
    "# Key-Value Pairing(anahtar kelime-değer eşleşmesi )"
   ]
  },
  {
   "cell_type": "code",
   "execution_count": 2,
   "id": "bd7c382c",
   "metadata": {},
   "outputs": [],
   "source": [
    "benimYemeklerim=[\"Elma\",\"Karpuz\",\"Muz\"]"
   ]
  },
  {
   "cell_type": "code",
   "execution_count": 3,
   "id": "32529e8c",
   "metadata": {},
   "outputs": [],
   "source": [
    "benimKalorilerim=[100,200,300]"
   ]
  },
  {
   "cell_type": "code",
   "execution_count": 4,
   "id": "7d7f3b5d",
   "metadata": {},
   "outputs": [
    {
     "data": {
      "text/plain": [
       "'Karpuz'"
      ]
     },
     "execution_count": 4,
     "metadata": {},
     "output_type": "execute_result"
    }
   ],
   "source": [
    "benimYemeklerim[1]"
   ]
  },
  {
   "cell_type": "code",
   "execution_count": 6,
   "id": "c3598250",
   "metadata": {},
   "outputs": [
    {
     "data": {
      "text/plain": [
       "200"
      ]
     },
     "execution_count": 6,
     "metadata": {},
     "output_type": "execute_result"
    }
   ],
   "source": [
    "benimKalorilerim[1]"
   ]
  },
  {
   "cell_type": "code",
   "execution_count": 7,
   "id": "7b4c1ede",
   "metadata": {},
   "outputs": [],
   "source": [
    "#dictionary\n",
    "benimSozluk={\"anahtarKelime\":\"deger\"}"
   ]
  },
  {
   "cell_type": "code",
   "execution_count": 8,
   "id": "e9a0e048",
   "metadata": {},
   "outputs": [
    {
     "data": {
      "text/plain": [
       "dict"
      ]
     },
     "execution_count": 8,
     "metadata": {},
     "output_type": "execute_result"
    }
   ],
   "source": [
    "type(benimSozluk)"
   ]
  },
  {
   "cell_type": "code",
   "execution_count": 9,
   "id": "5f41b99f",
   "metadata": {},
   "outputs": [
    {
     "data": {
      "text/plain": [
       "{'anahtarKelime': 'deger'}"
      ]
     },
     "execution_count": 9,
     "metadata": {},
     "output_type": "execute_result"
    }
   ],
   "source": [
    "benimSozluk"
   ]
  },
  {
   "cell_type": "code",
   "execution_count": 10,
   "id": "3d80b016",
   "metadata": {},
   "outputs": [
    {
     "data": {
      "text/plain": [
       "'deger'"
      ]
     },
     "execution_count": 10,
     "metadata": {},
     "output_type": "execute_result"
    }
   ],
   "source": [
    " benimSozluk[\"anahtarKelime\"]"
   ]
  },
  {
   "cell_type": "code",
   "execution_count": 11,
   "id": "1cb44937",
   "metadata": {},
   "outputs": [],
   "source": [
    "benimYemekKaloriSozlugum={\"elma\":100,\"karpuz\":200,\"muz\":300}"
   ]
  },
  {
   "cell_type": "code",
   "execution_count": 13,
   "id": "7d2d421e",
   "metadata": {},
   "outputs": [
    {
     "data": {
      "text/plain": [
       "300"
      ]
     },
     "execution_count": 13,
     "metadata": {},
     "output_type": "execute_result"
    }
   ],
   "source": [
    "benimYemekKaloriSozlugum[\"muz\"]"
   ]
  },
  {
   "cell_type": "code",
   "execution_count": 14,
   "id": "53bfa7e2",
   "metadata": {},
   "outputs": [],
   "source": [
    "benimYemekKaloriSozlugum[\"elma\"]=200"
   ]
  },
  {
   "cell_type": "code",
   "execution_count": 15,
   "id": "cc8dac4d",
   "metadata": {},
   "outputs": [
    {
     "data": {
      "text/plain": [
       "{'elma': 200, 'karpuz': 200, 'muz': 300}"
      ]
     },
     "execution_count": 15,
     "metadata": {},
     "output_type": "execute_result"
    }
   ],
   "source": [
    "benimYemekKaloriSozlugum"
   ]
  },
  {
   "cell_type": "code",
   "execution_count": 16,
   "id": "c84de56a",
   "metadata": {},
   "outputs": [],
   "source": [
    "benimDegisikSozlugum={1:\"büşra\",2:\"atlas\"}"
   ]
  },
  {
   "cell_type": "code",
   "execution_count": 18,
   "id": "ae6eac48",
   "metadata": {},
   "outputs": [
    {
     "data": {
      "text/plain": [
       "'atlas'"
      ]
     },
     "execution_count": 18,
     "metadata": {},
     "output_type": "execute_result"
    }
   ],
   "source": [
    "benimDegisikSozlugum[2]"
   ]
  },
  {
   "cell_type": "code",
   "execution_count": 19,
   "id": "8e41f10b",
   "metadata": {},
   "outputs": [],
   "source": [
    "benimDegisikSozlugum2={150:\"büşra\",-2:\"atlas\"}"
   ]
  },
  {
   "cell_type": "code",
   "execution_count": 20,
   "id": "0f64d737",
   "metadata": {},
   "outputs": [
    {
     "data": {
      "text/plain": [
       "'atlas'"
      ]
     },
     "execution_count": 20,
     "metadata": {},
     "output_type": "execute_result"
    }
   ],
   "source": [
    "benimDegisikSozlugum2[-2]"
   ]
  },
  {
   "cell_type": "code",
   "execution_count": 24,
   "id": "2f16bfa3",
   "metadata": {},
   "outputs": [],
   "source": [
    "yeniDictionary={\"anahtar1\":100,\"anahtar2\":[10,20,30,40,4.5,\"atıl\"],\"anahtar3\":\n",
    "               {\"anahtar9\":4}}"
   ]
  },
  {
   "cell_type": "code",
   "execution_count": 22,
   "id": "c833779f",
   "metadata": {},
   "outputs": [
    {
     "data": {
      "text/plain": [
       "dict_keys(['anahtar1', 'anahtar2', 'anahtar3'])"
      ]
     },
     "execution_count": 22,
     "metadata": {},
     "output_type": "execute_result"
    }
   ],
   "source": [
    "yeniDictionary.keys()"
   ]
  },
  {
   "cell_type": "code",
   "execution_count": 25,
   "id": "0b83e96d",
   "metadata": {},
   "outputs": [
    {
     "data": {
      "text/plain": [
       "dict_values([100, [10, 20, 30, 40, 4.5, 'atıl'], {'anahtar9': 4}])"
      ]
     },
     "execution_count": 25,
     "metadata": {},
     "output_type": "execute_result"
    }
   ],
   "source": [
    "#Değerlere ihtiyaç duyarsak\n",
    "yeniDictionary.values()"
   ]
  },
  {
   "cell_type": "code",
   "execution_count": 33,
   "id": "0b9df5af",
   "metadata": {},
   "outputs": [],
   "source": [
    "yeniDic=yeniDictionary[\"anahtar2\"]"
   ]
  },
  {
   "cell_type": "code",
   "execution_count": 34,
   "id": "f8d2b42b",
   "metadata": {},
   "outputs": [
    {
     "data": {
      "text/plain": [
       "'atıl'"
      ]
     },
     "execution_count": 34,
     "metadata": {},
     "output_type": "execute_result"
    }
   ],
   "source": [
    "yeniDic[5]"
   ]
  },
  {
   "cell_type": "code",
   "execution_count": 37,
   "id": "583f921e",
   "metadata": {},
   "outputs": [],
   "source": [
    "yeniDic2=yeniDictionary[\"anahtar3\"]"
   ]
  },
  {
   "cell_type": "code",
   "execution_count": 38,
   "id": "126a9ff7",
   "metadata": {},
   "outputs": [
    {
     "data": {
      "text/plain": [
       "4"
      ]
     },
     "execution_count": 38,
     "metadata": {},
     "output_type": "execute_result"
    }
   ],
   "source": [
    "yeniDic2[\"anahtar9\"]"
   ]
  },
  {
   "cell_type": "code",
   "execution_count": 39,
   "id": "3623a663",
   "metadata": {},
   "outputs": [
    {
     "data": {
      "text/plain": [
       "'atıl'"
      ]
     },
     "execution_count": 39,
     "metadata": {},
     "output_type": "execute_result"
    }
   ],
   "source": [
    "#Daha kısası var\n",
    "yeniDictionary[\"anahtar2\"][-1]"
   ]
  },
  {
   "cell_type": "code",
   "execution_count": 40,
   "id": "26586b2b",
   "metadata": {},
   "outputs": [
    {
     "data": {
      "text/plain": [
       "4"
      ]
     },
     "execution_count": 40,
     "metadata": {},
     "output_type": "execute_result"
    }
   ],
   "source": [
    "yeniDictionary[\"anahtar3\"][\"anahtar9\"]"
   ]
  },
  {
   "cell_type": "code",
   "execution_count": null,
   "id": "f83fed8a",
   "metadata": {},
   "outputs": [],
   "source": []
  }
 ],
 "metadata": {
  "kernelspec": {
   "display_name": "Python 3 (ipykernel)",
   "language": "python",
   "name": "python3"
  },
  "language_info": {
   "codemirror_mode": {
    "name": "ipython",
    "version": 3
   },
   "file_extension": ".py",
   "mimetype": "text/x-python",
   "name": "python",
   "nbconvert_exporter": "python",
   "pygments_lexer": "ipython3",
   "version": "3.11.4"
  }
 },
 "nbformat": 4,
 "nbformat_minor": 5
}
