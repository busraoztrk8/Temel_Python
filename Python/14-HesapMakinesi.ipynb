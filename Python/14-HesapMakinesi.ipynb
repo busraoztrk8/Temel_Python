{
 "cells": [
  {
   "cell_type": "code",
   "execution_count": 4,
   "id": "31de5759",
   "metadata": {},
   "outputs": [
    {
     "name": "stdout",
     "output_type": "stream",
     "text": [
      "İlk sayıyı giriniz: 30\n",
      "İkinci sayıyı giriniz: 40\n",
      "İşlemini seçiniz: +-*//\n"
     ]
    },
    {
     "data": {
      "text/plain": [
       "'30 / 40 = 0.75'"
      ]
     },
     "execution_count": 4,
     "metadata": {},
     "output_type": "execute_result"
    }
   ],
   "source": [
    "def hesapla(a,b,islem):\n",
    "    if islem==\"+\":\n",
    "        return (str(a)+\" + \"+str(b)+\" = \"+str(a+b))\n",
    "    if islem==\"-\":\n",
    "        return (str(a)+\" - \"+str(b)+\" = \"+str(a-b))\n",
    "    if islem==\"*\":\n",
    "        return (str(a)+\" * \"+str(b)+\" = \"+str(a*b))\n",
    "    if islem==\"/\":\n",
    "        return (str(a)+\" / \"+str(b)+\" = \"+str(a/b))\n",
    "      \n",
    "a=int(input(\"İlk sayıyı giriniz: \"))   \n",
    "b=int(input(\"İkinci sayıyı giriniz: \")) \n",
    "islem=input(\"İşlemini seçiniz: +-*/\")\n",
    "\n",
    "hesapla(a,b,islem)"
   ]
  },
  {
   "cell_type": "code",
   "execution_count": 1,
   "id": "9b7f4b24",
   "metadata": {},
   "outputs": [
    {
     "name": "stdout",
     "output_type": "stream",
     "text": [
      "İlk sayıyı giriniz: 10\n",
      "İkinci sayıyı giriniz: 20\n",
      "İşlemini seçiniz: +-*/*\n",
      "10 * 20 = 200\n",
      "------------------------------------\n",
      "İlk sayıyı giriniz: 12\n",
      "İkinci sayıyı giriniz: 9\n",
      "İşlemini seçiniz: +-*/-\n",
      "12 - 9 = 3\n",
      "------------------------------------\n",
      "İlk sayıyı giriniz: 12\n",
      "İkinci sayıyı giriniz: 7\n",
      "İşlemini seçiniz: +-*/büşra\n",
      "Lütfen bu işlemlerden birini seçiniz! +,-,*,/\n",
      "------------------------------------\n"
     ]
    },
    {
     "ename": "KeyboardInterrupt",
     "evalue": "Interrupted by user",
     "output_type": "error",
     "traceback": [
      "\u001b[1;31m---------------------------------------------------------------------------\u001b[0m",
      "\u001b[1;31mKeyboardInterrupt\u001b[0m                         Traceback (most recent call last)",
      "Cell \u001b[1;32mIn[1], line 15\u001b[0m\n\u001b[0;32m     13\u001b[0m \u001b[38;5;66;03m#durmadan dönmesini istiyorum\u001b[39;00m\n\u001b[0;32m     14\u001b[0m \u001b[38;5;28;01mwhile\u001b[39;00m \u001b[38;5;28;01mTrue\u001b[39;00m:\n\u001b[1;32m---> 15\u001b[0m     a\u001b[38;5;241m=\u001b[39m\u001b[38;5;28mint\u001b[39m(\u001b[38;5;28minput\u001b[39m(\u001b[38;5;124m\"\u001b[39m\u001b[38;5;124mİlk sayıyı giriniz: \u001b[39m\u001b[38;5;124m\"\u001b[39m))   \n\u001b[0;32m     16\u001b[0m     b\u001b[38;5;241m=\u001b[39m\u001b[38;5;28mint\u001b[39m(\u001b[38;5;28minput\u001b[39m(\u001b[38;5;124m\"\u001b[39m\u001b[38;5;124mİkinci sayıyı giriniz: \u001b[39m\u001b[38;5;124m\"\u001b[39m)) \n\u001b[0;32m     17\u001b[0m     islem\u001b[38;5;241m=\u001b[39m\u001b[38;5;28minput\u001b[39m(\u001b[38;5;124m\"\u001b[39m\u001b[38;5;124mİşlemini seçiniz: +-*/\u001b[39m\u001b[38;5;124m\"\u001b[39m)\n",
      "File \u001b[1;32mD:\\ANAKONDA\\dowload\\Lib\\site-packages\\ipykernel\\kernelbase.py:1175\u001b[0m, in \u001b[0;36mKernel.raw_input\u001b[1;34m(self, prompt)\u001b[0m\n\u001b[0;32m   1171\u001b[0m \u001b[38;5;28;01mif\u001b[39;00m \u001b[38;5;129;01mnot\u001b[39;00m \u001b[38;5;28mself\u001b[39m\u001b[38;5;241m.\u001b[39m_allow_stdin:\n\u001b[0;32m   1172\u001b[0m     \u001b[38;5;28;01mraise\u001b[39;00m StdinNotImplementedError(\n\u001b[0;32m   1173\u001b[0m         \u001b[38;5;124m\"\u001b[39m\u001b[38;5;124mraw_input was called, but this frontend does not support input requests.\u001b[39m\u001b[38;5;124m\"\u001b[39m\n\u001b[0;32m   1174\u001b[0m     )\n\u001b[1;32m-> 1175\u001b[0m \u001b[38;5;28;01mreturn\u001b[39;00m \u001b[38;5;28mself\u001b[39m\u001b[38;5;241m.\u001b[39m_input_request(\n\u001b[0;32m   1176\u001b[0m     \u001b[38;5;28mstr\u001b[39m(prompt),\n\u001b[0;32m   1177\u001b[0m     \u001b[38;5;28mself\u001b[39m\u001b[38;5;241m.\u001b[39m_parent_ident[\u001b[38;5;124m\"\u001b[39m\u001b[38;5;124mshell\u001b[39m\u001b[38;5;124m\"\u001b[39m],\n\u001b[0;32m   1178\u001b[0m     \u001b[38;5;28mself\u001b[39m\u001b[38;5;241m.\u001b[39mget_parent(\u001b[38;5;124m\"\u001b[39m\u001b[38;5;124mshell\u001b[39m\u001b[38;5;124m\"\u001b[39m),\n\u001b[0;32m   1179\u001b[0m     password\u001b[38;5;241m=\u001b[39m\u001b[38;5;28;01mFalse\u001b[39;00m,\n\u001b[0;32m   1180\u001b[0m )\n",
      "File \u001b[1;32mD:\\ANAKONDA\\dowload\\Lib\\site-packages\\ipykernel\\kernelbase.py:1217\u001b[0m, in \u001b[0;36mKernel._input_request\u001b[1;34m(self, prompt, ident, parent, password)\u001b[0m\n\u001b[0;32m   1214\u001b[0m             \u001b[38;5;28;01mbreak\u001b[39;00m\n\u001b[0;32m   1215\u001b[0m \u001b[38;5;28;01mexcept\u001b[39;00m \u001b[38;5;167;01mKeyboardInterrupt\u001b[39;00m:\n\u001b[0;32m   1216\u001b[0m     \u001b[38;5;66;03m# re-raise KeyboardInterrupt, to truncate traceback\u001b[39;00m\n\u001b[1;32m-> 1217\u001b[0m     \u001b[38;5;28;01mraise\u001b[39;00m \u001b[38;5;167;01mKeyboardInterrupt\u001b[39;00m(\u001b[38;5;124m\"\u001b[39m\u001b[38;5;124mInterrupted by user\u001b[39m\u001b[38;5;124m\"\u001b[39m) \u001b[38;5;28;01mfrom\u001b[39;00m \u001b[38;5;28;01mNone\u001b[39;00m\n\u001b[0;32m   1218\u001b[0m \u001b[38;5;28;01mexcept\u001b[39;00m \u001b[38;5;167;01mException\u001b[39;00m:\n\u001b[0;32m   1219\u001b[0m     \u001b[38;5;28mself\u001b[39m\u001b[38;5;241m.\u001b[39mlog\u001b[38;5;241m.\u001b[39mwarning(\u001b[38;5;124m\"\u001b[39m\u001b[38;5;124mInvalid Message:\u001b[39m\u001b[38;5;124m\"\u001b[39m, exc_info\u001b[38;5;241m=\u001b[39m\u001b[38;5;28;01mTrue\u001b[39;00m)\n",
      "\u001b[1;31mKeyboardInterrupt\u001b[0m: Interrupted by user"
     ]
    }
   ],
   "source": [
    "def hesapla(a,b,islem):\n",
    "    if islem not in \"+-*/\":#bunlardan hariç bir şey girilirse\n",
    "        return \"Lütfen bu işlemlerden birini seçiniz! +,-,*,/\"\n",
    "    if islem==\"+\":\n",
    "        return (str(a)+\" + \"+str(b)+\" = \"+str(a+b))\n",
    "    if islem==\"-\":\n",
    "        return (str(a)+\" - \"+str(b)+\" = \"+str(a-b))\n",
    "    if islem==\"*\":\n",
    "        return (str(a)+\" * \"+str(b)+\" = \"+str(a*b))\n",
    "    if islem==\"/\":\n",
    "        return (str(a)+\" / \"+str(b)+\" = \"+str(a/b))\n",
    "      \n",
    "#durmadan dönmesini istiyorum\n",
    "while True:\n",
    "    a=int(input(\"İlk sayıyı giriniz: \"))   \n",
    "    b=int(input(\"İkinci sayıyı giriniz: \")) \n",
    "    islem=input(\"İşlemini seçiniz: +-*/\")\n",
    "    print(hesapla(a,b,islem))\n",
    "    print(\"------------------------------------\")\n",
    "#açılmadıysa Kernal var yukarıda interrupt yap sonra restart olarak başlat"
   ]
  },
  {
   "cell_type": "code",
   "execution_count": null,
   "id": "c7fda54c",
   "metadata": {},
   "outputs": [
    {
     "name": "stdout",
     "output_type": "stream",
     "text": [
      "İlk sayıyı giriniz: 10\n",
      "İkinci sayıyı giriniz: 20\n",
      "İşlemini seçiniz: +-*/+\n",
      "10 + 20 = 30\n",
      "------------------------------------\n",
      "İlk sayıyı giriniz: büşra\n",
      "Lütfen sayıları düzgün giriniz!\n"
     ]
    }
   ],
   "source": [
    "#Hataları bulma \n",
    "\n",
    "def hesapla(a,b,islem):\n",
    "    if islem not in \"+-*/\":#bunlardan hariç bir şey girilirse\n",
    "        return \"Lütfen bu işlemlerden birini seçiniz! +,-,*,/\"\n",
    "    if islem==\"+\":\n",
    "        return (str(a)+\" + \"+str(b)+\" = \"+str(a+b))\n",
    "    if islem==\"-\":\n",
    "        return (str(a)+\" - \"+str(b)+\" = \"+str(a-b))\n",
    "    if islem==\"*\":\n",
    "        return (str(a)+\" * \"+str(b)+\" = \"+str(a*b))\n",
    "    if islem==\"/\":\n",
    "        return (str(a)+\" / \"+str(b)+\" = \"+str(a/b))\n",
    "      \n",
    "#durmadan dönmesini istiyorum\n",
    "while True:\n",
    "    try:\n",
    "        a=int(input(\"İlk sayıyı giriniz: \")) #büşra girerse program patlar bunun öününe geçmek için try ve except bloklarıyla  \n",
    "        b=int(input(\"İkinci sayıyı giriniz: \")) \n",
    "        islem=input(\"İşlemini seçiniz: +-*/\")\n",
    "        print(hesapla(a,b,islem))\n",
    "        print(\"------------------------------------\")\n",
    "    except:#istisna\n",
    "        print(\"Lütfen sayıları düzgün giriniz!\")\n",
    "    "
   ]
  },
  {
   "cell_type": "code",
   "execution_count": null,
   "id": "f139e2d1",
   "metadata": {},
   "outputs": [],
   "source": []
  }
 ],
 "metadata": {
  "kernelspec": {
   "display_name": "Python 3 (ipykernel)",
   "language": "python",
   "name": "python3"
  },
  "language_info": {
   "codemirror_mode": {
    "name": "ipython",
    "version": 3
   },
   "file_extension": ".py",
   "mimetype": "text/x-python",
   "name": "python",
   "nbconvert_exporter": "python",
   "pygments_lexer": "ipython3",
   "version": "3.11.4"
  }
 },
 "nbformat": 4,
 "nbformat_minor": 5
}
